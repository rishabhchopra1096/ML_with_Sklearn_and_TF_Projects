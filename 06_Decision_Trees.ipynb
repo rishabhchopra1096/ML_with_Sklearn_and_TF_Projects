{
 "cells": [
  {
   "cell_type": "code",
   "execution_count": 18,
   "metadata": {
    "collapsed": true
   },
   "outputs": [],
   "source": [
    "from __future__ import division, print_function , unicode_literals\n",
    "\n",
    "# Commmon Imports\n",
    "import numpy as np\n",
    "import pandas as pd\n",
    "import os\n",
    "\n",
    "# To make this notebook's output stable across runs\n",
    "np.random.seed(42)\n",
    "\n",
    "# To plot pretty figures\n",
    "import matplotlib.pyplot as plt\n",
    "import matplotlib\n",
    "%matplotlib inline\n",
    "plt.rcParams['axes.labelsize'] = 14\n",
    "plt.rcParams['xtick.labelsize'] = 14\n",
    "plt.rcParams['ytick.labelsize'] = 14\n",
    "\n",
    "# Where to save the figures\n",
    "PROJECT_ROOT_DIR = \".\"\n",
    "CHAPTER_ID = \"decision_trees\"\n",
    "\n",
    "def image_path(fig_id):\n",
    "    return os.path.join(PROJECT_ROOT_DIR, \"images\", \n",
    "                            CHAPTER_ID, fig_id)\n",
    "def save_fig(fig_id, tight_layout = True):\n",
    "    print(\"Saving figure\", fig_id)\n",
    "    if tight_layout:\n",
    "        plt.tight_layout()\n",
    "    plt.savefig(image_path(fig_id),format = 'png', dpi = 300)\n",
    "    "
   ]
  },
  {
   "cell_type": "code",
   "execution_count": 2,
   "metadata": {},
   "outputs": [
    {
     "data": {
      "text/html": [
       "<div>\n",
       "<style>\n",
       "    .dataframe thead tr:only-child th {\n",
       "        text-align: right;\n",
       "    }\n",
       "\n",
       "    .dataframe thead th {\n",
       "        text-align: left;\n",
       "    }\n",
       "\n",
       "    .dataframe tbody tr th {\n",
       "        vertical-align: top;\n",
       "    }\n",
       "</style>\n",
       "<table border=\"1\" class=\"dataframe\">\n",
       "  <thead>\n",
       "    <tr style=\"text-align: right;\">\n",
       "      <th></th>\n",
       "      <th>0</th>\n",
       "      <th>1</th>\n",
       "      <th>2</th>\n",
       "    </tr>\n",
       "  </thead>\n",
       "  <tbody>\n",
       "    <tr>\n",
       "      <th>73</th>\n",
       "      <td>4.7</td>\n",
       "      <td>1.2</td>\n",
       "      <td>1.0</td>\n",
       "    </tr>\n",
       "    <tr>\n",
       "      <th>18</th>\n",
       "      <td>1.7</td>\n",
       "      <td>0.3</td>\n",
       "      <td>0.0</td>\n",
       "    </tr>\n",
       "    <tr>\n",
       "      <th>118</th>\n",
       "      <td>6.9</td>\n",
       "      <td>2.3</td>\n",
       "      <td>2.0</td>\n",
       "    </tr>\n",
       "    <tr>\n",
       "      <th>78</th>\n",
       "      <td>4.5</td>\n",
       "      <td>1.5</td>\n",
       "      <td>1.0</td>\n",
       "    </tr>\n",
       "    <tr>\n",
       "      <th>76</th>\n",
       "      <td>4.8</td>\n",
       "      <td>1.4</td>\n",
       "      <td>1.0</td>\n",
       "    </tr>\n",
       "    <tr>\n",
       "      <th>31</th>\n",
       "      <td>1.5</td>\n",
       "      <td>0.4</td>\n",
       "      <td>0.0</td>\n",
       "    </tr>\n",
       "    <tr>\n",
       "      <th>64</th>\n",
       "      <td>3.6</td>\n",
       "      <td>1.3</td>\n",
       "      <td>1.0</td>\n",
       "    </tr>\n",
       "    <tr>\n",
       "      <th>141</th>\n",
       "      <td>5.1</td>\n",
       "      <td>2.3</td>\n",
       "      <td>2.0</td>\n",
       "    </tr>\n",
       "  </tbody>\n",
       "</table>\n",
       "</div>"
      ],
      "text/plain": [
       "       0    1    2\n",
       "73   4.7  1.2  1.0\n",
       "18   1.7  0.3  0.0\n",
       "118  6.9  2.3  2.0\n",
       "78   4.5  1.5  1.0\n",
       "76   4.8  1.4  1.0\n",
       "31   1.5  0.4  0.0\n",
       "64   3.6  1.3  1.0\n",
       "141  5.1  2.3  2.0"
      ]
     },
     "execution_count": 2,
     "metadata": {},
     "output_type": "execute_result"
    }
   ],
   "source": [
    "from sklearn.datasets import load_iris\n",
    "from sklearn.tree import DecisionTreeClassifier\n",
    "\n",
    "iris = load_iris()\n",
    "X = iris.data[:,2:] # petal length and petal width\n",
    "y = iris.target\n",
    "\n",
    "pd.DataFrame(np.c_[X,y]).sample(frac = 5/100,\n",
    "                                random_state = 42)"
   ]
  },
  {
   "cell_type": "code",
   "execution_count": 3,
   "metadata": {},
   "outputs": [
    {
     "data": {
      "text/plain": [
       "DecisionTreeClassifier(class_weight=None, criterion='gini', max_depth=2,\n",
       "            max_features=None, max_leaf_nodes=None,\n",
       "            min_impurity_split=1e-07, min_samples_leaf=1,\n",
       "            min_samples_split=2, min_weight_fraction_leaf=0.0,\n",
       "            presort=False, random_state=42, splitter='best')"
      ]
     },
     "execution_count": 3,
     "metadata": {},
     "output_type": "execute_result"
    }
   ],
   "source": [
    "tree_clf = DecisionTreeClassifier(max_depth = 2, \n",
    "                                 random_state = 42)\n",
    "tree_clf.fit(X,y)"
   ]
  },
  {
   "cell_type": "markdown",
   "metadata": {},
   "source": [
    "- You can visualize the trainined Decision Tree by first using the `export_graphviz()` method to output a graph definition file called _iris_tree.dot_: "
   ]
  },
  {
   "cell_type": "code",
   "execution_count": 4,
   "metadata": {
    "collapsed": true
   },
   "outputs": [],
   "source": [
    "from sklearn.tree import export_graphviz\n",
    "\n",
    "export_graphviz(tree_clf, \n",
    "                out_file = image_path(\"iris_tree.dot\"),\n",
    "               feature_names = iris.feature_names[2:],\n",
    "               class_names = iris.target_names,\n",
    "               rounded = True,\n",
    "               filled = True)"
   ]
  },
  {
   "cell_type": "code",
   "execution_count": 5,
   "metadata": {},
   "outputs": [
    {
     "data": {
      "text/plain": [
       "array(['setosa', 'versicolor', 'virginica'], \n",
       "      dtype='<U10')"
      ]
     },
     "execution_count": 5,
     "metadata": {},
     "output_type": "execute_result"
    }
   ],
   "source": [
    "iris.target_names"
   ]
  },
  {
   "cell_type": "code",
   "execution_count": 6,
   "metadata": {},
   "outputs": [
    {
     "data": {
      "text/plain": [
       "['sepal length (cm)',\n",
       " 'sepal width (cm)',\n",
       " 'petal length (cm)',\n",
       " 'petal width (cm)']"
      ]
     },
     "execution_count": 6,
     "metadata": {},
     "output_type": "execute_result"
    }
   ],
   "source": [
    "iris.feature_names"
   ]
  },
  {
   "cell_type": "code",
   "execution_count": 7,
   "metadata": {},
   "outputs": [
    {
     "data": {
      "text/plain": [
       "50"
      ]
     },
     "execution_count": 7,
     "metadata": {},
     "output_type": "execute_result"
    }
   ],
   "source": [
    "# Proving that all the setosa flowers have petal length \n",
    "# less than or equal to 2.45\n",
    "np.sum(X[:,0][y==0] <= 2.45)"
   ]
  },
  {
   "cell_type": "code",
   "execution_count": 8,
   "metadata": {},
   "outputs": [
    {
     "data": {
      "text/plain": [
       "0"
      ]
     },
     "execution_count": 8,
     "metadata": {},
     "output_type": "execute_result"
    }
   ],
   "source": [
    "# Proving there is no setosa with petal length greater than\n",
    "# 2.45\n",
    "np.sum(X[:,0][y==0] > 2.45)"
   ]
  },
  {
   "cell_type": "code",
   "execution_count": 9,
   "metadata": {},
   "outputs": [
    {
     "data": {
      "text/plain": [
       "100"
      ]
     },
     "execution_count": 9,
     "metadata": {},
     "output_type": "execute_result"
    }
   ],
   "source": [
    "# Proving there are 100 flowers with petal length greater than\n",
    "# 2.45\n",
    "np.sum(X[:,0][y!=0] > 2.45)"
   ]
  },
  {
   "cell_type": "code",
   "execution_count": 10,
   "metadata": {},
   "outputs": [
    {
     "data": {
      "text/plain": [
       "49"
      ]
     },
     "execution_count": 10,
     "metadata": {},
     "output_type": "execute_result"
    }
   ],
   "source": [
    "# Proving that most of the Versicolor (49/50) flowers have\n",
    "# petal width <= 1.75. \n",
    "np.sum(X[:,1][y==1] <= 1.75)"
   ]
  },
  {
   "cell_type": "code",
   "execution_count": 11,
   "metadata": {},
   "outputs": [
    {
     "data": {
      "text/plain": [
       "5"
      ]
     },
     "execution_count": 11,
     "metadata": {},
     "output_type": "execute_result"
    }
   ],
   "source": [
    "# Proving that 5 of the Iris Virginica (5/50) flowers \n",
    "# have petal width < 1.75\n",
    "np.sum(X[:,1][y==2] < 1.75)"
   ]
  },
  {
   "cell_type": "code",
   "execution_count": 12,
   "metadata": {},
   "outputs": [
    {
     "data": {
      "text/plain": [
       "1"
      ]
     },
     "execution_count": 12,
     "metadata": {},
     "output_type": "execute_result"
    }
   ],
   "source": [
    "# Proving that one of the Versicolor (1/50) flowers have\n",
    "# petal width > 1.75. \n",
    "np.sum(X[:,1][y==1] > 1.75)"
   ]
  },
  {
   "cell_type": "code",
   "execution_count": 13,
   "metadata": {},
   "outputs": [
    {
     "data": {
      "text/plain": [
       "45"
      ]
     },
     "execution_count": 13,
     "metadata": {},
     "output_type": "execute_result"
    }
   ],
   "source": [
    "# Proving that most of the Iris Virginica (45/50) flowers \n",
    "# have petal width > 1.75\n",
    "np.sum(X[:,1][y==2] > 1.75)"
   ]
  },
  {
   "cell_type": "markdown",
   "metadata": {},
   "source": [
    "<img src = \"images/decision_trees/Decision_Tree_Visualised.png\"> "
   ]
  },
  {
   "cell_type": "markdown",
   "metadata": {},
   "source": [
    "### Making Predictions: \n",
    "\n",
    "- Let's see how the tree represented makes predictions. \n",
    "- Suppose you find an iris flower and you want to classifiy it. \n",
    "- You start at the _root node_ (_Depth = 0_). \n",
    "    - This node asks whther the flower petal's length is smaller than or equal to 2.45. \n",
    "        - If Yes, then you move down to the root's left child node (_Depth = 1, left_). In this case, this node is a _leaf node_, which does not have any children. This means that it does not ask any further questions. You can simply look at the predicted class for that node and the Decision Tree predicts that your flower is an Iris-Setosa. (`class = setosa`) \n",
    "        - If No, (Petal Length > 2.45). You move down to the root's right child node (_Depth = 1_), right. In this case this node is not a leaf node. So it asks another question: \n",
    "        - Is the petal width <= 1.75cm? \n",
    "            - If it is, then your flower is most likely an Iris-Versicolor (_depth = 2_, left).\n",
    "            - If not, the your flower is liekly an Iris-Virginica (_depth = 2_, right). \n",
    "            - It's really that simple. \n",
    "            "
   ]
  },
  {
   "cell_type": "markdown",
   "metadata": {},
   "source": [
    "__Note:__ one of the many qualities of Decision Trees is that they require very little data preperation. \n",
    "In particular, they do not require feature scaling or centering at all. \n"
   ]
  },
  {
   "cell_type": "markdown",
   "metadata": {},
   "source": [
    "- A node's `samples` attribute counts how many training instances it applies to. \n",
    "    - For example, 100 training instances have a petal length greater than 2.45 cm (_depth = 1_, right), amoing which 54 have a petal width smaller than 1.75(_depth2, left).   \n",
    "    \n",
    "- A node's `value` attribute tells you how many instance of each class this node applies to. Basically tells you the distibution of the samples in each class (for that particular condition). \n",
    "    - For examples, the bottom right(_petal width > 1.75_) node applies to :\n",
    "        - 0 Iris Setosa\n",
    "        - 1 Iris Versicolor (See above code)\n",
    "        - 45 Iris Verginica (See above code) \n",
    "- A node's `gini` attribute measures its _impurity_: a node is \"pure\"(gini = 0) if all the training instance it applies to(True/False for) belong to the same class. \n",
    "    - For example, since the _depth = 1_, left node applies to only the Iris-Setosa training instances, it is _pure_ and it's `gini` score is 0. \n",
    "    - # $G_i = 1 - \\sum_{k=1}^n p_{i,k}^2$\n",
    "    - where $p_{i,k}$ is the ratio of class _k_ instances among the training instances in the $i^th$ node. \n",
    "    - Another examples would be the _depth = 2_ node, which has a `gini` score = $ 1 - (0/54)^2 - (49/54)^2 - (5/54)^2 \\approx 0.168 $ \n",
    "   \n",
    "__Note:__ Scikit-Learning uses the CART algorithm, which produces _binary trees_: This means that _non-leaf_ nodes always have two children (i.e questions only have yes/no answers). However, other algorithms such as ID3 can produce Decision Trees with nodes that  hvae more than 2 children. \n"
   ]
  },
  {
   "cell_type": "code",
   "execution_count": 14,
   "metadata": {},
   "outputs": [
    {
     "data": {
      "text/plain": [
       "(1.0, 6.9000000000000004, 0.10000000000000001, 2.5)"
      ]
     },
     "execution_count": 14,
     "metadata": {},
     "output_type": "execute_result"
    }
   ],
   "source": [
    "X[:,0].min(), X[:,0].max(), X[:,1].min(), X[:,1].max()"
   ]
  },
  {
   "cell_type": "code",
   "execution_count": 15,
   "metadata": {},
   "outputs": [
    {
     "name": "stdout",
     "output_type": "stream",
     "text": [
      "[ 1.     2.625  4.25   5.875  7.5  ]\n",
      "[ 0.    0.75  1.5   2.25  3.  ]\n",
      "     0      1     2      3    4     5     6     7     8     9\n",
      "0  1.0  2.625  4.25  5.875  7.5  0.00  0.00  0.00  0.00  0.00\n",
      "1  1.0  2.625  4.25  5.875  7.5  0.75  0.75  0.75  0.75  0.75\n",
      "2  1.0  2.625  4.25  5.875  7.5  1.50  1.50  1.50  1.50  1.50\n",
      "3  1.0  2.625  4.25  5.875  7.5  2.25  2.25  2.25  2.25  2.25\n",
      "4  1.0  2.625  4.25  5.875  7.5  3.00  3.00  3.00  3.00  3.00\n"
     ]
    },
    {
     "data": {
      "text/html": [
       "<div>\n",
       "<style>\n",
       "    .dataframe thead tr:only-child th {\n",
       "        text-align: right;\n",
       "    }\n",
       "\n",
       "    .dataframe thead th {\n",
       "        text-align: left;\n",
       "    }\n",
       "\n",
       "    .dataframe tbody tr th {\n",
       "        vertical-align: top;\n",
       "    }\n",
       "</style>\n",
       "<table border=\"1\" class=\"dataframe\">\n",
       "  <thead>\n",
       "    <tr style=\"text-align: right;\">\n",
       "      <th></th>\n",
       "      <th>0</th>\n",
       "      <th>1</th>\n",
       "    </tr>\n",
       "  </thead>\n",
       "  <tbody>\n",
       "    <tr>\n",
       "      <th>0</th>\n",
       "      <td>1.000</td>\n",
       "      <td>0.00</td>\n",
       "    </tr>\n",
       "    <tr>\n",
       "      <th>1</th>\n",
       "      <td>2.625</td>\n",
       "      <td>0.00</td>\n",
       "    </tr>\n",
       "    <tr>\n",
       "      <th>2</th>\n",
       "      <td>4.250</td>\n",
       "      <td>0.00</td>\n",
       "    </tr>\n",
       "    <tr>\n",
       "      <th>3</th>\n",
       "      <td>5.875</td>\n",
       "      <td>0.00</td>\n",
       "    </tr>\n",
       "    <tr>\n",
       "      <th>4</th>\n",
       "      <td>7.500</td>\n",
       "      <td>0.00</td>\n",
       "    </tr>\n",
       "    <tr>\n",
       "      <th>5</th>\n",
       "      <td>1.000</td>\n",
       "      <td>0.75</td>\n",
       "    </tr>\n",
       "    <tr>\n",
       "      <th>6</th>\n",
       "      <td>2.625</td>\n",
       "      <td>0.75</td>\n",
       "    </tr>\n",
       "    <tr>\n",
       "      <th>7</th>\n",
       "      <td>4.250</td>\n",
       "      <td>0.75</td>\n",
       "    </tr>\n",
       "    <tr>\n",
       "      <th>8</th>\n",
       "      <td>5.875</td>\n",
       "      <td>0.75</td>\n",
       "    </tr>\n",
       "    <tr>\n",
       "      <th>9</th>\n",
       "      <td>7.500</td>\n",
       "      <td>0.75</td>\n",
       "    </tr>\n",
       "    <tr>\n",
       "      <th>10</th>\n",
       "      <td>1.000</td>\n",
       "      <td>1.50</td>\n",
       "    </tr>\n",
       "    <tr>\n",
       "      <th>11</th>\n",
       "      <td>2.625</td>\n",
       "      <td>1.50</td>\n",
       "    </tr>\n",
       "    <tr>\n",
       "      <th>12</th>\n",
       "      <td>4.250</td>\n",
       "      <td>1.50</td>\n",
       "    </tr>\n",
       "    <tr>\n",
       "      <th>13</th>\n",
       "      <td>5.875</td>\n",
       "      <td>1.50</td>\n",
       "    </tr>\n",
       "    <tr>\n",
       "      <th>14</th>\n",
       "      <td>7.500</td>\n",
       "      <td>1.50</td>\n",
       "    </tr>\n",
       "    <tr>\n",
       "      <th>15</th>\n",
       "      <td>1.000</td>\n",
       "      <td>2.25</td>\n",
       "    </tr>\n",
       "    <tr>\n",
       "      <th>16</th>\n",
       "      <td>2.625</td>\n",
       "      <td>2.25</td>\n",
       "    </tr>\n",
       "    <tr>\n",
       "      <th>17</th>\n",
       "      <td>4.250</td>\n",
       "      <td>2.25</td>\n",
       "    </tr>\n",
       "    <tr>\n",
       "      <th>18</th>\n",
       "      <td>5.875</td>\n",
       "      <td>2.25</td>\n",
       "    </tr>\n",
       "    <tr>\n",
       "      <th>19</th>\n",
       "      <td>7.500</td>\n",
       "      <td>2.25</td>\n",
       "    </tr>\n",
       "    <tr>\n",
       "      <th>20</th>\n",
       "      <td>1.000</td>\n",
       "      <td>3.00</td>\n",
       "    </tr>\n",
       "    <tr>\n",
       "      <th>21</th>\n",
       "      <td>2.625</td>\n",
       "      <td>3.00</td>\n",
       "    </tr>\n",
       "    <tr>\n",
       "      <th>22</th>\n",
       "      <td>4.250</td>\n",
       "      <td>3.00</td>\n",
       "    </tr>\n",
       "    <tr>\n",
       "      <th>23</th>\n",
       "      <td>5.875</td>\n",
       "      <td>3.00</td>\n",
       "    </tr>\n",
       "    <tr>\n",
       "      <th>24</th>\n",
       "      <td>7.500</td>\n",
       "      <td>3.00</td>\n",
       "    </tr>\n",
       "  </tbody>\n",
       "</table>\n",
       "</div>"
      ],
      "text/plain": [
       "        0     1\n",
       "0   1.000  0.00\n",
       "1   2.625  0.00\n",
       "2   4.250  0.00\n",
       "3   5.875  0.00\n",
       "4   7.500  0.00\n",
       "5   1.000  0.75\n",
       "6   2.625  0.75\n",
       "7   4.250  0.75\n",
       "8   5.875  0.75\n",
       "9   7.500  0.75\n",
       "10  1.000  1.50\n",
       "11  2.625  1.50\n",
       "12  4.250  1.50\n",
       "13  5.875  1.50\n",
       "14  7.500  1.50\n",
       "15  1.000  2.25\n",
       "16  2.625  2.25\n",
       "17  4.250  2.25\n",
       "18  5.875  2.25\n",
       "19  7.500  2.25\n",
       "20  1.000  3.00\n",
       "21  2.625  3.00\n",
       "22  4.250  3.00\n",
       "23  5.875  3.00\n",
       "24  7.500  3.00"
      ]
     },
     "execution_count": 15,
     "metadata": {},
     "output_type": "execute_result"
    }
   ],
   "source": [
    "axes = [1,7.5, 0, 3]\n",
    "x1s = np.linspace(axes[0],axes[1],5)\n",
    "# 100 sample values for petal length \n",
    "\n",
    "x2s = np.linspace(axes[2], axes[3], 5)\n",
    "# 100 sample values for petal width\n",
    "\n",
    "x1, x2 = np.meshgrid(x1s, x2s)\n",
    "# x1 = Makes 100 by 100 array with each row = x1s\n",
    "# x2 = 100 by 100 array with each row = x2s\n",
    "print(x1s)\n",
    "print(x2s)\n",
    "print(pd.DataFrame(np.c_[x1,x2]))\n",
    "pd.DataFrame(np.c_[x1.ravel(), x2.ravel()])"
   ]
  },
  {
   "cell_type": "code",
   "execution_count": 16,
   "metadata": {
    "collapsed": true
   },
   "outputs": [],
   "source": [
    "from matplotlib.colors import ListedColormap\n",
    "\n",
    "axes=[0, 7.5, 0, 3]\n",
    "iris=True\n",
    "legend=False\n",
    "plot_training=True\n",
    "\n",
    "x1s = np.linspace(axes[0],axes[1],100)\n",
    "# 100 sample values for petal length \n",
    "\n",
    "x2s = np.linspace(axes[2], axes[3], 100)\n",
    "# 100 sample values for petal width\n",
    "\n",
    "x1, x2 = np.meshgrid(x1s, x2s)\n",
    "# x1 = Makes 100 by 100 array with each row = x1s\n",
    "# x2 = 100 by 100 array with each column = x2s"
   ]
  },
  {
   "cell_type": "code",
   "execution_count": 17,
   "metadata": {},
   "outputs": [
    {
     "data": {
      "text/html": [
       "<div>\n",
       "<style>\n",
       "    .dataframe thead tr:only-child th {\n",
       "        text-align: right;\n",
       "    }\n",
       "\n",
       "    .dataframe thead th {\n",
       "        text-align: left;\n",
       "    }\n",
       "\n",
       "    .dataframe tbody tr th {\n",
       "        vertical-align: top;\n",
       "    }\n",
       "</style>\n",
       "<table border=\"1\" class=\"dataframe\">\n",
       "  <thead>\n",
       "    <tr style=\"text-align: right;\">\n",
       "      <th></th>\n",
       "      <th>0</th>\n",
       "      <th>1</th>\n",
       "    </tr>\n",
       "  </thead>\n",
       "  <tbody>\n",
       "    <tr>\n",
       "      <th>6252</th>\n",
       "      <td>3.939394</td>\n",
       "      <td>1.878788</td>\n",
       "    </tr>\n",
       "    <tr>\n",
       "      <th>4684</th>\n",
       "      <td>6.363636</td>\n",
       "      <td>1.393939</td>\n",
       "    </tr>\n",
       "    <tr>\n",
       "      <th>1731</th>\n",
       "      <td>2.348485</td>\n",
       "      <td>0.515152</td>\n",
       "    </tr>\n",
       "  </tbody>\n",
       "</table>\n",
       "</div>"
      ],
      "text/plain": [
       "             0         1\n",
       "6252  3.939394  1.878788\n",
       "4684  6.363636  1.393939\n",
       "1731  2.348485  0.515152"
      ]
     },
     "execution_count": 17,
     "metadata": {},
     "output_type": "execute_result"
    }
   ],
   "source": [
    "X_new = np.c_[x1.ravel(), x2.ravel()]\n",
    "# (10,000,2) input array with each possible petal length\n",
    "# matched with each possible petal width, making sure\n",
    "# we cover the whole possible sample area. \n",
    "\n",
    "# Proving that each row has a unique combination of \n",
    "# petal length, petal width: \n",
    "(pd.DataFrame(X_new) == pd.DataFrame(X_new).drop_duplicates()).all()\n",
    "\n",
    "pd.DataFrame(X_new).sample(frac = 3/10000, random_state = 42)\n"
   ]
  },
  {
   "cell_type": "code",
   "execution_count": 18,
   "metadata": {},
   "outputs": [
    {
     "data": {
      "text/html": [
       "<div>\n",
       "<style>\n",
       "    .dataframe thead tr:only-child th {\n",
       "        text-align: right;\n",
       "    }\n",
       "\n",
       "    .dataframe thead th {\n",
       "        text-align: left;\n",
       "    }\n",
       "\n",
       "    .dataframe tbody tr th {\n",
       "        vertical-align: top;\n",
       "    }\n",
       "</style>\n",
       "<table border=\"1\" class=\"dataframe\">\n",
       "  <thead>\n",
       "    <tr style=\"text-align: right;\">\n",
       "      <th></th>\n",
       "      <th>0</th>\n",
       "      <th>1</th>\n",
       "      <th>2</th>\n",
       "    </tr>\n",
       "  </thead>\n",
       "  <tbody>\n",
       "    <tr>\n",
       "      <th>52</th>\n",
       "      <td>1.439394</td>\n",
       "      <td>0.030303</td>\n",
       "      <td>0.0</td>\n",
       "    </tr>\n",
       "    <tr>\n",
       "      <th>62</th>\n",
       "      <td>4.696970</td>\n",
       "      <td>0.000000</td>\n",
       "      <td>1.0</td>\n",
       "    </tr>\n",
       "    <tr>\n",
       "      <th>1386</th>\n",
       "      <td>6.515152</td>\n",
       "      <td>2.151515</td>\n",
       "      <td>2.0</td>\n",
       "    </tr>\n",
       "  </tbody>\n",
       "</table>\n",
       "</div>"
      ],
      "text/plain": [
       "             0         1    2\n",
       "52    1.439394  0.030303  0.0\n",
       "62    4.696970  0.000000  1.0\n",
       "1386  6.515152  2.151515  2.0"
      ]
     },
     "execution_count": 18,
     "metadata": {},
     "output_type": "execute_result"
    }
   ],
   "source": [
    "y_pred = tree_clf.predict(X_new)\n",
    "# (10000, ) reshaped to a 100,100 array\n",
    "# In this array, the first row has predictions for the \n",
    "# first 100 unique combination of petal length and petal\n",
    "# width. Then, from the second row, the row is repeated\n",
    "# 99 more times. \n",
    "\n",
    "setosa = pd.DataFrame(np.c_[X_new[X_new[:,0] <= 2.45], y_pred[X_new[:,0]<= 2.45]]).sample(frac = 1/2400, random_state = 42)\n",
    "\n",
    "versicolor = pd.DataFrame(np.c_[X_new[X_new[:,1]<= 1.75], y_pred[X_new[:,1]<= 1.75]]).sample(random_state = 12)\n",
    "\n",
    "virginica = pd.DataFrame(np.c_[X_new[X_new[:,1] > 1.75], y_pred[X_new[:,1] > 1.75]]).sample(random_state = 30)\n",
    "\n",
    "setosa.append([versicolor,virginica])\n"
   ]
  },
  {
   "cell_type": "code",
   "execution_count": 19,
   "metadata": {},
   "outputs": [
    {
     "data": {
      "text/plain": [
       "<matplotlib.contour.QuadContourSet at 0x110146cc0>"
      ]
     },
     "execution_count": 19,
     "metadata": {},
     "output_type": "execute_result"
    },
    {
     "data": {
      "image/png": "[encoded data removed]",
      "text/plain": [
       "<matplotlib.figure.Figure at 0x10da91f60>"
      ]
     },
     "metadata": {},
     "output_type": "display_data"
    }
   ],
   "source": [
    "y_pred = y_pred.reshape(x1.shape)\n",
    "\n",
    "custom_cmap = ListedColormap(['#fafab0','#9898ff','#a0faa0'])\n",
    "plt.contourf(x1, x2, y_pred, alpha=0.3, cmap=custom_cmap, linewidth=10)\n",
    "# if not iris:\n",
    "#     custom_cmap2 = ListedColormap(['#7d7d58','#4c4c7f','#507d50'])\n",
    "#     plt.contour(x1, x2, y_pred, cmap=custom_cmap2, alpha=0.8)"
   ]
  },
  {
   "cell_type": "code",
   "execution_count": 20,
   "metadata": {},
   "outputs": [
    {
     "data": {
      "image/png": "[encoded data removed]",
      "text/plain": [
       "<matplotlib.figure.Figure at 0x110246d30>"
      ]
     },
     "metadata": {},
     "output_type": "display_data"
    }
   ],
   "source": [
    "custom_cmap = ListedColormap(['#fafab0','#9898ff','#a0faa0'])\n",
    "plt.contourf(x1, x2, y_pred, alpha=0.3, cmap=custom_cmap, linewidth=10)\n",
    "if not iris:\n",
    "    custom_cmap2 = ListedColormap(['#7d7d58','#4c4c7f','#507d50'])\n",
    "    plt.contour(x1, x2, y_pred, cmap=custom_cmap2, alpha=0.8)\n",
    "if plot_training:\n",
    "    plt.plot(X[:, 0][y==0], X[:, 1][y==0], \"yo\", label=\"Iris-Setosa\")\n",
    "    plt.plot(X[:, 0][y==1], X[:, 1][y==1], \"bs\", label=\"Iris-Versicolor\")\n",
    "    plt.plot(X[:, 0][y==2], X[:, 1][y==2], \"g^\", label=\"Iris-Virginica\")\n",
    "    plt.axis(axes)\n"
   ]
  },
  {
   "cell_type": "code",
   "execution_count": 21,
   "metadata": {},
   "outputs": [
    {
     "data": {
      "image/png": "[encoded data removed]",
      "text/plain": [
       "<matplotlib.figure.Figure at 0x1103202e8>"
      ]
     },
     "metadata": {},
     "output_type": "display_data"
    }
   ],
   "source": [
    "custom_cmap = ListedColormap(['#fafab0','#9898ff','#a0faa0'])\n",
    "plt.contourf(x1, x2, y_pred, alpha=0.3, cmap=custom_cmap, linewidth=10)\n",
    "if not iris:\n",
    "    custom_cmap2 = ListedColormap(['#7d7d58','#4c4c7f','#507d50'])\n",
    "    plt.contour(x1, x2, y_pred, cmap=custom_cmap2, alpha=0.8)\n",
    "if plot_training:\n",
    "    plt.plot(X[:, 0][y==0], X[:, 1][y==0], \"yo\", label=\"Iris-Setosa\")\n",
    "    plt.plot(X[:, 0][y==1], X[:, 1][y==1], \"bs\", label=\"Iris-Versicolor\")\n",
    "    plt.plot(X[:, 0][y==2], X[:, 1][y==2], \"g^\", label=\"Iris-Virginica\")\n",
    "    plt.axis(axes)\n",
    "if iris:\n",
    "    plt.xlabel(\"Petal length\", fontsize=14)\n",
    "    plt.ylabel(\"Petal width\", fontsize=14)\n",
    "else:\n",
    "    plt.xlabel(r\"$x_1$\", fontsize=18)\n",
    "    plt.ylabel(r\"$x_2$\", fontsize=18, rotation=0)\n",
    "if legend:\n",
    "    plt.legend(loc=\"lower right\", fontsize=14)"
   ]
  },
  {
   "cell_type": "code",
   "execution_count": 22,
   "metadata": {},
   "outputs": [
    {
     "name": "stdout",
     "output_type": "stream",
     "text": [
      "Saving figure decision_tree_decision_boundaries_plot\n"
     ]
    },
    {
     "data": {
      "image/png": "[encoded data removed]",
      "text/plain": [
       "<matplotlib.figure.Figure at 0x110511160>"
      ]
     },
     "metadata": {},
     "output_type": "display_data"
    }
   ],
   "source": [
    "from matplotlib.colors import ListedColormap\n",
    "\n",
    "def plot_decision_boundary(clf, X, y, axes=[0, 7.5, 0, 3], iris=True, legend=False, plot_training=True):\n",
    "    x1s = np.linspace(axes[0], axes[1], 100)\n",
    "    x2s = np.linspace(axes[2], axes[3], 100)\n",
    "    x1, x2 = np.meshgrid(x1s, x2s)\n",
    "    X_new = np.c_[x1.ravel(), x2.ravel()]\n",
    "    y_pred = clf.predict(X_new).reshape(x1.shape)\n",
    "    custom_cmap = ListedColormap(['#fafab0','#9898ff','#a0faa0'])\n",
    "    plt.contourf(x1, x2, y_pred, alpha=0.3, cmap=custom_cmap, linewidth=10)\n",
    "    if not iris:\n",
    "        custom_cmap2 = ListedColormap(['#7d7d58','#4c4c7f','#507d50'])\n",
    "        plt.contour(x1, x2, y_pred, cmap=custom_cmap2, alpha=0.8)\n",
    "    if plot_training:\n",
    "        plt.plot(X[:, 0][y==0], X[:, 1][y==0], \"yo\", label=\"Iris-Setosa\")\n",
    "        plt.plot(X[:, 0][y==1], X[:, 1][y==1], \"bs\", label=\"Iris-Versicolor\")\n",
    "        plt.plot(X[:, 0][y==2], X[:, 1][y==2], \"g^\", label=\"Iris-Virginica\")\n",
    "        plt.axis(axes)\n",
    "    if iris:\n",
    "        plt.xlabel(\"Petal length\", fontsize=14)\n",
    "        plt.ylabel(\"Petal width\", fontsize=14)\n",
    "    else:\n",
    "        plt.xlabel(r\"$x_1$\", fontsize=18)\n",
    "        plt.ylabel(r\"$x_2$\", fontsize=18, rotation=0)\n",
    "    if legend:\n",
    "        plt.legend(loc=\"lower right\", fontsize=14)\n",
    "\n",
    "plt.figure(figsize=(8, 4))\n",
    "plot_decision_boundary(tree_clf, X, y)\n",
    "plt.plot([2.45, 2.45], [0, 3], \"k-\", linewidth=2)\n",
    "plt.plot([2.45, 7.5], [1.75, 1.75], \"k--\", linewidth=2)\n",
    "plt.plot([4.95, 4.95], [0, 1.75], \"k:\", linewidth=2)\n",
    "plt.plot([4.85, 4.85], [1.75, 3], \"k:\", linewidth=2)\n",
    "plt.text(1.40, 1.0, \"Depth=0\", fontsize=15)\n",
    "plt.text(3.2, 1.80, \"Depth=1\", fontsize=13)\n",
    "plt.text(4.05, 0.5, \"(Depth=2)\", fontsize=11)\n",
    "plt.colorbar()\n",
    "\n",
    "save_fig(\"decision_tree_decision_boundaries_plot\")\n",
    "plt.show()"
   ]
  },
  {
   "cell_type": "markdown",
   "metadata": {},
   "source": [
    "The above figure shows this Decision Tree's decision boundaries. \n",
    "The thick vertical line represents the decision boundaries  of the root_node _(depth = 0)_: petal length = 2.45.\n",
    "Since the left area is pure(only Iris Setosa), it cannot be split further. \n",
    "\n",
    "However, the right area is impure, so the depth-1 right node splits it at petal width = 1.75 cm(represented by the dashed horizontal line). \n",
    "\n",
    "Since the `max_depth = 2`, the decision tree stops right there. However, if the `max_depth = 3`, then the two depth-2 nodes would each add another decision boundary which is represented by the (vertical dashed line). \n",
    "\n"
   ]
  },
  {
   "cell_type": "markdown",
   "metadata": {},
   "source": [
    "__Model Interpretation: White Box versus Black Box__ \n",
    "- As you can see, Decision Trees are fairly intuitive and their decisions are easy to interpret. \n",
    "- Such models are called __white box models__. \n",
    "- In contrat, as we will see: _Random Forest_ and _neural networks_ are __black box models__.\n",
    "- They make great predictions, and you easily check the calculations that they perfomred to make these predicitons, never the less it is usually hard to explain in simple terms why the predictions were made. \n",
    "- For examples, if a neural network says that a particular person appears on a pictuyre, it is hard to know what actually contributed to this predicitons. \n",
    "    - Did the model recognize the persons' eyes?\n",
    "    - Her mouth? \n",
    "    - Her nose? \n",
    "    - Her shoes? \n",
    "- Conversely, Decision Trees provide simple classification rules that can be applied manually if need be. "
   ]
  },
  {
   "cell_type": "markdown",
   "metadata": {},
   "source": [
    "## Prediciting classes and class probabilities: "
   ]
  },
  {
   "cell_type": "markdown",
   "metadata": {},
   "source": [
    "- A Decision Tree can also estimate the probability that an instance belongs to a particular class k: first it transverses the tree to find the leaf node for this instance, and then it returns the ratio of training instances of class k in this node. \n",
    "<img src = \"images/decision_trees/Decision_Tree_Visualised.png\"> \n",
    "- For example: \n",
    "    - Suppose you have a flower whose petals are 5cm long and 1.5 cm wide. \n",
    "    - The corresponding lead node is the depth-2 left node, so the Decision Tree should output the following probabilities: \n",
    "        - $0%$ Iris Setosa $(0/54)$\n",
    "        - $90.7%$ for Iris Versicolor $49/54$  \n",
    "        - $9.3%$ for Iris Virginica $5/54$\n",
    "   - And ofcourse, if you ask it to predict the class, it should output Iris-Versicolor (Class 1) since it has the highest probability. "
   ]
  },
  {
   "cell_type": "code",
   "execution_count": 23,
   "metadata": {},
   "outputs": [
    {
     "data": {
      "text/plain": [
       "array([1])"
      ]
     },
     "execution_count": 23,
     "metadata": {},
     "output_type": "execute_result"
    }
   ],
   "source": [
    "tree_clf.predict([[5, 1.5]])"
   ]
  },
  {
   "cell_type": "code",
   "execution_count": 24,
   "metadata": {},
   "outputs": [
    {
     "data": {
      "text/plain": [
       "array([[ 0.        ,  0.90740741,  0.09259259]])"
      ]
     },
     "execution_count": 24,
     "metadata": {},
     "output_type": "execute_result"
    }
   ],
   "source": [
    "tree_clf.predict_proba([[5, 1.5]])"
   ]
  },
  {
   "cell_type": "markdown",
   "metadata": {},
   "source": [
    "### The CART Training Algorithm: \n",
    "\n",
    "- Scikit-Learn uses the _Classification and Regression Tree_ Algorithm for trainining Decision Trees (also called \"growing trees\"). \n",
    "- Quite simple, the algorithm first splits the training set in two subsets using a single feature _k_ and a threshold $t_k$ (__`petal_length <= 2.45cm`__). \n",
    "- __Q. How does it choose $k$ and $t_k$?__\n",
    "    - It searches for the pair ($k, t_k$) that produces the purest subsets (weighted by their size). \n",
    "- The cost function that the algorithm tries to minimise is given by:\n",
    "    - # $J(k, t_k) = \\frac{m_{left}}{m}G_{left} + \\frac{m_{right}}{m}G_{right}$\n",
    "    - ### $G_{left / right}$ measure the impurity of the $left / right $ subset. \n",
    "    - ### $m_{left/right}$ is the number of instances in the $left /right$ subset.  "
   ]
  },
  {
   "cell_type": "markdown",
   "metadata": {},
   "source": [
    "- Once it has succefully split the training set in two, it split the subsets using the same logic then the subsets, and so on, recursively. \n",
    "- It stops recursing once it reached the maximum depth (defined by the max_depth hyperparameters) , or if it cannot find a split that will reduce impurity. \n",
    "- A few other hperparameters control additional stopping conditions. (explained below) \n",
    "    - `min_samples_split`: minimum number of samples a node must have before it is split. \n",
    "    - `min_samples_leaf`: minimum number of samples a leaf node must have. #DOUBT\n",
    "    - `min_weight_fraction_leaf`: same as`min_samples_leaf` but expressed as a fraction of the total number of weighted instances. \n",
    "    - `max_leaf_nodes`: maximum number of leaf nodes \n",
    "    - `max_features`: maximum number of features that are evaluated for splitting at each node. \n",
    "- As you can see, the CART algorithm is a _greedy_ algorithm. It greedily searched for an optimum feature($k$) and threshold ($t_k$) combination that gives the least impurity(mixed up batches) on each side. \n",
    "- Then it repeats the process at each level. \n",
    "- It does not check whether or not the split will lead to the lowest possible impurity several levels down. \n",
    "- A greedy algorithm often produces a food solution, but it is not guaranteeed to be the optimal solution. \n",
    "- Unfortunately, finding the optimal tree is known to be an `NP-Complete problem`. #DOUBT\n",
    "- It requires a $O(exp(m))$ time, making the problem intractable (hard to control or deal with) even for fairly small training sets. \n",
    "- This is why we must settle for a \"reasonably good\" solution. "
   ]
  },
  {
   "cell_type": "markdown",
   "metadata": {},
   "source": [
    "## Computational Complexity: \n",
    "\n",
    "__Prediction Complexity__: \n",
    "- Makinf predictions requires transversing the Decision Tree from the root to a leaf(no children, meaning sure of class). \n",
    "- Decision Trees are generally approximately balances, so transversing the Decision Trees requires roughly $O(log_2(m))$ nodes. \n",
    "- This means that if there are m instances. In the worst case scenario, your answer would be at the last leaf. Right? Therefore, the number of leafes that you will need to transverse is $log_2(m)$. \n",
    "- Since each node only requires checking the value of one feature, the overall prediction complexity is the same as the max number of nodes needed: $O(log_2(m))$, _independent of the number of features_ . \n",
    "\n",
    "- For example, draw a decision tree for $X = [1,2,3,4,5,6,7,8]$ in order to decide which number i have. \n",
    "    - In the worst case, you will need to ask 3 questions / transverse 3 nodes = $log_2(8)$. \n",
    "- Therefore, predictions are very fast, even when dealing with large training sets ( m is large ). \n",
    "\n",
    "__Training Complexity__ \n",
    "- However, the training algorithm compares all features (or less if `max_features` is set):\n",
    "    - on all the samples (`!= number of training examples`, except for the first node)\n",
    "    - on each node\n",
    "    - in order to determine the best feature that returns the purest subsets. \n",
    "- This results in a training complexity of $O(n \\times mlog(m)). $\n",
    "- For a small training set (less than a few thousand instances), Scikit-Learn can speed up the training by presorting the data (`presort = True`), but this does slow down the training for larget instances. \n",
    "\n",
    "    "
   ]
  },
  {
   "cell_type": "markdown",
   "metadata": {},
   "source": [
    "## Gini Impurity  or Entropy? \n",
    "\n",
    "- By default, `gini` impurtity measure is used but you can select the _entropy_ impurity measure instead by setting the `criterion` hyperparameter to `\"entropy\"`. \n",
    "- The concept of entropy originated in thermodynamics as a measure of molecular disorder: \n",
    "    - Entropy approaches 0 when molecues are still and well ordered (pure). \n",
    "    - Entropy approches 1 as molecules get more and more disordered. \n",
    "- Formula for Entorpy of $i^th$ node: \n",
    "    - # $ H_i = - \\sum_{k=1}^n p_{i,k}log(p_{i,k})$\n",
    "    - where p_{i,k} is not equal to 0. \n",
    "\n",
    "<img src = \"images/decision_trees/Decision_Tree_Visualised.png\"> "
   ]
  },
  {
   "cell_type": "markdown",
   "metadata": {},
   "source": [
    "- Entropy in Depth 1: \n",
    "    - $ 3 \\times (- 50/150 log(50/150)) = 0.477$\n",
    "- Entropy in Depth 2, left: \n",
    "    - $ (- 50/50 log(50/50)) = 0$\n",
    "- Entropy in Depth 2, right:\n",
    "    - $ (- 50/100 log(50/100) - (50/100)log(50/100) = 0.31$\n",
    "- Entropy in Depth 3, left:\n",
    "    - $ (- 49/54 log(40/54) - (5/54)log(5/54) = 0.13$\n",
    "    \n",
    "- __[So should you use Entropy or Ginni](https://sebastianraschka.com/faq/docs/decision-tree-binary.html)?__\n",
    "    - Ginni is slightly faster to compute, ofcourse. So it is a good default. \n",
    "    - When they do differe, Gini impurtiy tends to isolate the most frequent class in its own branch of the tree, while entropy produices slightly more balanced trees. \n",
    "    \n",
    "    "
   ]
  },
  {
   "cell_type": "markdown",
   "metadata": {},
   "source": [
    "### Regularization Hyperaprameters: \n",
    "\n",
    "- Decision Trees make very few assumptions abou the training data (as opposed to linear models, which obviously assume that the data is linear, for example). \n",
    "- If left uncontrained, the tree structure will adapt itself to the training data, fitting it very closely and most likely overfitting it. \n",
    "- Such a model is called a _non parametric model_. \n",
    "    - Not because it does not have any parameters (it often has a lot) but because the number of parameters is not dfetermined prior to training, so the model structure is free to stick closely to the data. \n",
    "    - In contrast, a _parametric_ model such as a linear model has predetermined number of parameters, so its degree of freedom is limited, reducing the risk of overfitting (but increasing the risk of underfitting). \n",
    "- To avoid overfitting the training data, you need to restrict the Decision Tree's freedom during training. \n",
    "    - For example, reducing `max_depth` will regularize the model and thuse reduce the risk of overfitting. \n",
    "- A few other hperparameters control additional stopping conditions. (explained below) \n",
    "    - `min_samples_split`: minimum number of samples a node must have before it is split. \n",
    "    - `min_samples_leaf`: minimum number of samples a leaf node must have. #DOUBT\n",
    "    - `min_weight_fraction_leaf`: same as`min_samples_leaf` but expressed as a fraction of the total number of weighted instances. \n",
    "    - `max_leaf_nodes`: maximum number of leaf nodes \n",
    "    - `max_features`: maximum number of features that are evaluated for splitting at each node.  \n",
    "- Reducing the `max` hyperparameters and increasing the `min` hyperparameters regularizes the model. "
   ]
  },
  {
   "cell_type": "markdown",
   "metadata": {},
   "source": [
    "__Note:__ \n",
    "   - Other algorithms work first by training the Decision Tree without restrictions, then _prunning_ or deleting unnecessary nodes. \n",
    "   - A node whole children are all leaf nodes is considered unnecessary if the purity improvement it provides is not _statistically significant_. \n",
    "   - Standard statistical test, such as $\\chi^2$ test are used to estimate the probability that the improvement is purely the result of chance (which is the null hypothesis). \n",
    "   - If this probability, called the _p-value_ is higher than a given threshold (typically 5%), then the node is considered unnecessary and its children are deleted. \n",
    "   - The prunning continues untill all unecessary nodes have been pruned. \n",
    "   - This means that if there is a almost pure node (which has most of the instances of 1 class only), and then it's further divided into subsets to create 2 leaf nodes (pure nodes). If the improvement in purity is minimal. Or If the improvement in purity is probably a result of chance, then the leaf nodes are prunned. \n",
    "   - The are prunned because it won't make a difference in the prediction. The class with the highest probability (given the instance) will not change between the last and second last node. \n",
    "   "
   ]
  },
  {
   "cell_type": "code",
   "execution_count": 33,
   "metadata": {
    "collapsed": true
   },
   "outputs": [],
   "source": [
    "# Quadratic training set + noise\n",
    "np.random.seed(42)\n",
    "m = 200\n",
    "X = np.random.rand(m, 1)\n",
    "y = 4 * (X - 0.5) ** 2\n",
    "y = y + np.random.randn(m, 1) / 10"
   ]
  },
  {
   "cell_type": "code",
   "execution_count": 34,
   "metadata": {},
   "outputs": [
    {
     "data": {
      "text/plain": [
       "DecisionTreeRegressor(criterion='mse', max_depth=2, max_features=None,\n",
       "           max_leaf_nodes=None, min_impurity_split=1e-07,\n",
       "           min_samples_leaf=1, min_samples_split=2,\n",
       "           min_weight_fraction_leaf=0.0, presort=False, random_state=42,\n",
       "           splitter='best')"
      ]
     },
     "execution_count": 34,
     "metadata": {},
     "output_type": "execute_result"
    }
   ],
   "source": [
    "from sklearn.tree import DecisionTreeRegressor\n",
    "\n",
    "tree_reg = DecisionTreeRegressor(max_depth=2, random_state=42)\n",
    "tree_reg.fit(X, y)"
   ]
  },
  {
   "cell_type": "code",
   "execution_count": 35,
   "metadata": {
    "collapsed": true
   },
   "outputs": [],
   "source": [
    "from sklearn.tree import export_graphviz\n",
    "\n",
    "export_graphviz(tree_reg, \n",
    "                out_file = image_path(\"moon_reg_tree.dot\"),\n",
    "               feature_names = [\"Input\"],\n",
    "               class_names = [\"Output\"],\n",
    "               rounded = True,\n",
    "               filled = True)"
   ]
  },
  {
   "cell_type": "markdown",
   "metadata": {},
   "source": [
    "<img src = \"images/decision_trees/moon_tree_reg_visualised.png\"> \n"
   ]
  },
  {
   "cell_type": "code",
   "execution_count": 45,
   "metadata": {},
   "outputs": [
    {
     "data": {
      "text/plain": [
       "(0.34920957461266089, 0.95071430640991617)"
      ]
     },
     "execution_count": 45,
     "metadata": {},
     "output_type": "execute_result"
    }
   ],
   "source": [
    "# Checking values closest to 0.6 in the training data\n",
    "X[X <= 0.6][-1], X[X >= 0.6][0] "
   ]
  },
  {
   "cell_type": "code",
   "execution_count": 46,
   "metadata": {},
   "outputs": [
    {
     "data": {
      "text/plain": [
       "array([-0.04979537])"
      ]
     },
     "execution_count": 46,
     "metadata": {},
     "output_type": "execute_result"
    }
   ],
   "source": [
    "# Checking 0.35's real value\n",
    "y[X == 0.34920957461266089]"
   ]
  },
  {
   "cell_type": "code",
   "execution_count": 48,
   "metadata": {},
   "outputs": [
    {
     "data": {
      "text/plain": [
       "array([ 0.11063973])"
      ]
     },
     "execution_count": 48,
     "metadata": {},
     "output_type": "execute_result"
    }
   ],
   "source": [
    "# Checking 0.35's predicted value\n",
    "tree_reg.predict([[0.34920957461266089]])"
   ]
  },
  {
   "cell_type": "code",
   "execution_count": 49,
   "metadata": {},
   "outputs": [
    {
     "data": {
      "text/plain": [
       "0.025726674717436903"
      ]
     },
     "execution_count": 49,
     "metadata": {},
     "output_type": "execute_result"
    }
   ],
   "source": [
    "# Calculating the squared error made by this one prediction\n",
    "(-0.04979537 - 0.1106 )**2 "
   ]
  },
  {
   "cell_type": "markdown",
   "metadata": {
    "collapsed": true
   },
   "source": [
    "__Reasoning out why $0.35$'s prediction was $0.1106$.__ \n",
    "- The tree looks very similar to the tree we saw ealier. - Just one main difference: \n",
    "    - Instead of predictng a class at each node, this one predicts a value. \n",
    "- For example: \n",
    " \n",
    "    - You want to make a prediction for a new instance $x_1 = 0.6$. \n",
    "    - Node 1: $0.35 <= 0.1973$? No, False (We go right down the tree) \n",
    "    - Node 2: $0.35 <= 0.7718$? Yes, True, (We move left down the tree) \n",
    "    - Node 3: Predicts $0.1106$ with an error of 0.026, which is pretty close to the `mse` given in that node, i.e $0.0151$. \n",
    "    - This value, $0.1106$ is the average target value of the 110 instances associated with this leaf node. \n",
    "    - This prediction results in a mean squared error of $0.0151$ over these 110 instances.  \n",
    "    "
   ]
  },
  {
   "cell_type": "code",
   "execution_count": 50,
   "metadata": {},
   "outputs": [
    {
     "data": {
      "text/plain": [
       "DecisionTreeRegressor(criterion='mse', max_depth=2, max_features=None,\n",
       "           max_leaf_nodes=None, min_impurity_split=1e-07,\n",
       "           min_samples_leaf=1, min_samples_split=2,\n",
       "           min_weight_fraction_leaf=0.0, presort=False, random_state=42,\n",
       "           splitter='best')"
      ]
     },
     "execution_count": 50,
     "metadata": {},
     "output_type": "execute_result"
    }
   ],
   "source": [
    "from sklearn.tree import DecisionTreeRegressor\n",
    "\n",
    "tree_reg1 = DecisionTreeRegressor(random_state = 42, \n",
    "                                  max_depth = 2)\n",
    "tree_reg2 = DecisionTreeRegressor(random_state = 42, \n",
    "                                 max_depth = 3)\n",
    "tree_reg1.fit(X,y)\n",
    "\n",
    "# DecisionTreeRegressor(\n",
    "#     criterion='mse', \n",
    "#     max_depth=2, \n",
    "#     max_features=None,\n",
    "#     max_leaf_nodes=None,\n",
    "#     min_impurity_split=1e-07,\n",
    "#     min_samples_leaf=1,\n",
    "#     min_samples_split=2,\n",
    "#     min_weight_fraction_leaf=0.0,\n",
    "#     presort=False,\n",
    "#     random_state=42,\n",
    "#     splitter='best')"
   ]
  },
  {
   "cell_type": "code",
   "execution_count": 51,
   "metadata": {
    "scrolled": true
   },
   "outputs": [
    {
     "data": {
      "text/plain": [
       "DecisionTreeRegressor(criterion='mse', max_depth=3, max_features=None,\n",
       "           max_leaf_nodes=None, min_impurity_split=1e-07,\n",
       "           min_samples_leaf=1, min_samples_split=2,\n",
       "           min_weight_fraction_leaf=0.0, presort=False, random_state=42,\n",
       "           splitter='best')"
      ]
     },
     "execution_count": 51,
     "metadata": {},
     "output_type": "execute_result"
    }
   ],
   "source": [
    "tree_reg2.fit(X,y)"
   ]
  },
  {
   "cell_type": "code",
   "execution_count": 61,
   "metadata": {},
   "outputs": [
    {
     "data": {
      "text/plain": [
       "[-0.094477882876397606,\n",
       " 1.0868869366005174,\n",
       " -0.24730892779942126,\n",
       " 1.2439880361312807]"
      ]
     },
     "execution_count": 61,
     "metadata": {},
     "output_type": "execute_result"
    },
    {
     "data": {
      "image/png": "[encoded data removed]",
      "text/plain": [
       "<matplotlib.figure.Figure at 0x11483e400>"
      ]
     },
     "metadata": {},
     "output_type": "display_data"
    }
   ],
   "source": [
    "plt.figure(figsize=(11, 4))\n",
    "plt.subplot(121)\n",
    "# Plotting the data\n",
    "plt.plot(X,y, \"c.\")\n",
    "\n",
    "# 2d array needed for regression predictions\n",
    "x1 = np.linspace(axes[0], axes[1], 500).reshape(-1,1)\n",
    "\n",
    "# Prediction with depth = 2 \n",
    "y_pred = tree_reg1.predict(x1)\n",
    "\n",
    "# Plotting the predictions\n",
    "plt.plot(x1, y_pred, \"r--\")\n",
    "plt.axis([X.min() - 0.1, X.max() + 0.1, \n",
    "          y.min() - 0.1 , y.max() + 0.1])\n",
    "\n",
    "plt.subplot(122)\n",
    "# Plotting the data\n",
    "plt.plot(X,y, \"c.\")\n",
    "\n",
    "# Predictions with max_depth = 3\n",
    "y_pred = tree_reg2.predict(x1)\n",
    "\n",
    "# Plotting the predictions\n",
    "plt.plot(x1, y_pred, \"r--\")\n",
    "plt.axis([X.min() - 0.1, X.max() + 0.1, \n",
    "          y.min() - 0.1 , y.max() + 0.1])"
   ]
  },
  {
   "cell_type": "markdown",
   "metadata": {},
   "source": [
    "The above shows the predictions made by a `DecisionTreeRegresor` with `max_depth = 2` on the left and `max_depth = 3` on the right. \n",
    "- __Notice how the predicted value for each region is always the average target value of the instances in that region.__\n",
    "- __The algorithm splits each region in a way that makes most training instances as close as possible to that predicted value__. "
   ]
  },
  {
   "cell_type": "markdown",
   "metadata": {},
   "source": [
    "__ What if i increase the depth to the number of training instances / No Restrictions? __\n"
   ]
  },
  {
   "cell_type": "code",
   "execution_count": 69,
   "metadata": {},
   "outputs": [
    {
     "data": {
      "text/plain": [
       "DecisionTreeRegressor(criterion='mse', max_depth=None, max_features=None,\n",
       "           max_leaf_nodes=None, min_impurity_split=1e-07,\n",
       "           min_samples_leaf=1, min_samples_split=2,\n",
       "           min_weight_fraction_leaf=0.0, presort=False, random_state=42,\n",
       "           splitter='best')"
      ]
     },
     "execution_count": 69,
     "metadata": {},
     "output_type": "execute_result"
    }
   ],
   "source": [
    "deep_tree_reg = DecisionTreeRegressor(random_state = 42)\n",
    "deep_tree_reg.fit(X,y)\n"
   ]
  },
  {
   "cell_type": "code",
   "execution_count": 70,
   "metadata": {},
   "outputs": [
    {
     "data": {
      "text/plain": [
       "[-0.094477882876397606,\n",
       " 1.0868869366005174,\n",
       " -0.24730892779942126,\n",
       " 1.2439880361312807]"
      ]
     },
     "execution_count": 70,
     "metadata": {},
     "output_type": "execute_result"
    },
    {
     "data": {
      "image/png": "[encoded data removed]",
      "text/plain": [
       "<matplotlib.figure.Figure at 0x1153f77f0>"
      ]
     },
     "metadata": {},
     "output_type": "display_data"
    }
   ],
   "source": [
    "plt.figure(figsize = (9,5))\n",
    "# Plotting the data\n",
    "plt.plot(X,y, \"c.\")\n",
    "\n",
    "# 2d array needed for regression predictions\n",
    "x1 = np.linspace(axes[0], axes[1], 500).reshape(-1,1)\n",
    "\n",
    "# Prediction with depth = 2 \n",
    "y_pred = deep_tree_reg.predict(x1)\n",
    "\n",
    "# Plotting the predictions\n",
    "plt.plot(x1, y_pred, \"r--\")\n",
    "plt.axis([X.min() - 0.1, X.max() + 0.1, \n",
    "          y.min() - 0.1 , y.max() + 0.1])"
   ]
  },
  {
   "cell_type": "markdown",
   "metadata": {},
   "source": [
    "- __Notice how the predicted value for each region is always the average target value of the instances in that region.__\n",
    "- __The algorithm splits each region in a way that makes most training instances as close as possible to that predicted value__. \n",
    "- The CART algorithm works mostly the same way as earlier, except that instead of trying to split the training set in way that _minimizes impurity on both subsets_ (left and right), it now tries to split the training set in way that minimizes the _MSE on both subsets_ (left and right). \n",
    "- This is the cost function which CART algorithm minimizes in case of Regression:  \n",
    "- #  $ J(k, t_k) = \\frac{m_{left}}{m}MSE_{left} + \\frac{m_{right}}{m}MSE_{right}$\n",
    "- ## where $MSE_{node} = \\sum_{i}(\\hat{y}_{node} - y^i)^2$\n",
    "    - ### where $\\hat{y}_{node} = \\frac{1}{m_{node}}\\sum_i y^i$"
   ]
  },
  {
   "cell_type": "markdown",
   "metadata": {},
   "source": [
    "- Just like for the classifcation tasks, Decision Trees are prone to overfitting when dealing with regression tasks. \n",
    "- Withou any regularization (i.e using the default hyperpameters), you get the predictions on the left of the following image. \n",
    "- The right image shows a much more regularized and able to generalise model. "
   ]
  },
  {
   "cell_type": "code",
   "execution_count": 73,
   "metadata": {},
   "outputs": [
    {
     "data": {
      "text/plain": [
       "DecisionTreeRegressor(criterion='mse', max_depth=None, max_features=None,\n",
       "           max_leaf_nodes=None, min_impurity_split=1e-07,\n",
       "           min_samples_leaf=10, min_samples_split=2,\n",
       "           min_weight_fraction_leaf=0.0, presort=False, random_state=42,\n",
       "           splitter='best')"
      ]
     },
     "execution_count": 73,
     "metadata": {},
     "output_type": "execute_result"
    }
   ],
   "source": [
    "regularized_deep_tree = DecisionTreeRegressor(\n",
    "    random_state = 42, min_samples_leaf = 10)\n",
    "\n",
    "regularized_deep_tree.fit(X,y)\n"
   ]
  },
  {
   "cell_type": "code",
   "execution_count": 74,
   "metadata": {},
   "outputs": [
    {
     "data": {
      "text/plain": [
       "[-0.094477882876397606,\n",
       " 1.0868869366005174,\n",
       " -0.24730892779942126,\n",
       " 1.2439880361312807]"
      ]
     },
     "execution_count": 74,
     "metadata": {},
     "output_type": "execute_result"
    },
    {
     "data": {
      "image/png": "[encoded data removed]",
      "text/plain": [
       "<matplotlib.figure.Figure at 0x113572d30>"
      ]
     },
     "metadata": {},
     "output_type": "display_data"
    }
   ],
   "source": [
    "plt.figure(figsize = (9,5))\n",
    "plt.subplot(121)\n",
    "# Plotting the data\n",
    "plt.plot(X,y, \"c.\")\n",
    "\n",
    "# 2d array needed for regression predictions\n",
    "x1 = np.linspace(axes[0], axes[1], 500).reshape(-1,1)\n",
    "\n",
    "# Prediction with depth = 2 \n",
    "y_pred = deep_tree_reg.predict(x1)\n",
    "\n",
    "# Plotting the predictions\n",
    "plt.plot(x1, y_pred, \"r--\")\n",
    "plt.axis([X.min() - 0.1, X.max() + 0.1, \n",
    "          y.min() - 0.1 , y.max() + 0.1])\n",
    "\n",
    "plt.subplot(122)\n",
    "# Plotting the data\n",
    "plt.plot(X,y, \"c.\")\n",
    "\n",
    "# 2d array needed for regression predictions\n",
    "x1 = np.linspace(axes[0], axes[1], 500).reshape(-1,1)\n",
    "\n",
    "# Prediction with depth = 2 \n",
    "y_pred = regularized_deep_tree.predict(x1)\n",
    "\n",
    "# Plotting the predictions\n",
    "plt.plot(x1, y_pred, \"r--\")\n",
    "plt.axis([X.min() - 0.1, X.max() + 0.1, \n",
    "          y.min() - 0.1 , y.max() + 0.1])"
   ]
  },
  {
   "cell_type": "code",
   "execution_count": 80,
   "metadata": {
    "collapsed": true
   },
   "outputs": [],
   "source": [
    "from sklearn.tree import export_graphviz\n",
    "\n",
    "export_graphviz(deep_tree_reg, \n",
    "                out_file = image_path(\"deep_moon_reg_tree.dot\"),\n",
    "               feature_names = [\"Input\"],\n",
    "               class_names = [\"Output\"],\n",
    "               rounded = True,\n",
    "               filled = True)\n",
    "# >> Goes beyond the screen, very huge, has 382 nodes. "
   ]
  },
  {
   "cell_type": "code",
   "execution_count": 85,
   "metadata": {
    "collapsed": true
   },
   "outputs": [],
   "source": [
    "from sklearn.tree import export_graphviz\n",
    "\n",
    "export_graphviz(regularized_deep_tree, \n",
    "                out_file = image_path(\"regularized_deep_moon_reg_tree.dot\"),\n",
    "               feature_names = [\"Input\"],\n",
    "               class_names = [\"Output\"],\n",
    "               rounded = True,\n",
    "               filled = True)\n",
    "# Fits right within the screen, too many nodes"
   ]
  },
  {
   "cell_type": "code",
   "execution_count": 20,
   "metadata": {},
   "outputs": [
    {
     "data": {
      "text/plain": [
       "(70000,)"
      ]
     },
     "execution_count": 20,
     "metadata": {},
     "output_type": "execute_result"
    }
   ],
   "source": [
    "from sklearn.datasets import fetch_mldata\n",
    "mnist = fetch_mldata('MNIST original', \n",
    "#                      data_home = \"/Users/rishabhchopra/Desktop/handson-ml-master/my_notebooks/datasets\"\n",
    "                    )\n",
    "X, y = mnist[\"data\"], mnist[\"target\"]\n",
    "X.shape\n",
    "# >> (70000 , 784)\n",
    "y.shape\n",
    "# >> (70000,) "
   ]
  },
  {
   "cell_type": "code",
   "execution_count": 21,
   "metadata": {
    "collapsed": true
   },
   "outputs": [],
   "source": [
    "X_train, X_test, y_train, y_test = X[:60000], X[60000:], y[:60000], y[60000:]"
   ]
  },
  {
   "cell_type": "code",
   "execution_count": 36,
   "metadata": {},
   "outputs": [
    {
     "data": {
      "text/plain": [
       "DecisionTreeClassifier(class_weight=None, criterion='gini', max_depth=16,\n",
       "            max_features=None, max_leaf_nodes=None,\n",
       "            min_impurity_split=1e-07, min_samples_leaf=1,\n",
       "            min_samples_split=100, min_weight_fraction_leaf=0.0,\n",
       "            presort=False, random_state=42, splitter='best')"
      ]
     },
     "execution_count": 36,
     "metadata": {},
     "output_type": "execute_result"
    }
   ],
   "source": [
    "from sklearn.tree import DecisionTreeClassifier\n",
    "\n",
    "mnist_tree_clf = DecisionTreeClassifier(max_depth = 16,\n",
    "                                        min_samples_split = 100,\n",
    "                                       random_state = 42)\n",
    "mnist_tree_clf.fit(X_train,y_train)"
   ]
  },
  {
   "cell_type": "code",
   "execution_count": 37,
   "metadata": {},
   "outputs": [
    {
     "data": {
      "text/plain": [
       "0.88319999999999999"
      ]
     },
     "execution_count": 37,
     "metadata": {},
     "output_type": "execute_result"
    }
   ],
   "source": [
    "mnist_tree_clf.score(X_train,y_train)"
   ]
  },
  {
   "cell_type": "code",
   "execution_count": 38,
   "metadata": {},
   "outputs": [
    {
     "data": {
      "text/plain": [
       "0.85240000000000005"
      ]
     },
     "execution_count": 38,
     "metadata": {},
     "output_type": "execute_result"
    }
   ],
   "source": [
    "mnist_tree_clf.score(X_test,y_test)\n",
    "# Very bad"
   ]
  },
  {
   "cell_type": "code",
   "execution_count": 35,
   "metadata": {
    "collapsed": true
   },
   "outputs": [],
   "source": [
    "from sklearn.tree import export_graphviz\n",
    "\n",
    "feature_names = []\n",
    "for i in range(0,784):\n",
    "    feature_names.append('Pixel #'+str(i))\n",
    "\n",
    "export_graphviz(mnist_tree_clf, \n",
    "                out_file = image_path(\"mnist_tree_clf_min_leaf5_min_samples100.dot\"),\n",
    "               feature_names = feature_names,\n",
    "               class_names = ['0',\"1\",'2','3','4','5',\n",
    "                              '6','7','8','9'],\n",
    "               rounded = True,\n",
    "               filled = True)"
   ]
  },
  {
   "cell_type": "markdown",
   "metadata": {},
   "source": [
    "## Instability: \n",
    "\n",
    "- Hopefully by now you are convinced that Decision Trees have a lot going for them: they are simple to understand and interpret, easy to use, versatile, and powerful.  \n",
    "\n",
    "- First, as you may have notices, Decision Trees love orthogonal decision boundaries (all splits are perpendiculat to an axis), which makes them sensitive to training set rotation.\n",
    "\n",
    "- One way to limit this problem is to use PCA, which often results in a better orientation of the training data. \n",
    "- More generally, the main issue with Decision Trees is that they are very sensitive to small variations in the training data. \n",
    "- For example, \n",
    "    - if you just remove the widest Iris-Versicolor from the iris training set (the one with the petals 4.8cm and 1.8cm wide) and train a new Decision Tree, you may get a model that looks really different than the one seen before. \n",
    "- Another problem is that , since the training algorithm (CART) used by Scikit-Learn is stochastic (_it randomly selects the set of features to evaluate at each node_), you may get very different models, even on the same training data. \n",
    "- Random Forests can liumit this instability y averaging the predictions over many trees, as we will see. "
   ]
  },
  {
   "cell_type": "code",
   "execution_count": 43,
   "metadata": {},
   "outputs": [
    {
     "data": {
      "text/plain": [
       "{'max_depth': 17, 'min_samples_leaf': 10, 'min_samples_split': 10}"
      ]
     },
     "execution_count": 43,
     "metadata": {},
     "output_type": "execute_result"
    }
   ],
   "source": [
    "from sklearn.model_selection import GridSearchCV\n",
    "\n",
    "param_grid = [{\n",
    "    'max_depth': [2, 5, 9, 13, 17],\n",
    "    'min_samples_split':[10, 50, 100, 200, 400,],\n",
    "    'min_samples_leaf':[10, 50, 100, 200, 400]\n",
    "}]\n",
    "\n",
    "grid_search = GridSearchCV(mnist_tree_clf, param_grid, cv = 3, \n",
    "                          scoring = \"accuracy\")\n",
    "grid_search.fit(X_train,y_train)\n",
    "grid_search.best_params_"
   ]
  },
  {
   "cell_type": "code",
   "execution_count": 44,
   "metadata": {},
   "outputs": [
    {
     "data": {
      "text/plain": [
       "DecisionTreeClassifier(class_weight=None, criterion='gini', max_depth=17,\n",
       "            max_features=None, max_leaf_nodes=None,\n",
       "            min_impurity_split=1e-07, min_samples_leaf=10,\n",
       "            min_samples_split=10, min_weight_fraction_leaf=0.0,\n",
       "            presort=False, random_state=42, splitter='best')"
      ]
     },
     "execution_count": 44,
     "metadata": {},
     "output_type": "execute_result"
    }
   ],
   "source": [
    "from sklearn.tree import DecisionTreeClassifier\n",
    "\n",
    "mnist_tree_clf = DecisionTreeClassifier(max_depth = 17,\n",
    "                                        min_samples_split = 10,\n",
    "                                        min_samples_leaf = 10,\n",
    "                                       random_state = 42)\n",
    "mnist_tree_clf.fit(X_train,y_train)"
   ]
  },
  {
   "cell_type": "code",
   "execution_count": 45,
   "metadata": {},
   "outputs": [
    {
     "data": {
      "text/plain": [
       "0.92164999999999997"
      ]
     },
     "execution_count": 45,
     "metadata": {},
     "output_type": "execute_result"
    }
   ],
   "source": [
    "mnist_tree_clf.score(X_train,y_train)"
   ]
  },
  {
   "cell_type": "code",
   "execution_count": 46,
   "metadata": {},
   "outputs": [
    {
     "data": {
      "text/plain": [
       "0.87690000000000001"
      ]
     },
     "execution_count": 46,
     "metadata": {},
     "output_type": "execute_result"
    }
   ],
   "source": [
    "mnist_tree_clf.score(X_test,y_test)\n",
    "# Very bad"
   ]
  },
  {
   "cell_type": "code",
   "execution_count": null,
   "metadata": {
    "collapsed": true
   },
   "outputs": [],
   "source": []
  }
 ],
 "metadata": {
  "kernelspec": {
   "display_name": "Python 3",
   "language": "python",
   "name": "python3"
  },
  "language_info": {
   "codemirror_mode": {
    "name": "ipython",
    "version": 3
   },
   "file_extension": ".py",
   "mimetype": "text/x-python",
   "name": "python",
   "nbconvert_exporter": "python",
   "pygments_lexer": "ipython3",
   "version": "3.6.1"
  }
 },
 "nbformat": 4,
 "nbformat_minor": 2
}
