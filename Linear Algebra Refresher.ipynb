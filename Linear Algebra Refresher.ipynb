{
 "cells": [
  {
   "cell_type": "markdown",
   "metadata": {},
   "source": [
    "- Linear Algebra is branch of mathematics that studies [vector spaces](https://en.wikipedia.org/wiki/Vector_space) and linear transformations between vector spaces, such as rotating a shape, scaling it up or down, translating it (i.e moving it), etc.  \n",
    "\n",
    "- Machine Learning relies heavily on Linear Algebra, so it is essential to understand what vectors and matrices are, what operations you can performn with them , and how useful can they be. \n"
   ]
  },
  {
   "cell_type": "markdown",
   "metadata": {},
   "source": [
    "## Vectors:   \n",
    "\n",
    "### Definition: \n",
    "\n",
    "A vector is a quantity defined by a magni9tude and direction.  \n",
    "For examples, rocket's velocity is a 3-dimensional vector: It's magnitude is the speed of the rocket, and it's direction is (hopefull) up.  \n",
    "A vector can be represented by an array of numbers called _scalars_.  \n",
    "Each scalar corresponds to the magnitude of the vector with regards to each dimension.  \n",
    "\n",
    "For example, say the rocket is goin uo at a slight angle:  it has a vertical speed of 5,000 m/s, and also a slight speed towards East at 10 m/s, and a slight speed towards North at 50 m/s.  \n",
    "The rocket's velocity may be represented by the following vector: \n",
    "\n",
    "**velocity** $= \\begin{pmatrix}\n",
    "10 \\\\\n",
    "50 \\\\\n",
    "5000 \\\\\n",
    "\\end{pmatrix}$  \n",
    "\n",
    "\n",
    "This vector could represent a video that lasts 10.5 minutes, but only 5.2% viewrs watch more than a minute, it get 3.25 views per day on average, and it was flagged 7 times as spam.  \n",
    "- __As you can see, each axis may have a different meaning__ . \n",
    "\n",
    "Based on this vector, out Machine Learning system may predict that there is an 80% probability that it is a spam video, 18% that it is a clickbait, and 2% that it is a good video. This could be represented by the following vectors. \n",
    "\n",
    "\n",
    "**class_probabilities** $= \\begin{pmatrix}\n",
    "0.80 \\\\\n",
    "0.18 \\\\\n",
    "0.02\n",
    "\\end{pmatrix}$\n"
   ]
  },
  {
   "cell_type": "markdown",
   "metadata": {},
   "source": [
    "### Vectors in Python: \n",
    "\n",
    "In Python, a vector can be represented in many ways, the simplest being a regular python list of numbers. "
   ]
  },
  {
   "cell_type": "code",
   "execution_count": 1,
   "metadata": {},
   "outputs": [
    {
     "data": {
      "text/plain": [
       "[10.5, 5.2, 3.25, 7.0]"
      ]
     },
     "execution_count": 1,
     "metadata": {},
     "output_type": "execute_result"
    }
   ],
   "source": [
    "[10.5, 5.2, 3.25, 7.0]"
   ]
  },
  {
   "cell_type": "markdown",
   "metadata": {},
   "source": [
    "Since we plan to do quite a lot of scientific calculations, it is much better to use NumPy's `ndarray` , which provides a lot of convenient and optimized implementations of essential mathematical operations on vectors. "
   ]
  },
  {
   "cell_type": "code",
   "execution_count": 2,
   "metadata": {},
   "outputs": [
    {
     "data": {
      "text/plain": [
       "array([ 10.5 ,   5.2 ,   3.25,   7.  ])"
      ]
     },
     "execution_count": 2,
     "metadata": {},
     "output_type": "execute_result"
    }
   ],
   "source": [
    "import numpy as np\n",
    "video = np.array([10.5, 5.2, 3.25, 7.0])\n",
    "video"
   ]
  },
  {
   "cell_type": "markdown",
   "metadata": {},
   "source": [
    "The size(number of elements) of a vector can be obtained by using the `size`  attribute. "
   ]
  },
  {
   "cell_type": "code",
   "execution_count": 3,
   "metadata": {},
   "outputs": [
    {
     "data": {
      "text/plain": [
       "4"
      ]
     },
     "execution_count": 3,
     "metadata": {},
     "output_type": "execute_result"
    }
   ],
   "source": [
    "video.size"
   ]
  },
  {
   "cell_type": "markdown",
   "metadata": {},
   "source": [
    "The $ i^th $ element (also called the  entry or item) of a vector __v__, is denoted by __v$ _i $__.  \n",
    "\n",
    "Note that indices in mathematics generally start at 1, but in programming they usually start at 0. \n",
    "So to acess __video__$_3$, we could programatically write: $"
   ]
  },
  {
   "cell_type": "code",
   "execution_count": 4,
   "metadata": {},
   "outputs": [
    {
     "data": {
      "text/plain": [
       "3.25"
      ]
     },
     "execution_count": 4,
     "metadata": {},
     "output_type": "execute_result"
    }
   ],
   "source": [
    "video[2] # # 3rd element"
   ]
  },
  {
   "cell_type": "markdown",
   "metadata": {},
   "source": [
    "## Plotting vectors: "
   ]
  },
  {
   "cell_type": "code",
   "execution_count": 5,
   "metadata": {
    "collapsed": true
   },
   "outputs": [],
   "source": [
    "%matplotlib inline\n",
    "import matplotlib.pyplot as plt"
   ]
  },
  {
   "cell_type": "markdown",
   "metadata": {},
   "source": [
    "### 2D vectors:  \n",
    "- Let's start of with a couple, pretty simple vectors to plot. \n"
   ]
  },
  {
   "cell_type": "code",
   "execution_count": 6,
   "metadata": {
    "collapsed": true
   },
   "outputs": [],
   "source": [
    "u = np.array([2,5])\n",
    "v = np.array([3,1])\n"
   ]
  },
  {
   "cell_type": "markdown",
   "metadata": {},
   "source": [
    "- These vectors each have 2 elements, so they can easily be represented graphically on a 2D graph, for example as points: \n",
    "- You can assign multiple names to multiple elements in a list/ array. \n",
    "\n",
    "```python\n",
    "x , y, z = [1,2,3]\n",
    "x\n",
    "#>> 1\n",
    "\n",
    "y\n",
    "# >> 2\n",
    "\n",
    "z\n",
    "#>> 3\n",
    "```"
   ]
  },
  {
   "cell_type": "code",
   "execution_count": 7,
   "metadata": {},
   "outputs": [
    {
     "name": "stdout",
     "output_type": "stream",
     "text": [
      "x_coords  (3, 2)\n",
      "y_coords  (1, 5)\n"
     ]
    },
    {
     "data": {
      "image/png": "[encoded data removed]",
      "text/plain": [
       "<matplotlib.figure.Figure at 0x10402ada0>"
      ]
     },
     "metadata": {},
     "output_type": "display_data"
    }
   ],
   "source": [
    "x_coords, y_coords = zip(v,u)\n",
    "print(\"x_coords \", x_coords)\n",
    "print(\"y_coords \", y_coords)\n",
    "\n",
    "# plt.scatter(x = x_coords, color = \"r\", y= y_coords, \n",
    "# color = \"b\" )\n",
    "# NODOUBT >> YOU CANNOT REPEAT A KEYWORD ARGUMENT\n",
    "\n",
    "plt.scatter(x_coords, y_coords, color = [\"r\", \"b\"])\n",
    "plt.axis([0,6,0,6])\n",
    "plt.grid()\n",
    "# >> Plotting points (3,1) and (2,5)"
   ]
  },
  {
   "cell_type": "markdown",
   "metadata": {},
   "source": [
    "- Vectors can also be represented as arrows. Let's create a small convenience function to draw nice arrows. \n",
    "- Side Note: \n",
    "    - If you want a function to accept different kinds of arguments, the parameter that acceps an arbitrary number of arguments must be placed last in the function definition.  \n",
    "    - Python Matches positional, and keywords arguments first, and then collects any remaining arguments in the parameter. \n",
    "    - The only difference between using a $*$ and a $**$ is that you use a $**$, when your functions takes both postional and arbitrary number of arguments. \n",
    "    \n",
    "```python\n",
    "\n",
    "def make_pizza(size, *toppings):\n",
    "    \"\"\"Summarize the pizza we are about to make.\"\"\"\n",
    "    print(\"\\nMaking a \" + str(size) +\n",
    "          \"-inch pizza with the following toppings:\")\n",
    "    for topping in toppings:\n",
    "        print(\"- \" + topping)\n",
    "make_pizza(16, 'pepperoni')\n",
    "make_pizza(12, 'mushrooms', 'green peppers', 'extra cheese')\n",
    "\n",
    "# Making a 16-inch pizza with the following toppings:\n",
    "# - pepperoni\n",
    "# Making a 12-inch pizza with the following toppings:\n",
    "# - mushrooms\n",
    "# - green peppers\n",
    "# - extra cheese\n",
    "\n",
    "```"
   ]
  },
  {
   "cell_type": "code",
   "execution_count": 8,
   "metadata": {
    "collapsed": true
   },
   "outputs": [],
   "source": [
    "def plot_vector2d(vector2d, origin = [0,0], **options):\n",
    "    return plt.arrow(origin[0], origin[1], # (x1,y1) Start Point\n",
    "                     vector2d[0],vector2d[1], # (x2, y2) End Point\n",
    "                     head_width = 0.2, \n",
    "                     head_length = 0.3,\n",
    "                     length_includes_head = True, \n",
    "                     **options)"
   ]
  },
  {
   "cell_type": "markdown",
   "metadata": {},
   "source": [
    "Now, let's draw the vectors __u__ and __v__ as arrows. "
   ]
  },
  {
   "cell_type": "code",
   "execution_count": 9,
   "metadata": {},
   "outputs": [
    {
     "data": {
      "image/png": "[encoded data removed]",
      "text/plain": [
       "<matplotlib.figure.Figure at 0x10404f240>"
      ]
     },
     "metadata": {},
     "output_type": "display_data"
    }
   ],
   "source": [
    "plot_vector2d(u, color = 'r')\n",
    "# Here color is an arbitrary argument that is added \n",
    "# through **options\n",
    "plot_vector2d(v, color = \"b\")\n",
    "plt.axis([0,6,0,6])\n",
    "plt.grid()"
   ]
  },
  {
   "cell_type": "markdown",
   "metadata": {},
   "source": [
    "### 3D vectors: \n",
    "- Plotting 3D vectors is also relatively straightforward. Let's create two 3D vectors: "
   ]
  },
  {
   "cell_type": "code",
   "execution_count": 10,
   "metadata": {
    "collapsed": true
   },
   "outputs": [],
   "source": [
    "a = np.array([1,2,8])\n",
    "b = np.array([5,6,3])\n"
   ]
  },
  {
   "cell_type": "code",
   "execution_count": 11,
   "metadata": {},
   "outputs": [
    {
     "name": "stdout",
     "output_type": "stream",
     "text": [
      "x_coords  (1, 5)\n",
      "y_coords  (2, 6)\n",
      "z_coords  (8, 3)\n"
     ]
    },
    {
     "data": {
      "text/plain": [
       "[0, 6, 0, 7]"
      ]
     },
     "execution_count": 11,
     "metadata": {},
     "output_type": "execute_result"
    },
    {
     "data": {
      "image/png": "[encoded data removed]",
      "text/plain": [
       "<matplotlib.figure.Figure at 0x10ca94cf8>"
      ]
     },
     "metadata": {},
     "output_type": "display_data"
    }
   ],
   "source": [
    "from mpl_toolkits.mplot3d import Axes3D\n",
    "\n",
    "subplot3d = plt.subplot(111, projection = '3d')\n",
    "# >> Creating a 3d subplot object\n",
    "\n",
    "x_coords, y_coords, z_coords = zip(a,b)\n",
    "print(\"x_coords \", x_coords)\n",
    "print(\"y_coords \", y_coords)\n",
    "print(\"z_coords \", z_coords)\n",
    "\n",
    "subplot3d.scatter(x_coords, y_coords, z_coords)\n",
    "subplot3d.set_zlim3d([0,9])\n",
    "# >> zmin, zmax\n",
    "\n",
    "subplot3d.axis([0,6,0,7,])\n",
    "# >> xmin, xmax, ymin, ymax"
   ]
  },
  {
   "cell_type": "markdown",
   "metadata": {},
   "source": [
    "It's a bit hard to visualise exactly wherr in space these two points are, so let's add vertical lines. \n",
    "\n",
    "We;ll create a small convenience function to plot a list of 3d vectors with vertical lines attached: "
   ]
  },
  {
   "cell_type": "code",
   "execution_count": 12,
   "metadata": {},
   "outputs": [
    {
     "data": {
      "image/png": "[encoded data removed]",
      "text/plain": [
       "<matplotlib.figure.Figure at 0x10cd26da0>"
      ]
     },
     "metadata": {},
     "output_type": "display_data"
    }
   ],
   "source": [
    "subplot3d = plt.subplot(111, projection = '3d')\n",
    "\n",
    "def plot_vectors3d(ax, # The subplot\n",
    "                   vectors3d, # List of 3d vectors you want\n",
    "                   # to plot\n",
    "                   z0 ,# The starting value of z\n",
    "                   **options # Arbitrary number of additional\n",
    "                   # arguments\n",
    "                  ):\n",
    "    for v in vectors3d:\n",
    "        x, y, z = v\n",
    "        # Assigns x , y, z to the 3 numbers in the vector\n",
    "        \n",
    "        ax.plot([x,x], [y,y], [z0,z], color = \"gray\",\n",
    "               linestyle = \"dotted\", marker = \".\")\n",
    "        # Will draw a line between (x,y,z0) and \n",
    "        # (x,y,z)\n",
    "        \n",
    "    x_coords, y_coords, z_coords = zip(*vectors3d)\n",
    "    # x_coords = (1,5)\n",
    "    # y_coords = (2,6)\n",
    "    # z_coords = (3,8)\n",
    "    # * unpacks the list of vectors 3d as there\n",
    "    # could be arbitrary number of them\n",
    "    # >> zip([1,2,3],[5,6,8]) instead of\n",
    "    # zip([[1,2,3], [4,5,6]])\n",
    "    \n",
    "    \n",
    "    ax.scatter(x_coords, y_coords, z_coords, **options)\n",
    "    # Plots point (1,2,3)\n",
    "    # Plots point (5,6,8) \n",
    "\n",
    "subplot3d = plt.subplot(111, projection='3d')\n",
    "subplot3d.set_zlim([0, 9])\n",
    "plot_vectors3d(subplot3d, [a,b], 0, color=(\"r\",\"b\"))\n",
    "plt.show()"
   ]
  },
  {
   "cell_type": "markdown",
   "metadata": {},
   "source": [
    "# Norm:  \n",
    "- The norm of a vector __u__, not __||u||__ is a __measure of the length__ (a.k.a the maginitude) of __u__. \n",
    "- There are multiple possible norms, but the most common one (and the only one we will discuss here) is the Euclidian norm, which is defined as: \n",
    "\n",
    "# $\\left \\Vert \\textbf{u} \\right \\| = \\sqrt{\\sum_{i}{\\textbf{u}_i}^2}$\n",
    "- The square root of the ( sum of the squares of each element of the vector). \n",
    "- This formula comes directly from the distance formula, which in turn comes from the pythagoreas theorem. \n",
    "\n",
    "- We could implement this easily in pure python, recalling the $\\sqrt{x} = x^{\\frac{1}{2}} $"
   ]
  },
  {
   "cell_type": "code",
   "execution_count": 13,
   "metadata": {},
   "outputs": [
    {
     "name": "stdout",
     "output_type": "stream",
     "text": [
      "|| [2 5] || = \n",
      "5.38516480713\n"
     ]
    }
   ],
   "source": [
    "def vector_norm(vector):\n",
    "    squares = [element**2 for element in vector]\n",
    "    norm = sum(squares)**0.5\n",
    "    return norm\n",
    "\n",
    "print(\"||\",u,\"|| = \")\n",
    "print(vector_norm(u))"
   ]
  },
  {
   "cell_type": "markdown",
   "metadata": {},
   "source": [
    "However, it is much more efficient to use NumPy's `norm` function, available in the `linalg` (__Lin__ear __Alg__ebra) module: "
   ]
  },
  {
   "cell_type": "code",
   "execution_count": 14,
   "metadata": {},
   "outputs": [
    {
     "data": {
      "text/plain": [
       "5.3851648071345037"
      ]
     },
     "execution_count": 14,
     "metadata": {},
     "output_type": "execute_result"
    }
   ],
   "source": [
    "import numpy.linalg as LA\n",
    "LA.norm(u)"
   ]
  },
  {
   "cell_type": "markdown",
   "metadata": {},
   "source": [
    "- Lets plot a little diagram to confirm that the legnth of vector __v__ is indeed $\\approx$ 5.4\n",
    "- Note: \n",
    "    - pyplot keeps track of the currently active subplot (which you can get a reference to by calling `plt.gca()`), so when you call the `plot` function, it draws on the *active* subplot.\n"
   ]
  },
  {
   "cell_type": "code",
   "execution_count": 15,
   "metadata": {},
   "outputs": [
    {
     "data": {
      "image/png": "[encoded data removed]",
      "text/plain": [
       "<matplotlib.figure.Figure at 0x10cd3a3c8>"
      ]
     },
     "metadata": {},
     "output_type": "display_data"
    }
   ],
   "source": [
    "radius = LA.norm(u)\n",
    "# >> Going to use a circle to determine if the length of \n",
    "# the vector is infact 5.4\n",
    "\n",
    "circle = plt.Circle((0,0), radius , color = \"#DDDDDD\")\n",
    "# >> Does not plot it yet. \n",
    "\n",
    "plt.gca().add_artist(circle)\n",
    "# >> Draws the circle on the current subplot. \n",
    "\n",
    "plt.axis([-6,6,-6,6])\n",
    "plot_vector2d(u, color=\"red\")\n",
    "\n",
    "plt.plot(0,0, 'bo')\n",
    "plt.annotate(\"0, 0\", xy = (0,0), xytext = (0.3,0))\n",
    "plt.grid()\n"
   ]
  },
  {
   "cell_type": "markdown",
   "metadata": {},
   "source": [
    "Looks about right! "
   ]
  },
  {
   "cell_type": "markdown",
   "metadata": {},
   "source": [
    "### [Addition and Subtraction of 2 vectors](https://www.khanacademy.org/math/precalculus/vectors-precalc/vector-addition-subtraction/v/adding-and-subtracting-vectors )\n",
    "- Vectors of the same size can be added together. \n",
    "- Addition is performed _elementwise_: \n",
    "- We can add two vectors by joining 1s head (starting point) , to the other's tail (end point) , given that that the 2nd vector's head(starting point) starts at the first vector's tail (end point). \n",
    "\n",
    "\n"
   ]
  },
  {
   "cell_type": "code",
   "execution_count": 16,
   "metadata": {},
   "outputs": [
    {
     "name": "stdout",
     "output_type": "stream",
     "text": [
      "  [2 5]\n",
      "+ [3 1]\n",
      "----------\n"
     ]
    },
    {
     "data": {
      "text/plain": [
       "array([5, 6])"
      ]
     },
     "execution_count": 16,
     "metadata": {},
     "output_type": "execute_result"
    }
   ],
   "source": [
    "print(\" \", u)\n",
    "print(\"+\", v)\n",
    "print(\"-\"*10)\n",
    "u + v"
   ]
  },
  {
   "cell_type": "markdown",
   "metadata": {},
   "source": [
    "- Let's look at what the vector addition look like graphically: "
   ]
  },
  {
   "cell_type": "code",
   "execution_count": 17,
   "metadata": {},
   "outputs": [
    {
     "data": {
      "image/png": "[encoded data removed]",
      "text/plain": [
       "<matplotlib.figure.Figure at 0x10cdf2978>"
      ]
     },
     "metadata": {},
     "output_type": "display_data"
    }
   ],
   "source": [
    "plot_vector2d(u, color = \"r\", label = str(u))\n",
    "plot_vector2d(u, origin = v, color = \"r\", \n",
    "              linestyle = \"dotted\")\n",
    "\n",
    "plot_vector2d(v, color = \"b\", label = str(v))\n",
    "plot_vector2d(v, origin = u, color = \"b\", \n",
    "              linestyle = \"dotted\")\n",
    "\n",
    "plot_vector2d(u+v, color = \"g\", label = str(u+v))\n",
    "\n",
    "plt.axis([0,9,0,9])\n",
    "\n",
    "plt.text(0.7, 3, \"u\", color=\"r\", fontsize=18)\n",
    "plt.text(4, 3, \"u\", color=\"r\", fontsize=18)\n",
    "plt.text(1.8, 0.2, \"v\", color=\"b\", fontsize=18)\n",
    "plt.text(3.1, 5.6, \"v\", color=\"b\", fontsize=18)\n",
    "plt.text(2.4, 2.5, \"u+v\", color=\"g\", fontsize=18)\n",
    "plt.grid()"
   ]
  },
  {
   "cell_type": "markdown",
   "metadata": {},
   "source": [
    "Vector addition is __commutative__, meaning that __u + v  = v + u __.  \n",
    "You can see it on the previous image: following __u__ _then_, __v__ leads to the same points as following __v__ _then_,  __u__.  \n",
    "\n",
    "Vectors addition is also __associative__, meaning that __ (u + v) + w = u + (v + w) "
   ]
  },
  {
   "cell_type": "markdown",
   "metadata": {},
   "source": [
    "### [Geometric Translation](https://en.wikipedia.org/wiki/Translation_%28geometry%29): \n",
    "- [Performing translations in 2d](https://www.khanacademy.org/math/basic-geo/basic-geo-transformations-congruence/basic-geometry-translations/v/translation-example)\n",
    "\n",
    "- If you have a shape defined by a number of points(vectors), and you add a vector __v__ to all of these points, then the whole shape gets shifted by __v__.  \n",
    "This is called a geometric translation.  \n"
   ]
  },
  {
   "cell_type": "code",
   "execution_count": 18,
   "metadata": {},
   "outputs": [
    {
     "data": {
      "text/plain": [
       "array([3, 1])"
      ]
     },
     "execution_count": 18,
     "metadata": {},
     "output_type": "execute_result"
    }
   ],
   "source": [
    "v"
   ]
  },
  {
   "cell_type": "code",
   "execution_count": 19,
   "metadata": {},
   "outputs": [
    {
     "name": "stdout",
     "output_type": "stream",
     "text": [
      "x_coords  (2.0, 2.5, 1, 2.0)\n",
      "y_coords  (0.25, 3.5, 2, 0.25)\n"
     ]
    }
   ],
   "source": [
    "t1 = np.array([2, 0.25])\n",
    "t2 = np.array([2.5, 3.5])\n",
    "t3 = np.array([1,2])\n",
    "\n",
    "x_coords , y_coords = zip(t1, t2, t3, t1)\n",
    "print(\"x_coords \", x_coords)\n",
    "print(\"y_coords \", y_coords)"
   ]
  },
  {
   "cell_type": "code",
   "execution_count": 20,
   "metadata": {},
   "outputs": [
    {
     "data": {
      "text/plain": [
       "[0, 6, 0, 5]"
      ]
     },
     "execution_count": 20,
     "metadata": {},
     "output_type": "execute_result"
    },
    {
     "data": {
      "image/png": "[encoded data removed]",
      "text/plain": [
       "<matplotlib.figure.Figure at 0x10cec0128>"
      ]
     },
     "metadata": {},
     "output_type": "display_data"
    }
   ],
   "source": [
    "fig1, ax = plt.subplots(1,1)\n",
    "ax.plot(x_coords, y_coords, \"c--\", )\n",
    "# >> Plot a triangle using the x and y coordinates. \n",
    "ax.plot(x_coords, y_coords, \"co\")\n",
    "# >> Highlights the vertices of the triangle. \n",
    "\n",
    "plot_vector2d(v, t1, color = \"r\", linestyle = \":\")\n",
    "# >> Plots v, i.e[3,1] using point t1 [2,0.25] as origin. \n",
    "plot_vector2d(v, t2, color = \"r\", linestyle = \":\")\n",
    "# >> Plots v, i.e[3,1] using point t1 [2.5 ,3.5] \n",
    "# as origin. \n",
    "plot_vector2d(v, t3, color = \"r\", linestyle = \":\")\n",
    "# >> Plots v, i.e [3,1] using point t3[1,2] as origin. \n",
    "\n",
    "# Notice, all vector v's are parallel to each other. \n",
    "\n",
    "# Creating coordinates for second triangle\n",
    "# (translated triangle). \n",
    "\n",
    "t1b = t1 + v\n",
    "# >> [ 5.    1.25]\n",
    "\n",
    "t2b = t2 + v\n",
    "# >> [ 5.5  4.5]\n",
    "\n",
    "t3b = t3 + v\n",
    "# >> [4 3]\n",
    "\n",
    "x_coords_b , y_coords_b = zip(t1b, t2b, t3b, t1b)\n",
    "# >> x_coords_b  (2.0, 2.5, 1, 2.0)\n",
    "# >> y_coords_b  (0.25, 3.5, 2, 0.25)\n",
    "\n",
    "# Plotting the second triangle using dotted lines. \n",
    "\n",
    "ax.plot(x_coords_b, y_coords_b, \"c--\", )\n",
    "ax.plot(x_coords_b, y_coords_b, \"co\")\n",
    "\n",
    "# Setting the min, max of axes. \n",
    "plt.axis([0,6,0,5])"
   ]
  },
  {
   "cell_type": "markdown",
   "metadata": {},
   "source": [
    "### Subtraction: \n",
    "- Finally, subtracting a vector is just like adding the opposite vector: "
   ]
  },
  {
   "cell_type": "code",
   "execution_count": 21,
   "metadata": {},
   "outputs": [
    {
     "data": {
      "text/plain": [
       "[-2, 5, 0, 6]"
      ]
     },
     "execution_count": 21,
     "metadata": {},
     "output_type": "execute_result"
    },
    {
     "data": {
      "image/png": "[encoded data removed]",
      "text/plain": [
       "<matplotlib.figure.Figure at 0x10cdba550>"
      ]
     },
     "metadata": {},
     "output_type": "display_data"
    }
   ],
   "source": [
    "plot_vector2d(u, color = \"r\", label = str(u))\n",
    "plot_vector2d(-v, origin = u, color = \"b\", \n",
    "              linestyle = \"dotted\")\n",
    "plot_vector2d(u-v, color = \"g\", label = str(u-v))\n",
    "plt.axis([-2,5,0,6])"
   ]
  },
  {
   "cell_type": "code",
   "execution_count": 22,
   "metadata": {},
   "outputs": [
    {
     "data": {
      "text/plain": [
       "[-1, 5, -4, 2]"
      ]
     },
     "execution_count": 22,
     "metadata": {},
     "output_type": "execute_result"
    },
    {
     "data": {
      "image/png": "[encoded data removed]",
      "text/plain": [
       "<matplotlib.figure.Figure at 0x10d12f240>"
      ]
     },
     "metadata": {},
     "output_type": "display_data"
    }
   ],
   "source": [
    "plot_vector2d(v, color = \"b\", label = str(v))\n",
    "plot_vector2d(-u, origin = v, color = \"r\", \n",
    "              linestyle = \"dotted\")\n",
    "\n",
    "plot_vector2d(v-u, color = \"g\", label = str(u-v))\n",
    "\n",
    "plt.axis([-1,5,-4,2])"
   ]
  },
  {
   "cell_type": "markdown",
   "metadata": {},
   "source": [
    "- Subracting one vector from another gives the vector that joins the head (start point) of vector 1 and tail (end point) of {minus vector 2}. "
   ]
  },
  {
   "cell_type": "markdown",
   "metadata": {},
   "source": [
    "### Multiplication by scalar: \n",
    "- Vectors can be multiplied by scalars. All elements in the vector are multiplied by the number, for example: "
   ]
  },
  {
   "cell_type": "code",
   "execution_count": 23,
   "metadata": {},
   "outputs": [
    {
     "name": "stdout",
     "output_type": "stream",
     "text": [
      "1.5 * [2 5] =\n"
     ]
    },
    {
     "data": {
      "text/plain": [
       "array([ 3. ,  7.5])"
      ]
     },
     "execution_count": 23,
     "metadata": {},
     "output_type": "execute_result"
    }
   ],
   "source": [
    "print(\"1.5 *\", u, \"=\")\n",
    "1.5 * u"
   ]
  },
  {
   "cell_type": "markdown",
   "metadata": {},
   "source": [
    "- Graphically, scalar multiplication results in changing the scale of a figure, hence the name _salar._ \n",
    "- The distance from the origin is also multiplied by the scalar. \n",
    "- For examples, let's scale up by a factor of k = 2.5\n"
   ]
  },
  {
   "cell_type": "code",
   "execution_count": 24,
   "metadata": {},
   "outputs": [
    {
     "data": {
      "text/plain": [
       "(array([ 2.  ,  0.25]), array([ 2.5,  3.5]), array([1, 2]))"
      ]
     },
     "execution_count": 24,
     "metadata": {},
     "output_type": "execute_result"
    }
   ],
   "source": [
    "t1, t2, t3"
   ]
  },
  {
   "cell_type": "code",
   "execution_count": 25,
   "metadata": {},
   "outputs": [
    {
     "data": {
      "text/plain": [
       "(array([ 5.   ,  0.625]), array([ 6.25,  8.75]), array([ 2.5,  5. ]))"
      ]
     },
     "execution_count": 25,
     "metadata": {},
     "output_type": "execute_result"
    }
   ],
   "source": [
    "k = 2.5\n",
    "t1c , t2c, t3c = t1 * k , t2*k , t3*k\n",
    "t1c, t2c, t3c"
   ]
  },
  {
   "cell_type": "code",
   "execution_count": 26,
   "metadata": {},
   "outputs": [
    {
     "data": {
      "text/plain": [
       "((2.0, 2.5, 1, 2.0), (0.25, 3.5, 2, 0.25))"
      ]
     },
     "execution_count": 26,
     "metadata": {},
     "output_type": "execute_result"
    }
   ],
   "source": [
    "x_coords, y_coords"
   ]
  },
  {
   "cell_type": "code",
   "execution_count": 27,
   "metadata": {},
   "outputs": [
    {
     "data": {
      "image/png": "[encoded data removed]",
      "text/plain": [
       "<matplotlib.figure.Figure at 0x10d02e160>"
      ]
     },
     "metadata": {},
     "output_type": "display_data"
    }
   ],
   "source": [
    "plt.plot(x_coords, y_coords, \"c--\",\n",
    "        x_coords, y_coords, \"co\")\n",
    "# >> Plotting the triangle formed by x_coords, y_coords \n",
    "# which are the orginal coordinates derived from \n",
    "# vectors t1, t2, t3\n",
    "\n",
    "\n",
    "plot_vector2d(t1, color = \"r\")\n",
    "plot_vector2d(t2, color = \"r\")\n",
    "plot_vector2d(t3, color = \"r\")\n",
    "# >> Plotting the 3 vectors, from the origin. \n",
    "\n",
    "# >> Getting the coordinates of the new triangle\n",
    "# formed after sclar multiplication. \n",
    "x_coords_c, y_coords_c = zip(t1c, t2c, t3c, t1c)\n",
    "x_coords_c, y_coords_c\n",
    "# >> ((5.0, 6.25, 2.5, 5.0), \n",
    "# >> (0.625, 8.75, 5.0, 0.625))\n",
    "\n",
    "\n",
    "# Plotting the new triangle formed after multiplying\n",
    "# each of the vectors/ coordinated by k. \n",
    "\n",
    "plt.plot(x_coords_c , y_coords_c , \"b--\",\n",
    "        x_coords_c , y_coords_c , \"bo\")\n",
    "\n",
    "# PLotting the scalar vectors with blue dotted lines.\n",
    "plot_vector2d(k * t1, color=\"b\", linestyle=\":\")\n",
    "plot_vector2d(k * t2, color=\"b\", linestyle=\":\")\n",
    "plot_vector2d(k * t3, color=\"b\", linestyle=\":\")\n",
    "\n",
    "# Setting the min max of axes. \n",
    "plt.axis([0, 9, 0, 9])\n",
    "\n",
    "plt.grid()"
   ]
  },
  {
   "cell_type": "markdown",
   "metadata": {},
   "source": [
    "- Notice, multiplying a vector by a scalar..just increased its length(maginitude), not direction. \n",
    "- scaled it. \n",
    "- It points in the same directions , just are 2.5 times longer , or have 2.5 times the magnitude. \n"
   ]
  },
  {
   "cell_type": "markdown",
   "metadata": {},
   "source": [
    "- As you might guess, dividing a vector by a scalar is equivalent to multiplying by its inverse:  \n",
    "\n",
    "$\\dfrac{\\textbf{u}}{\\lambda} = \\dfrac{1}{\\lambda} \\times \\textbf{u}$\n",
    "\n",
    "Scalar multiplication is **commutative**: $\\lambda \\times \\textbf{u} = \\textbf{u} \\times \\lambda$.\n",
    "\n",
    "It is also **associative**: $\\lambda_1 \\times (\\lambda_2 \\times \\textbf{u}) = (\\lambda_1 \\times \\lambda_2) \\times \\textbf{u}$.\n",
    "\n",
    "Finally, it is **distributive** over addition of vectors: $\\lambda \\times (\\textbf{u} + \\textbf{v}) = \\lambda \\times \\textbf{u} + \\lambda \\times \\textbf{v}$."
   ]
  },
  {
   "cell_type": "markdown",
   "metadata": {},
   "source": [
    "## Zero, unit and normalized vectors: \n",
    "- A __zero-vector__ is full of 0s.\n",
    "- a __[unit-vector](https://www.khanacademy.org/math/precalculus/vectors-precalc/unit-vectors/v/intro-unit-vector-notation)__ is a vector with a norm / magnitude equal to 1.\n",
    "    - If we are in 2 dimensions, we define a unit vector for each of the dimensions we are operating in.\n",
    "        - $\\hat{i}$ = [1,0] : only goes in the horizontal direction. It is the unit vector in the horizontal direction. \n",
    "        - $\\hat{j}$ = [0,1] : only goes in the vertical direction. It is the unit vector in the vertical direction. \n",
    "        - For eg: $ \\vec{v} = 3\\hat{i} + 1\\hat{j} $ is the same as saying  $ \\vec{v} = [3,1] $.  \n",
    "        - It says that we move 3 in the x (horizontal direction, and 1 in the y (vertical direction). \n",
    "        - Adding the 2 vectors, $ 3\\hat{i} $ and $  1\\hat{j} $ , you get the vector that starts from the head of $ 3\\hat{i} $, and ends at the tail of $ 1\\hat{j} $, which is the same thing as a  vector starting from the origin to the points (3,1) in 2 dimensional space. \n",
    "        - This is why we do element wise addition. It is because when adding two vectors: \n",
    "            - For eg: $ [3\\hat{i} + 1\\hat{j}] + [2\\hat{i} + 4\\hat{j}]  $\n",
    "            - = $ (3 + 2)\\hat{i} + (1 + 4)\\hat{j} $ \n",
    "            - We add the vectors which go in the same direction.  \n",
    "            \n",
    "            \n",
    "- The __[normalized-vector](https://www.khanacademy.org/math/precalculus/vectors-precalc/unit-vectors/v/unit-vector-intro)__ of a non-null vector __u__, noted $\\hat{\\textbf{u}}$, us the unit vector that points in the same direction as __u__.   \n",
    "    - It is equal to $\\hat{\\textbf{u}} = \\hat{\\textbf{u}} = \\dfrac{\\textbf{u}}{\\left \\Vert \\textbf{u} \\right \\|}$\n",
    "    - Involves scaling the vector down to have a magnitude of 1. \n",
    "    - That is the normalized vector of u is equal to u, dived by its maginitude. \n",
    "    "
   ]
  },
  {
   "cell_type": "code",
   "execution_count": 28,
   "metadata": {},
   "outputs": [
    {
     "data": {
      "image/png": "[encoded data removed]",
      "text/plain": [
       "<matplotlib.figure.Figure at 0x10cbd05c0>"
      ]
     },
     "metadata": {},
     "output_type": "display_data"
    }
   ],
   "source": [
    "plt.gca().add_artist(plt.Circle((0,0),1,color='c'))\n",
    "# >> Adds a circles at origin, with radius 1 ( unit circle)\n",
    "# and color = cyan\n",
    "\n",
    "plt.plot(0, 0, \"ko\")\n",
    "# >> Highlights the origin point in black\n",
    "\n",
    "plot_vector2d(v, color=\"b\", linestyle=\"--\")\n",
    "# >> Plots the vector v in blue color, using a dotted \n",
    "# line. \n",
    "\n",
    "plot_vector2d(v / LA.norm(v), color=\"k\")\n",
    "# >> Plots the normalized vector of v, in black color. \n",
    "\n",
    "plt.text(0.3, 0.3, \"$\\hat{v}$\", color=\"k\", fontsize=18)\n",
    "plt.text(1.5, 0.7, \"$v$\", color=\"b\", fontsize=18)\n",
    "plt.axis([-1.5, 5.5, -1.5, 3.5])\n",
    "plt.grid()\n",
    "plt.show()"
   ]
  },
  {
   "cell_type": "markdown",
   "metadata": {
    "collapsed": true
   },
   "source": [
    "## [Dot Product](https://www.khanacademy.org/math/linear-algebra/vectors-and-spaces/dot-cross-products/v/vector-dot-product-and-vector-length):  \n",
    "### Definition: \n",
    "\n",
    "- The dot product (also called *scalar product* or *inner product* in the context of the Euclidian space) of two vectors $\\textbf{u}$ and $\\textbf{v}$ is a useful operation that comes up fairly often in linear algebra. It is noted $\\textbf{u} \\cdot \\textbf{v}$, or sometimes $⟨\\textbf{u}|\\textbf{v}⟩$ or $(\\textbf{u}|\\textbf{v})$, and it is defined as:\n",
    "    \n",
    "    - $\\textbf{u} \\cdot \\textbf{v} = \\left \\Vert \\textbf{u} \\right \\| \\times \\left \\Vert \\textbf{v} \\right \\| \\times cos(\\theta)$\n",
    "    - The maginitude of __u__ multiplied by the magintufde of __v__ multiplied by $ cos(\\theta) $.\n",
    "        - where $\\theta$ is the angle between $\\textbf{u}$ and $\\textbf{v}$.\n",
    "\n",
    "- Another way to calculate the dot product is:\n",
    "    - $\\textbf{u} \\cdot \\textbf{v} = \\sum_i{\\textbf{u}_i \\times \\textbf{v}_i}$\n",
    "- Both vectors need to be of the same dimension. \n",
    "\n",
    "### In python\n",
    "The dot product is pretty simple to implement:"
   ]
  },
  {
   "cell_type": "code",
   "execution_count": 29,
   "metadata": {},
   "outputs": [
    {
     "name": "stdout",
     "output_type": "stream",
     "text": [
      "0 + ( 2 * 3 )\n",
      "= 6\n",
      "6 + ( 5 * 1 )\n",
      "= 11\n"
     ]
    },
    {
     "data": {
      "text/plain": [
       "11"
      ]
     },
     "execution_count": 29,
     "metadata": {},
     "output_type": "execute_result"
    }
   ],
   "source": [
    "def dot_product(v1, v2): \n",
    "    sum_ = 0\n",
    "    for v1i, v2i in zip(v1 , v2):\n",
    "        # Element wise multiplication, and the \n",
    "        # addition of all the products. \n",
    "        print(sum_ ,'+ (', v1i, '*', v2i, ')')\n",
    "        sum_ += v1i * v2i \n",
    "        print('=', sum_)\n",
    "    return sum_\n",
    "\n",
    "dot_product(u, v)\n"
   ]
  },
  {
   "cell_type": "markdown",
   "metadata": {},
   "source": [
    " But a much more efficient implementation is provided by NumPy with the `dot` function: "
   ]
  },
  {
   "cell_type": "code",
   "execution_count": 30,
   "metadata": {},
   "outputs": [
    {
     "data": {
      "text/plain": [
       "11"
      ]
     },
     "execution_count": 30,
     "metadata": {},
     "output_type": "execute_result"
    }
   ],
   "source": [
    "np.dot(u,v)"
   ]
  },
  {
   "cell_type": "markdown",
   "metadata": {},
   "source": [
    "Equivalently, you can use the `dot`method on `ndarray`s. "
   ]
  },
  {
   "cell_type": "code",
   "execution_count": 31,
   "metadata": {},
   "outputs": [
    {
     "data": {
      "text/plain": [
       "10"
      ]
     },
     "execution_count": 31,
     "metadata": {},
     "output_type": "execute_result"
    }
   ],
   "source": [
    "v.dot(v)"
   ]
  },
  {
   "cell_type": "markdown",
   "metadata": {},
   "source": [
    "__Caution:__ the $*$ operator will perform the _elementwise_ multiplication, NOT a dot product. \n",
    "- The $*$ operator does not add up the products of the _elementwise_ multiplication. \n",
    "    - It takes array as inputs, and outputs an array. \n",
    "- The dot product takes the element wise products , and adds them. "
   ]
  },
  {
   "cell_type": "code",
   "execution_count": 32,
   "metadata": {},
   "outputs": [
    {
     "name": "stdout",
     "output_type": "stream",
     "text": [
      "   [2 5]\n",
      "*  [3 1] (NOT a dot product)\n",
      "----------\n",
      "[6 5]\n",
      "   [2 5]\n",
      ".  [3 1] (Dot product)\n",
      "----------\n",
      "11\n",
      "..which is the same as 6 + 5. \n"
     ]
    }
   ],
   "source": [
    "print(\"  \",u)\n",
    "print(\"* \",v, \"(NOT a dot product)\")\n",
    "print(\"-\"*10)\n",
    "\n",
    "print(u * v)\n",
    "\n",
    "print(\"  \",u)\n",
    "print(\". \",v, \"(Dot product)\")\n",
    "print(\"-\"*10)\n",
    "\n",
    "print(u.dot(v))\n",
    "print(\"..which is the same as 6 + 5. \")\n"
   ]
  },
  {
   "cell_type": "markdown",
   "metadata": {},
   "source": [
    "__[Main Properties](https://www.khanacademy.org/math/linear-algebra/vectors-and-spaces/dot-cross-products/v/proving-vector-dot-product-properties)__: \n",
    "- comuutative, __u.v = v.u__\n",
    "- dot product is only defined between two vectors, not a vector and a scalar. \n",
    "    - Therefore, we cannot chain  the dot products like __u.v.w__, cause __u.v__ will be a scalar, and __w__ is a vector. \n",
    "- Therefore, the dot product is __not associative:__\n",
    "    - $(\\textbf{u} \\cdot \\textbf{v}) \\cdot \\textbf{w} ≠ \\textbf{u} \\cdot (\\textbf{v} \\cdot \\textbf{w})$ since neither are defined.\n",
    "- However, the dot product is **associative, with regards to scalar multiplication: **\n",
    "    -  $\\lambda \\times (\\textbf{u} \\cdot \\textbf{v}) = (\\lambda \\times \\textbf{u}) \\cdot \\textbf{v} = \\textbf{u} \\cdot (\\lambda \\times \\textbf{v})$"
   ]
  },
  {
   "cell_type": "code",
   "execution_count": 33,
   "metadata": {},
   "outputs": [
    {
     "name": "stdout",
     "output_type": "stream",
     "text": [
      "55\n",
      "55\n",
      "55\n"
     ]
    }
   ],
   "source": [
    "print(5 * u.dot(v))\n",
    "# >> 55\n",
    "\n",
    "print(5*u.dot(v))\n",
    "# >> 55 \n",
    "\n",
    "print(u.dot(5*v))\n",
    "# >> 55"
   ]
  },
  {
   "cell_type": "markdown",
   "metadata": {},
   "source": [
    "__[Calculating the angle between vectors](https://www.khanacademy.org/math/linear-algebra/vectors-and-spaces/dot-cross-products/v/defining-the-angle-between-vectors):__ \n",
    "\n",
    "- One of the many uses of the dot product is to calculate the angle between two non-zero vectors.   \n",
    "- Looking at the dot product definition: \n",
    "$\\textbf{u} \\cdot \\textbf{v} = \\left \\Vert \\textbf{u} \\right \\| \\times \\left \\Vert \\textbf{v} \\right \\| \\times cos(\\theta)$\n",
    "    - We can deduce: \n",
    "    $\\theta = \\arccos{\\left ( \\dfrac{\\textbf{u} \\cdot \\textbf{v}}{\\left \\Vert \\textbf{u} \\right \\| \\times \\left \\Vert \\textbf{v} \\right \\|} \\right ) }$\n",
    "\n",
    "- Note that, if __u.v__ = 0, it follows the $ \\theta = \\frac{\\pi}{4} $. \n",
    "    - $ cos^{-1} \\frac{\\pi}{4}  = {90}$\n",
    "    - In other words, if the dot product of two non-null vectors is 0, it means that they are orthogonal (involving right angles). \n",
    "- Let's use this property to calculate the angle between a __u__ and __v__ (in radians). \n",
    "\n",
    "[What is a radian?](https://www.khanacademy.org/math/algebra2/trig-functions/intro-to-radians-alg2/v/introduction-to-radians)\n",
    "- The angle $\\theta$ is equal to the length of the arc, in terms of radius, r. \n",
    "- If we go full circle, we $\\theta = 2\\pi $ radians. \n",
    "- $2\\pi $ radians = 360 degrees\n",
    "- $\\pi$ radians = 180 degrees"
   ]
  },
  {
   "cell_type": "code",
   "execution_count": 34,
   "metadata": {},
   "outputs": [
    {
     "data": {
      "text/plain": [
       "(array([2, 5]), array([3, 1]))"
      ]
     },
     "execution_count": 34,
     "metadata": {},
     "output_type": "execute_result"
    }
   ],
   "source": [
    "u,v"
   ]
  },
  {
   "cell_type": "code",
   "execution_count": 35,
   "metadata": {},
   "outputs": [
    {
     "name": "stdout",
     "output_type": "stream",
     "text": [
      "Angle = 0.868539395286 radians\n",
      "      = 49.7636416907 degrees\n"
     ]
    }
   ],
   "source": [
    "def vector_angle(u, v):\n",
    "    cos_theta = u.dot(v) / LA.norm(u) / LA.norm(v)\n",
    "    return np.arccos(np.clip(cos_theta, -1, 1))\n",
    "\n",
    "theta = vector_angle(u, v)\n",
    "print(\"Angle =\", theta, \"radians\")\n",
    "print(\"      =\", theta * 180 / np.pi, \"degrees\")"
   ]
  },
  {
   "cell_type": "markdown",
   "metadata": {},
   "source": [
    "Note: due to small floating point errors, `cos_theta` may be very slightly outside of the interval [-1, 1] , which would make `arcos` fail. \n",
    "- This is why we clipped the value within the rannge using NumPy's clip function. "
   ]
  },
  {
   "cell_type": "markdown",
   "metadata": {},
   "source": [
    "### [Projecting a point onto an axis](https://www.khanacademy.org/math/linear-algebra/matrix-transformations/lin-trans-examples/v/introduction-to-projections): \n",
    "- The dot product is also very useful to project points onto an axis. \n",
    "- The projection of vector __v__ onto __u__'s axis is given by the formula: \n",
    "- $\\textbf{proj}_{\\textbf{u}}{\\textbf{v}} = \\dfrac{\\textbf{u} \\cdot \\textbf{v}}{\\left \\Vert \\textbf{u} \\right \\| ^2} \\times \\textbf{u}$\n",
    "\n",
    "    - The dot product of u and v  (scalar) \n",
    "        - multiplied by the vector being projected on, (scalar x vector = vector) \n",
    "            - divided by the square of the maginitude of the vector being project on. (vector / scalar = vector) \n",
    "- Output: Vector, which is projection of one on the other. \n",
    "\n",
    "- Which is equivalent to:\n",
    "\n",
    "    - $\\textbf{proj}_{\\textbf{u}}{\\textbf{v}} = (\\textbf{v} \\cdot \\hat{\\textbf{u}}) \\times \\hat{\\textbf{u}}$\n",
    "        - Dot product of __v__ and normalized __u__, multiplied by normalized __u__. \n",
    "        "
   ]
  },
  {
   "cell_type": "code",
   "execution_count": 123,
   "metadata": {},
   "outputs": [
    {
     "name": "stdout",
     "output_type": "stream",
     "text": [
      "[2 5]\n"
     ]
    },
    {
     "data": {
      "text/plain": [
       "[0, 8, 0, 5.5]"
      ]
     },
     "execution_count": 123,
     "metadata": {},
     "output_type": "execute_result"
    },
    {
     "data": {
      "image/png": "[encoded data removed]",
      "text/plain": [
       "<matplotlib.figure.Figure at 0x10cbde9b0>"
      ]
     },
     "metadata": {},
     "output_type": "display_data"
    }
   ],
   "source": [
    "print(u)\n",
    "# >> [2,5]\n",
    "\n",
    "u_normalized = u / LA.norm(u)\n",
    "# >> [ 0.37139068  0.92847669]\n",
    "\n",
    "proj = v.dot(u_normalized)*u_normalized\n",
    "# >> [ 0.75862069  1.89655172]\n",
    "\n",
    "plot_vector2d(u, color = \"r\")\n",
    "# >> Plotting vector u\n",
    "plot_vector2d(v, color = \"b\")\n",
    "# >> Plotting vector v\n",
    "\n",
    "plot_vector2d(proj, color = \"k\", linestyle = \":\")\n",
    "# >> plottin the projection of v, on u. \n",
    "\n",
    "plt.plot([proj[0], v[0]], [proj[1], v[1]], \"b:\")\n",
    "# >> Connecting the tip of vector v to the tip of \n",
    "# projection of v on u. \n",
    "\n",
    "v_normalized = v/LA.norm(v)\n",
    "proj = u.dot(v_normalized)*v_normalized\n",
    "plot_vector2d(proj, color = \"k\", linestyle = \":\")\n",
    "# >> plottin the projection of u, on v. \n",
    "\n",
    "plt.plot([proj[0], u[0]], [proj[1], u[1]], \"b:\")\n",
    "# >> Connecting the tip of vector u to the tip of \n",
    "# projection of u on v. \n",
    "\n",
    "plt.axis([0, 8, 0, 5.5])"
   ]
  },
  {
   "cell_type": "code",
   "execution_count": 126,
   "metadata": {},
   "outputs": [
    {
     "name": "stdout",
     "output_type": "stream",
     "text": [
      "[2 5]\n",
      "[3 1]\n",
      "3.47850542619\n",
      "11\n"
     ]
    },
    {
     "data": {
      "text/plain": [
       "True"
      ]
     },
     "execution_count": 126,
     "metadata": {},
     "output_type": "execute_result"
    }
   ],
   "source": [
    "print(u)\n",
    "print(v)\n",
    "print(vector_norm(proj))\n",
    "print(np.dot(u,v))\n",
    "vector_norm(proj)*vector_norm(v) == np.dot(u,v)"
   ]
  },
  {
   "cell_type": "code",
   "execution_count": 131,
   "metadata": {},
   "outputs": [
    {
     "data": {
      "text/plain": [
       "array([2, 4])"
      ]
     },
     "execution_count": 131,
     "metadata": {},
     "output_type": "execute_result"
    }
   ],
   "source": [
    "u = np.array([2,4])\n",
    "u"
   ]
  },
  {
   "cell_type": "code",
   "execution_count": 128,
   "metadata": {},
   "outputs": [
    {
     "data": {
      "text/plain": [
       "array([3, 1])"
      ]
     },
     "execution_count": 128,
     "metadata": {},
     "output_type": "execute_result"
    }
   ],
   "source": [
    "v"
   ]
  },
  {
   "cell_type": "code",
   "execution_count": 132,
   "metadata": {},
   "outputs": [
    {
     "name": "stdout",
     "output_type": "stream",
     "text": [
      "Angle = 0.785398163397 radians\n",
      "      = 45.0 degrees\n"
     ]
    }
   ],
   "source": [
    "def vector_angle(u, v):\n",
    "    cos_theta = u.dot(v) / LA.norm(u) / LA.norm(v)\n",
    "    return np.arccos(np.clip(cos_theta, -1, 1))\n",
    "\n",
    "theta = vector_angle(u, v)\n",
    "print(\"Angle =\", theta, \"radians\")\n",
    "print(\"      =\", theta * 180 / np.pi, \"degrees\")"
   ]
  },
  {
   "cell_type": "markdown",
   "metadata": {},
   "source": [
    "## Proving that $ u.v == |a|\\times |b|\\times cos\\theta $"
   ]
  },
  {
   "cell_type": "code",
   "execution_count": 133,
   "metadata": {},
   "outputs": [
    {
     "data": {
      "text/plain": [
       "10"
      ]
     },
     "execution_count": 133,
     "metadata": {},
     "output_type": "execute_result"
    }
   ],
   "source": [
    "np.dot(u,v)"
   ]
  },
  {
   "cell_type": "code",
   "execution_count": 138,
   "metadata": {},
   "outputs": [
    {
     "data": {
      "text/plain": [
       "<matplotlib.patches.FancyArrow at 0x10d9766a0>"
      ]
     },
     "execution_count": 138,
     "metadata": {},
     "output_type": "execute_result"
    },
    {
     "data": {
      "image/png": "[encoded data removed]",
      "text/plain": [
       "<matplotlib.figure.Figure at 0x10d6515c0>"
      ]
     },
     "metadata": {},
     "output_type": "display_data"
    }
   ],
   "source": [
    "plot_vector2d(u, color = \"r\")\n",
    "plt.axis([0,5,0,5])\n",
    "plot_vector2d(u*np.cos(45))"
   ]
  },
  {
   "cell_type": "code",
   "execution_count": 139,
   "metadata": {},
   "outputs": [
    {
     "data": {
      "text/plain": [
       "<matplotlib.patches.FancyArrow at 0x10d143668>"
      ]
     },
     "execution_count": 139,
     "metadata": {},
     "output_type": "execute_result"
    },
    {
     "data": {
      "image/png": "[encoded data removed]",
      "text/plain": [
       "<matplotlib.figure.Figure at 0x10d9c2c18>"
      ]
     },
     "metadata": {},
     "output_type": "display_data"
    }
   ],
   "source": [
    "plot_vector2d(v, color = \"b\")\n",
    "plt.axis([0,5,0,5])\n",
    "plot_vector2d(v*np.cos(45))"
   ]
  },
  {
   "cell_type": "markdown",
   "metadata": {},
   "source": [
    "## Matrices: \n",
    "\n",
    "- A matrix is a rectangular array of scalars (i.e any number: integer, real or complex) arranged in rows and columns, for example: \n",
    "    \\begin{bmatrix} 10 & 20 & 30 \\\\ 40 & 50 & 60 \\end{bmatrix}\n",
    "    \n",
    "- You can think of a matix as a list of vectors: the previous matrix contains either 2 horizontal 3D vectors, or 3 vertical 2D vectors.   \n",
    "\n",
    "- Matrices are convenient and very efficient to run operations on many vectors at a time. \n",
    "- We will also see that they are great at representing and performing linear transformations, such as rotations, translations, and scaling. \n",
    "\n"
   ]
  },
  {
   "cell_type": "markdown",
   "metadata": {},
   "source": [
    "### Matrices in pthon: \n",
    "In python, a matrix can be represented in various ways. \n",
    "- The simplest is just a list of python lists. "
   ]
  },
  {
   "cell_type": "code",
   "execution_count": 37,
   "metadata": {},
   "outputs": [
    {
     "data": {
      "text/plain": [
       "[[10, 20, 30], [40, 50, 60]]"
      ]
     },
     "execution_count": 37,
     "metadata": {},
     "output_type": "execute_result"
    }
   ],
   "source": [
    "[\n",
    "    [10, 20, 30],\n",
    "    [40, 50, 60]\n",
    "]"
   ]
  },
  {
   "cell_type": "markdown",
   "metadata": {},
   "source": [
    "- Numpy"
   ]
  },
  {
   "cell_type": "code",
   "execution_count": 38,
   "metadata": {},
   "outputs": [
    {
     "data": {
      "text/plain": [
       "array([[10, 20, 30],\n",
       "       [40, 50, 60]])"
      ]
     },
     "execution_count": 38,
     "metadata": {},
     "output_type": "execute_result"
    }
   ],
   "source": [
    "A = np.array(\n",
    "    [\n",
    "    [10, 20, 30],\n",
    "    [40, 50, 60]\n",
    "]\n",
    ")\n",
    "A"
   ]
  },
  {
   "cell_type": "markdown",
   "metadata": {},
   "source": [
    "- By convention, matrices generally have uppercase names, such as A. \n",
    "- In the rest of this tutorial, we will assume that we are using NumPy arrays (type `ndarray`) to represent matrices. \n",
    "\n"
   ]
  },
  {
   "cell_type": "markdown",
   "metadata": {},
   "source": [
    "### Size:\n",
    "- The size of a matrix is defined by its number of rows and number of columns, __not by the number of elements it has, like it is in NumPy arrays.__\n",
    "- It is notes as _rows_ $\\times$ _columns_.\n",
    "    - Matrix A is a 2 x 3 matrix. 2 rows and 3 columns. \n",
    "    "
   ]
  },
  {
   "cell_type": "markdown",
   "metadata": {},
   "source": [
    "- To get the size of a matrix, use `np.ndarray.shape`"
   ]
  },
  {
   "cell_type": "code",
   "execution_count": 39,
   "metadata": {},
   "outputs": [
    {
     "data": {
      "text/plain": [
       "(2, 3)"
      ]
     },
     "execution_count": 39,
     "metadata": {},
     "output_type": "execute_result"
    }
   ],
   "source": [
    "A.shape"
   ]
  },
  {
   "cell_type": "code",
   "execution_count": 40,
   "metadata": {},
   "outputs": [
    {
     "data": {
      "text/plain": [
       "6"
      ]
     },
     "execution_count": 40,
     "metadata": {},
     "output_type": "execute_result"
    }
   ],
   "source": [
    "A.size"
   ]
  },
  {
   "cell_type": "markdown",
   "metadata": {},
   "source": [
    "### Element Indexing: \n",
    "- The number located in the $i^{th}$ row, and $j^{th}$ column of a matrix $X$ is sometimes noted $X_{i,j}$ or $X_{ij}$, but there is no standard notation, so people often prefer to explicitely name the elements, like this:\n",
    "    - ### \"*let $X = (x_{i,j})_{1 ≤ i ≤ m, 1 ≤ j ≤ n}$*\". This means that $X$ is equal to:\n",
    "\n",
    "$X = \\begin{bmatrix}\n",
    "  x_{1,1} & x_{1,2} & x_{1,3} & \\cdots & x_{1,n}\\\\\n",
    "  x_{2,1} & x_{2,2} & x_{2,3} & \\cdots & x_{2,n}\\\\\n",
    "  x_{3,1} & x_{3,2} & x_{3,3} & \\cdots & x_{3,n}\\\\\n",
    "  \\vdots & \\vdots & \\vdots & \\ddots & \\vdots \\\\\n",
    "  x_{m,1} & x_{m,2} & x_{m,3} & \\cdots & x_{m,n}\\\\\n",
    "\\end{bmatrix}$\n",
    "- m is the number of rows here, n is the number of columns. \n",
    "- However in this notebook we will use the $X_{i,j}$ notation, as it matches fairly well NumPy's notation. \n",
    "- Note that in math indices generally start at 1, but in programming they usually start at 0. \n",
    "- So to access $A_{2,3}$ programmatically, we need to write this:"
   ]
  },
  {
   "cell_type": "code",
   "execution_count": 41,
   "metadata": {},
   "outputs": [
    {
     "data": {
      "text/plain": [
       "60"
      ]
     },
     "execution_count": 41,
     "metadata": {},
     "output_type": "execute_result"
    }
   ],
   "source": [
    "A[1,2] # 2nd row, 3rd column"
   ]
  },
  {
   "cell_type": "markdown",
   "metadata": {},
   "source": [
    "- The $i^{th}$ row vector is sometimes noted $M_i$ or $M_{i,*}$, but again there is no standard notation so people often prefer to explicitely define their own names, - for example: \"*let **x**$_{i}$ be the $i^{th}$ row vector of matrix $X$*\".\n",
    "- We will use the $M_{i,*}$, for the same reason as above. - For example, to access $A_{2,*}$ (ie. $A$'s 2nd row vector):"
   ]
  },
  {
   "cell_type": "code",
   "execution_count": 42,
   "metadata": {},
   "outputs": [
    {
     "data": {
      "text/plain": [
       "array([40, 50, 60])"
      ]
     },
     "execution_count": 42,
     "metadata": {},
     "output_type": "execute_result"
    }
   ],
   "source": [
    "A[1, :] # 2nd row, all columns \n",
    "        # Row 1, all columns\n",
    "        # 2nd row vector"
   ]
  },
  {
   "cell_type": "markdown",
   "metadata": {},
   "source": [
    "- Similarly, the  jthjth  column vector is sometimes noted  MjMj  or  M∗,jM∗,j , but there is no standard notation. We will use  M∗,jM∗,j . For example, to access  A∗,3A∗,3  (ie.  AA 's 3rd column vector):"
   ]
  },
  {
   "cell_type": "code",
   "execution_count": 43,
   "metadata": {},
   "outputs": [
    {
     "data": {
      "text/plain": [
       "array([30, 60])"
      ]
     },
     "execution_count": 43,
     "metadata": {},
     "output_type": "execute_result"
    }
   ],
   "source": [
    "A[:,2] # All rows, 3rd colum\n",
    "       # All rows, Column 2\n",
    "       # 3rd column Vector"
   ]
  },
  {
   "cell_type": "markdown",
   "metadata": {},
   "source": [
    "Note that the result is actually a one-dimensional NumPy array. \n",
    "There is __no such thing__ as a _vertical_ or a _horizontal_ one-dimensional array. \n",
    "- If you need to actually represent a row vector as one-row matrix (i.e a 2D NumPy array), \n",
    "- or a column vector as a one-column matrix, then you need to use a slice instead of an integer when accessing the row or column, for example: \n"
   ]
  },
  {
   "cell_type": "code",
   "execution_count": 44,
   "metadata": {},
   "outputs": [
    {
     "data": {
      "text/plain": [
       "(array([[30],\n",
       "        [60]]), array([30, 60]))"
      ]
     },
     "execution_count": 44,
     "metadata": {},
     "output_type": "execute_result"
    }
   ],
   "source": [
    "# Accessing the same column vector using different \n",
    "# indexing: \n",
    "A[:, 2:3], A[:, 2] # All rows, 3rd colum\n",
    "                   # All rows, Column 2\n",
    "                   # 3rd column Vector"
   ]
  },
  {
   "cell_type": "code",
   "execution_count": 45,
   "metadata": {},
   "outputs": [
    {
     "data": {
      "text/plain": [
       "(array([[40, 50, 60]]), array([40, 50, 60]))"
      ]
     },
     "execution_count": 45,
     "metadata": {},
     "output_type": "execute_result"
    }
   ],
   "source": [
    "# Accessing the same row vector using different indexing: \n",
    "A[1:2, :], A[1, :] # 2nd row, all columns \n",
    "                   # Row 1, all columns\n",
    "                   # 2nd row vector"
   ]
  },
  {
   "cell_type": "markdown",
   "metadata": {},
   "source": [
    "## Square, triangular, diagonal and identity matrices\n",
    "A **square matrix** is a matrix that has the same number of rows and columns, for example a $3 \\times 3$ matrix:\n",
    "\n",
    "\\begin{bmatrix}\n",
    "  4 & 9 & 2 \\\\\n",
    "  3 & 5 & 7 \\\\\n",
    "  8 & 1 & 6\n",
    "\\end{bmatrix}"
   ]
  },
  {
   "cell_type": "markdown",
   "metadata": {},
   "source": [
    "An **upper triangular matrix** is a special kind of square matrix where all the elements *below* the main diagonal (top-left to bottom-right) are zero, for example:\n",
    "\n",
    "\\begin{bmatrix}\n",
    "  4 & 9 & 2 \\\\\n",
    "  0 & 5 & 7 \\\\\n",
    "  0 & 0 & 6\n",
    "\\end{bmatrix}"
   ]
  },
  {
   "cell_type": "markdown",
   "metadata": {},
   "source": [
    "Similarly, a **lower triangular matrix** is a square matrix where all elements *above* the main diagonal are zero, for example:\n",
    "\n",
    "\\begin{bmatrix}\n",
    "  4 & 0 & 0 \\\\\n",
    "  3 & 5 & 0 \\\\\n",
    "  8 & 1 & 6\n",
    "\\end{bmatrix}"
   ]
  },
  {
   "cell_type": "markdown",
   "metadata": {},
   "source": [
    "A **triangular matrix** is one that is either lower triangular or upper triangular."
   ]
  },
  {
   "cell_type": "markdown",
   "metadata": {},
   "source": [
    "A matrix that is both upper and lower triangular is called a **diagonal matrix**, for example:\n",
    "\n",
    "\\begin{bmatrix}\n",
    "  4 & 0 & 0 \\\\\n",
    "  0 & 5 & 0 \\\\\n",
    "  0 & 0 & 6\n",
    "\\end{bmatrix}\n",
    "\n",
    "You can construct a diagonal matrix using NumPy's `diag` function:"
   ]
  },
  {
   "cell_type": "code",
   "execution_count": 46,
   "metadata": {},
   "outputs": [
    {
     "data": {
      "text/plain": [
       "array([[4, 0, 0],\n",
       "       [0, 5, 0],\n",
       "       [0, 0, 6]])"
      ]
     },
     "execution_count": 46,
     "metadata": {},
     "output_type": "execute_result"
    }
   ],
   "source": [
    "np.diag([4,5,6])"
   ]
  },
  {
   "cell_type": "markdown",
   "metadata": {},
   "source": [
    "If you pass a matrix to a `diag` function, it will happily extract the diagonal values: "
   ]
  },
  {
   "cell_type": "code",
   "execution_count": 47,
   "metadata": {},
   "outputs": [
    {
     "name": "stdout",
     "output_type": "stream",
     "text": [
      "[[0 1 2]\n",
      " [3 4 5]\n",
      " [6 7 8]]\n",
      "Diagonal Elements: \n"
     ]
    },
    {
     "data": {
      "text/plain": [
       "array([0, 4, 8])"
      ]
     },
     "execution_count": 47,
     "metadata": {},
     "output_type": "execute_result"
    }
   ],
   "source": [
    "D = np.arange(9).reshape(3,3)\n",
    "print(D)\n",
    "print(\"Diagonal Elements: \")\n",
    "np.diag(D)\n",
    "              "
   ]
  },
  {
   "cell_type": "markdown",
   "metadata": {},
   "source": [
    "Finally, the **identity matrix** of size $n$, noted $I_n$, is a diagonal matrix of size $n \\times n$ with $1$'s in the main diagonal, for example $I_3$:\n",
    "\n",
    "\\begin{bmatrix}\n",
    "  1 & 0 & 0 \\\\\n",
    "  0 & 1 & 0 \\\\\n",
    "  0 & 0 & 1\n",
    "\\end{bmatrix}\n",
    "\n",
    "Numpy's `eye` function returns the identity matrix of the desired size:"
   ]
  },
  {
   "cell_type": "code",
   "execution_count": 48,
   "metadata": {},
   "outputs": [
    {
     "data": {
      "text/plain": [
       "array([[ 1.,  0.,  0.],\n",
       "       [ 0.,  1.,  0.],\n",
       "       [ 0.,  0.,  1.]])"
      ]
     },
     "execution_count": 48,
     "metadata": {},
     "output_type": "execute_result"
    }
   ],
   "source": [
    "np.eye(3)"
   ]
  },
  {
   "cell_type": "markdown",
   "metadata": {},
   "source": [
    "- The identity matrix is often noted simply $I$ (instead of $I_n$) when its size is clear given the context. \n",
    "- It is called the *identity* matrix because multiplying a matrix with it leaves the matrix unchanged as we will see below."
   ]
  },
  {
   "cell_type": "markdown",
   "metadata": {},
   "source": [
    "### Adding matrices\n",
    "- If two matrices $Q$ and $R$ have the same size $m \\times n$, they can be added together. \n",
    "- Addition is performed *elementwise*: the result is also a $m \\times n$ matrix $S$ where each element is the sum of the elements at the corresponding position: $S_{i,j} = Q_{i,j} + R_{i,j}$\n",
    "\n",
    "$S =\n",
    "\\begin{bmatrix}\n",
    "  Q_{11} + R_{11} & Q_{12} + R_{12} & Q_{13} + R_{13} & \\cdots & Q_{1n} + R_{1n} \\\\\n",
    "  Q_{21} + R_{21} & Q_{22} + R_{22} & Q_{23} + R_{23} & \\cdots & Q_{2n} + R_{2n}  \\\\\n",
    "  Q_{31} + R_{31} & Q_{32} + R_{32} & Q_{33} + R_{33} & \\cdots & Q_{3n} + R_{3n}  \\\\\n",
    "  \\vdots & \\vdots & \\vdots & \\ddots & \\vdots \\\\\n",
    "  Q_{m1} + R_{m1} & Q_{m2} + R_{m2} & Q_{m3} + R_{m3} & \\cdots & Q_{mn} + R_{mn}  \\\\\n",
    "\\end{bmatrix}$\n",
    "\n",
    "For example, let's create a $2 \\times 3$ matric $B$ and compute $A + B$:"
   ]
  },
  {
   "cell_type": "code",
   "execution_count": 49,
   "metadata": {},
   "outputs": [
    {
     "data": {
      "text/plain": [
       "array([[1, 2, 3],\n",
       "       [4, 5, 6]])"
      ]
     },
     "execution_count": 49,
     "metadata": {},
     "output_type": "execute_result"
    }
   ],
   "source": [
    "B = np.array([[1,2,3],\n",
    "            [4,5,6]])\n",
    "B"
   ]
  },
  {
   "cell_type": "code",
   "execution_count": 50,
   "metadata": {},
   "outputs": [
    {
     "data": {
      "text/plain": [
       "array([[10, 20, 30],\n",
       "       [40, 50, 60]])"
      ]
     },
     "execution_count": 50,
     "metadata": {},
     "output_type": "execute_result"
    }
   ],
   "source": [
    "A"
   ]
  },
  {
   "cell_type": "code",
   "execution_count": 51,
   "metadata": {},
   "outputs": [
    {
     "data": {
      "text/plain": [
       "array([[11, 22, 33],\n",
       "       [44, 55, 66]])"
      ]
     },
     "execution_count": 51,
     "metadata": {},
     "output_type": "execute_result"
    }
   ],
   "source": [
    "A + B "
   ]
  },
  {
   "cell_type": "markdown",
   "metadata": {},
   "source": [
    "__Addition is commmutative, __ meansing that A + B = B + A. "
   ]
  },
  {
   "cell_type": "code",
   "execution_count": 52,
   "metadata": {},
   "outputs": [
    {
     "data": {
      "text/plain": [
       "array([[11, 22, 33],\n",
       "       [44, 55, 66]])"
      ]
     },
     "execution_count": 52,
     "metadata": {},
     "output_type": "execute_result"
    }
   ],
   "source": [
    "B + A"
   ]
  },
  {
   "cell_type": "markdown",
   "metadata": {},
   "source": [
    "__It is also associative,__ meaning, A + (B + C) = ( A + B) + C: "
   ]
  },
  {
   "cell_type": "code",
   "execution_count": 53,
   "metadata": {},
   "outputs": [
    {
     "data": {
      "text/plain": [
       "array([[0, 1, 2],\n",
       "       [3, 4, 5]])"
      ]
     },
     "execution_count": 53,
     "metadata": {},
     "output_type": "execute_result"
    }
   ],
   "source": [
    "C = np.arange(6).reshape(2,3)\n",
    "C"
   ]
  },
  {
   "cell_type": "code",
   "execution_count": 54,
   "metadata": {},
   "outputs": [
    {
     "data": {
      "text/plain": [
       "array([[11, 23, 35],\n",
       "       [47, 59, 71]])"
      ]
     },
     "execution_count": 54,
     "metadata": {},
     "output_type": "execute_result"
    }
   ],
   "source": [
    "A + (B + C)\n"
   ]
  },
  {
   "cell_type": "code",
   "execution_count": 55,
   "metadata": {},
   "outputs": [
    {
     "data": {
      "text/plain": [
       "array([[11, 23, 35],\n",
       "       [47, 59, 71]])"
      ]
     },
     "execution_count": 55,
     "metadata": {},
     "output_type": "execute_result"
    }
   ],
   "source": [
    "( A + B) + C\n"
   ]
  },
  {
   "cell_type": "markdown",
   "metadata": {},
   "source": [
    "## Scalar Multiplication:  \n",
    "\n",
    "- A matrix `M` can be multiplied by a scalar,  $\\lambda$. \n",
    "- The result is noted $\\lambda M $, and it is a matrix of the same size as `M` with all elements multiplied by $\\lambda$. "
   ]
  },
  {
   "cell_type": "markdown",
   "metadata": {},
   "source": [
    "- A matrix $M$ can be multiplied by a scalar $\\lambda$. The result is noted $\\lambda M$, and it is a matrix of the same size as $M$ with all elements multiplied by $\\lambda$:\n",
    "\n",
    "$\\lambda M =\n",
    "\\begin{bmatrix}\n",
    "  \\lambda \\times M_{11} & \\lambda \\times M_{12} & \\lambda \\times M_{13} & \\cdots & \\lambda \\times M_{1n} \\\\\n",
    "  \\lambda \\times M_{21} & \\lambda \\times M_{22} & \\lambda \\times M_{23} & \\cdots & \\lambda \\times M_{2n} \\\\\n",
    "  \\lambda \\times M_{31} & \\lambda \\times M_{32} & \\lambda \\times M_{33} & \\cdots & \\lambda \\times M_{3n} \\\\\n",
    "  \\vdots & \\vdots & \\vdots & \\ddots & \\vdots \\\\\n",
    "  \\lambda \\times M_{m1} & \\lambda \\times M_{m2} & \\lambda \\times M_{m3} & \\cdots & \\lambda \\times M_{mn} \\\\\n",
    "\\end{bmatrix}$\n",
    "\n",
    "- A more concise way of writing this is:\n",
    "\n",
    "    - $(\\lambda M)_{i,j} = \\lambda (M)_{i,j}$\n",
    "\n",
    "- In NumPy, simply use the `*` operator to multiply a matrix by a scalar. For example:"
   ]
  },
  {
   "cell_type": "code",
   "execution_count": 56,
   "metadata": {},
   "outputs": [
    {
     "data": {
      "text/plain": [
       "array([[ 20,  40,  60],\n",
       "       [ 80, 100, 120]])"
      ]
     },
     "execution_count": 56,
     "metadata": {},
     "output_type": "execute_result"
    }
   ],
   "source": [
    "2 * A\n",
    "# >> Broadcasting Rules apply..\n",
    "# Rule1: \n",
    "# [2] * A\n",
    "# (1,) * (2,3) # NP\n",
    "\n",
    "# Rule1: \n",
    "# [[2]] * A\n",
    "# (1,1) * (2,3) # NP\n",
    "\n",
    "# Rule2: Extending along columns to match A. \n",
    "# [[2] [2] [2]] * A\n",
    "# (1,3) * (2,3) # NP\n",
    "\n",
    "# Rule2: Extending along rows to match A. \n",
    "# [[2] [2] [2]  *  A\n",
    "# [2] [2] [2]]  \n",
    "# (2,3) * (2,3) # Possible "
   ]
  },
  {
   "cell_type": "markdown",
   "metadata": {},
   "source": [
    "- This makes scalar multiplication __commutative.__. \n",
    "- Scalar multiplication is also __associative,__ meaning $\\alpha(\\beta M) = (\\alpha \\times \\beta)M $ where $\\alpha, \\beta $ are scalars. \n",
    "- For example: \n"
   ]
  },
  {
   "cell_type": "code",
   "execution_count": 57,
   "metadata": {},
   "outputs": [
    {
     "data": {
      "text/plain": [
       "array([[ True,  True,  True],\n",
       "       [ True,  True,  True]], dtype=bool)"
      ]
     },
     "execution_count": 57,
     "metadata": {},
     "output_type": "execute_result"
    }
   ],
   "source": [
    "982*(1864*A) == 982*(1864*A)\n",
    "# >> Both arrays are equal, and by boolean operation\n",
    "# you get a confirmation about each element being equal. "
   ]
  },
  {
   "cell_type": "markdown",
   "metadata": {},
   "source": [
    "-Finally it is __distributive over addition__, meanign that $\\lambda (Q + R) = \\lambda Q + \\lambda R$:"
   ]
  },
  {
   "cell_type": "code",
   "execution_count": 58,
   "metadata": {},
   "outputs": [
    {
     "data": {
      "text/plain": [
       "array([[ True,  True,  True],\n",
       "       [ True,  True,  True]], dtype=bool)"
      ]
     },
     "execution_count": 58,
     "metadata": {},
     "output_type": "execute_result"
    }
   ],
   "source": [
    "5*(A+B) == 5*A + 5*B"
   ]
  },
  {
   "cell_type": "markdown",
   "metadata": {},
   "source": [
    "### Matrix Multiplication:  \n",
    "- __[Cross Product](https://www.khanacademy.org/math/linear-algebra/vectors-and-spaces/dot-cross-products/v/linear-algebra-cross-product-introduction) and Matrix Multiplication are the NOT the same thing. __ \n",
    "- So far, matrix operations have been rather intuitive. But multiplying matrices is a bit more involved.  \n",
    "- A matrix $Q$ of size $m \\times n$ can be multiplied by a matrix $R$ of size $n \\times q$. \n",
    "- It is noted simply $QR$ without multiplication sign or dot. The result $P$ is an $m \\times q$ matrix where each element is computed as a sum of products: \n",
    "    - $P_{i,j} = \\sum_{k=1}^n{Q_{i,k} \\times R_{k,j}}$\n",
    "\n",
    "- The element at position $i,j$ in the resulting matrix is the sum of the products of elements in row $i$ of matrix $Q$ by the elements in column $j$ of matrix $R$.\n",
    "\n",
    "$P =\n",
    "\\begin{bmatrix}\n",
    "Q_{11} R_{11} + Q_{12} R_{21} + \\cdots + Q_{1n} R_{n1} &\n",
    "  Q_{11} R_{12} + Q_{12} R_{22} + \\cdots + Q_{1n} R_{n2} &\n",
    "    \\cdots &\n",
    "      Q_{11} R_{1q} + Q_{12} R_{2q} + \\cdots + Q_{1n} R_{nq} \\\\\n",
    "Q_{21} R_{11} + Q_{22} R_{21} + \\cdots + Q_{2n} R_{n1} &\n",
    "  Q_{21} R_{12} + Q_{22} R_{22} + \\cdots + Q_{2n} R_{n2} &\n",
    "    \\cdots &\n",
    "      Q_{21} R_{1q} + Q_{22} R_{2q} + \\cdots + Q_{2n} R_{nq} \\\\\n",
    "  \\vdots & \\vdots & \\ddots & \\vdots \\\\\n",
    "Q_{m1} R_{11} + Q_{m2} R_{21} + \\cdots + Q_{mn} R_{n1} &\n",
    "  Q_{m1} R_{12} + Q_{m2} R_{22} + \\cdots + Q_{mn} R_{n2} &\n",
    "    \\cdots &\n",
    "      Q_{m1} R_{1q} + Q_{m2} R_{2q} + \\cdots + Q_{mn} R_{nq}\n",
    "\\end{bmatrix}$\n",
    "\n",
    "- __You may notice that each element $P_{i,j}$ is the dot product of the row vector $Q_{i,*}$ and the column vector $R_{*,j}__$:\n",
    "\n",
    "$P_{i,j} = Q_{i,*} \\cdot R_{*,j}$\n",
    "\n",
    "So we can rewrite $P$ more concisely as:\n",
    "\n",
    "$P =\n",
    "\\begin{bmatrix}\n",
    "Q_{1,*} \\cdot R_{*,1} & Q_{1,*} \\cdot R_{*,2} & \\cdots & Q_{1,*} \\cdot R_{*,q} \\\\\n",
    "Q_{2,*} \\cdot R_{*,1} & Q_{2,*} \\cdot R_{*,2} & \\cdots & Q_{2,*} \\cdot R_{*,q} \\\\\n",
    "\\vdots & \\vdots & \\ddots & \\vdots \\\\\n",
    "Q_{m,*} \\cdot R_{*,1} & Q_{m,*} \\cdot R_{*,2} & \\cdots & Q_{m,*} \\cdot R_{*,q}\n",
    "\\end{bmatrix}$\n"
   ]
  },
  {
   "cell_type": "markdown",
   "metadata": {
    "collapsed": true
   },
   "source": [
    "Let's multiply two matrices in NumPy, using `ndarray`'s `dot` method:\n",
    "\n",
    "$E = AD = \\begin{bmatrix}\n",
    "  10 & 20 & 30 \\\\\n",
    "  40 & 50 & 60\n",
    "\\end{bmatrix} \n",
    "\\begin{bmatrix}\n",
    "  2 & 3 & 5 & 7 \\\\\n",
    "  11 & 13 & 17 & 19 \\\\\n",
    "  23 & 29 & 31 & 37\n",
    "\\end{bmatrix} = \n",
    "\\begin{bmatrix}\n",
    "  930 & 1160 & 1320 & 1560 \\\\\n",
    "  2010 & 2510 & 2910 & 3450\n",
    "\\end{bmatrix}$"
   ]
  },
  {
   "cell_type": "code",
   "execution_count": 59,
   "metadata": {},
   "outputs": [
    {
     "data": {
      "text/plain": [
       "array([[10, 20, 30],\n",
       "       [40, 50, 60]])"
      ]
     },
     "execution_count": 59,
     "metadata": {},
     "output_type": "execute_result"
    }
   ],
   "source": [
    "A"
   ]
  },
  {
   "cell_type": "code",
   "execution_count": 60,
   "metadata": {},
   "outputs": [
    {
     "data": {
      "text/plain": [
       "array([[ 930, 1140, 1320, 1560],\n",
       "       [2010, 2460, 2910, 3450]])"
      ]
     },
     "execution_count": 60,
     "metadata": {},
     "output_type": "execute_result"
    }
   ],
   "source": [
    "D = np.array([\n",
    "    [2, 3, 5, 7], \n",
    "    [11, 12, 17, 19],\n",
    "    [23, 29, 31, 37]\n",
    "])\n",
    "\n",
    "E = A.dot(D)\n",
    "E"
   ]
  },
  {
   "cell_type": "markdown",
   "metadata": {},
   "source": [
    "- Let's check this result by looking at one element, jsut to be sure: \n",
    "    - looking at $ E_{2,3} $ , for example, we need to multiply elements in A's 2nd row by elements in D's 3rd column. \n",
    "    "
   ]
  },
  {
   "cell_type": "code",
   "execution_count": 61,
   "metadata": {},
   "outputs": [
    {
     "data": {
      "text/plain": [
       "2910"
      ]
     },
     "execution_count": 61,
     "metadata": {},
     "output_type": "execute_result"
    }
   ],
   "source": [
    "40*5 + 50*17 + 60*31"
   ]
  },
  {
   "cell_type": "code",
   "execution_count": 62,
   "metadata": {},
   "outputs": [
    {
     "data": {
      "text/plain": [
       "2910"
      ]
     },
     "execution_count": 62,
     "metadata": {},
     "output_type": "execute_result"
    }
   ],
   "source": [
    "E[1,2]"
   ]
  },
  {
   "cell_type": "markdown",
   "metadata": {},
   "source": [
    "Looking good! \n",
    "You can check the other elements until you get used to the algorithm. \n",
    "- We multiplied a $2 \\times 3$ matrix by a $3 \\times 4$ matrix, so the result is a $2 \\times 4$ matrix. The first matrix's number of columns has to be equal to the second matrix's number of rows.\n",
    "- If we try to multiple $D$ by $A$, we get an error because D has 4 columns while A has 2 rows:"
   ]
  },
  {
   "cell_type": "code",
   "execution_count": 63,
   "metadata": {},
   "outputs": [
    {
     "name": "stdout",
     "output_type": "stream",
     "text": [
      "Value Error:  shapes (3,4) and (2,3) not aligned: 4 (dim 1) != 2 (dim 0)\n"
     ]
    }
   ],
   "source": [
    "try: \n",
    "    D.dot(A)\n",
    "except ValueError as e:\n",
    "    print(\"Value Error: \", e)"
   ]
  },
  {
   "cell_type": "markdown",
   "metadata": {},
   "source": [
    "- This illustrates the fact that **matrix multiplication is *NOT* commutative**: in general $QR ≠ RQ$\n",
    "- In order for $QR ≠ RQ$, $QR$ and $RQ$ need to exist. \n",
    "- In fact, $QR$ and $RQ$ are only *both* defined if $Q$ has size $m \\times n$ and $R$ has size $n \\times m$. \n",
    "- Let's look at an example where both *are* defined and show that they are (in general) *NOT* equal:"
   ]
  },
  {
   "cell_type": "code",
   "execution_count": 64,
   "metadata": {},
   "outputs": [
    {
     "data": {
      "text/plain": [
       "(2, 3)"
      ]
     },
     "execution_count": 64,
     "metadata": {},
     "output_type": "execute_result"
    }
   ],
   "source": [
    "A.shape"
   ]
  },
  {
   "cell_type": "code",
   "execution_count": 65,
   "metadata": {},
   "outputs": [
    {
     "data": {
      "text/plain": [
       "(3, 2)"
      ]
     },
     "execution_count": 65,
     "metadata": {},
     "output_type": "execute_result"
    }
   ],
   "source": [
    "F = np.array([\n",
    "    [5,2],\n",
    "    [4,1],\n",
    "    [9,3]\n",
    "])\n",
    "F.shape"
   ]
  },
  {
   "cell_type": "code",
   "execution_count": 66,
   "metadata": {},
   "outputs": [
    {
     "data": {
      "text/plain": [
       "array([[400, 130],\n",
       "       [940, 310]])"
      ]
     },
     "execution_count": 66,
     "metadata": {},
     "output_type": "execute_result"
    }
   ],
   "source": [
    "A.dot(F)"
   ]
  },
  {
   "cell_type": "code",
   "execution_count": 67,
   "metadata": {},
   "outputs": [
    {
     "data": {
      "text/plain": [
       "array([[130, 200, 270],\n",
       "       [ 80, 130, 180],\n",
       "       [210, 330, 450]])"
      ]
     },
     "execution_count": 67,
     "metadata": {},
     "output_type": "execute_result"
    }
   ],
   "source": [
    "F.dot(A)"
   ]
  },
  {
   "cell_type": "code",
   "execution_count": 68,
   "metadata": {},
   "outputs": [
    {
     "name": "stderr",
     "output_type": "stream",
     "text": [
      "//anaconda/envs/dlndf/lib/python3.6/site-packages/ipykernel_launcher.py:1: DeprecationWarning: elementwise == comparison failed; this will raise an error in the future.\n",
      "  \"\"\"Entry point for launching an IPython kernel.\n"
     ]
    },
    {
     "data": {
      "text/plain": [
       "False"
      ]
     },
     "execution_count": 68,
     "metadata": {},
     "output_type": "execute_result"
    }
   ],
   "source": [
    "A.dot(F) == F.dot(A)"
   ]
  },
  {
   "cell_type": "markdown",
   "metadata": {},
   "source": [
    "On the other hand, __matrix multiplication is associative __( _involving the condition that a group of quantities connected by operators gives the same result whatever their grouping, as long as their order remains the same, _)__, meaning that $Q(RS) = (QR)S$. "
   ]
  },
  {
   "cell_type": "code",
   "execution_count": null,
   "metadata": {
    "collapsed": true
   },
   "outputs": [],
   "source": []
  },
  {
   "cell_type": "code",
   "execution_count": 69,
   "metadata": {},
   "outputs": [
    {
     "data": {
      "text/plain": [
       "((2, 3), (3, 4), (4, 5))"
      ]
     },
     "execution_count": 69,
     "metadata": {},
     "output_type": "execute_result"
    }
   ],
   "source": [
    "G = np.array([\n",
    "        [8,  7,  4,  2,  5],\n",
    "        [2,  5,  1,  0,  5],\n",
    "        [9, 11, 17, 21,  0],\n",
    "        [0,  1,  0,  1,  2]])\n",
    "A.shape, D.shape, G.shape"
   ]
  },
  {
   "cell_type": "markdown",
   "metadata": {},
   "source": [
    "- As we see, the order needs to be ADG, in order to check associativeness. \n",
    "- Checking $(AD)G$"
   ]
  },
  {
   "cell_type": "code",
   "execution_count": 70,
   "metadata": {},
   "outputs": [
    {
     "data": {
      "text/plain": [
       "array([[ 930, 1140, 1320, 1560],\n",
       "       [2010, 2460, 2910, 3450]])"
      ]
     },
     "execution_count": 70,
     "metadata": {},
     "output_type": "execute_result"
    }
   ],
   "source": [
    "AD = A.dot(D)\n",
    "AD"
   ]
  },
  {
   "cell_type": "code",
   "execution_count": 71,
   "metadata": {},
   "outputs": [
    {
     "data": {
      "text/plain": [
       "array([[21600, 28290, 27300, 31140, 13470],\n",
       "       [47190, 61830, 59970, 68580, 29250]])"
      ]
     },
     "execution_count": 71,
     "metadata": {},
     "output_type": "execute_result"
    }
   ],
   "source": [
    "AD.dot(G)"
   ]
  },
  {
   "cell_type": "markdown",
   "metadata": {},
   "source": [
    "- Checking $A(DG)$"
   ]
  },
  {
   "cell_type": "code",
   "execution_count": 72,
   "metadata": {},
   "outputs": [
    {
     "data": {
      "text/plain": [
       "array([[ 67,  91,  96, 116,  39],\n",
       "       [265, 343, 345, 398, 153],\n",
       "       [521, 684, 648, 734, 334]])"
      ]
     },
     "execution_count": 72,
     "metadata": {},
     "output_type": "execute_result"
    }
   ],
   "source": [
    "DG = D.dot(G)\n",
    "DG"
   ]
  },
  {
   "cell_type": "code",
   "execution_count": 73,
   "metadata": {},
   "outputs": [
    {
     "data": {
      "text/plain": [
       "array([[21600, 28290, 27300, 31140, 13470],\n",
       "       [47190, 61830, 59970, 68580, 29250]])"
      ]
     },
     "execution_count": 73,
     "metadata": {},
     "output_type": "execute_result"
    }
   ],
   "source": [
    "A.dot(DG)"
   ]
  },
  {
   "cell_type": "code",
   "execution_count": 74,
   "metadata": {},
   "outputs": [
    {
     "data": {
      "text/plain": [
       "array([[ True,  True,  True,  True,  True],\n",
       "       [ True,  True,  True,  True,  True]], dtype=bool)"
      ]
     },
     "execution_count": 74,
     "metadata": {},
     "output_type": "execute_result"
    }
   ],
   "source": [
    "AD.dot(G) == A.dot(DG)"
   ]
  },
  {
   "cell_type": "markdown",
   "metadata": {},
   "source": [
    "- It is also __distributive over addition__ of matrices meaning that $(Q + R)S = QS + RS$. \n",
    "- For example: "
   ]
  },
  {
   "cell_type": "code",
   "execution_count": 75,
   "metadata": {},
   "outputs": [
    {
     "data": {
      "text/plain": [
       "((2, 3), (2, 3), (3, 4))"
      ]
     },
     "execution_count": 75,
     "metadata": {},
     "output_type": "execute_result"
    }
   ],
   "source": [
    "A.shape, B.shape, D.shape"
   ]
  },
  {
   "cell_type": "markdown",
   "metadata": {},
   "source": [
    "- A and B are of the same order, therefore they will be added. "
   ]
  },
  {
   "cell_type": "code",
   "execution_count": 76,
   "metadata": {},
   "outputs": [
    {
     "data": {
      "text/plain": [
       "array([[1023, 1254, 1452, 1716],\n",
       "       [2211, 2706, 3201, 3795]])"
      ]
     },
     "execution_count": 76,
     "metadata": {},
     "output_type": "execute_result"
    }
   ],
   "source": [
    "(A + B).dot(D)"
   ]
  },
  {
   "cell_type": "code",
   "execution_count": 77,
   "metadata": {},
   "outputs": [
    {
     "data": {
      "text/plain": [
       "array([[1023, 1254, 1452, 1716],\n",
       "       [2211, 2706, 3201, 3795]])"
      ]
     },
     "execution_count": 77,
     "metadata": {},
     "output_type": "execute_result"
    }
   ],
   "source": [
    "A.dot(D) + B.dot(D)"
   ]
  },
  {
   "cell_type": "markdown",
   "metadata": {},
   "source": [
    "- The product of matrix $M$ by the identity matrix (of matching size) results in the same matrix $M$. \n",
    "- More formally, if $M$ is an $m \\times n$ matrix, then: \n",
    "\n",
    "- $M_{m \\times n} I_{n \\times n} = M$\n",
    "- $I_{m \\times m} M_{m \\times n} = M$\n",
    "\n",
    "- This is generally written more consiselt (since the size of the identity matrices is unambiguous given the context. \n",
    "- $ MI = IM = M $\n",
    "\n",
    "For example: "
   ]
  },
  {
   "cell_type": "code",
   "execution_count": 78,
   "metadata": {},
   "outputs": [
    {
     "data": {
      "text/plain": [
       "(2, 3)"
      ]
     },
     "execution_count": 78,
     "metadata": {},
     "output_type": "execute_result"
    }
   ],
   "source": [
    "A.shape"
   ]
  },
  {
   "cell_type": "code",
   "execution_count": 79,
   "metadata": {},
   "outputs": [
    {
     "data": {
      "text/plain": [
       "array([[ 10.,  20.,  30.],\n",
       "       [ 40.,  50.,  60.]])"
      ]
     },
     "execution_count": 79,
     "metadata": {},
     "output_type": "execute_result"
    }
   ],
   "source": [
    "A.dot(np.eye(3))"
   ]
  },
  {
   "cell_type": "code",
   "execution_count": 80,
   "metadata": {},
   "outputs": [
    {
     "data": {
      "text/plain": [
       "array([[ 10.,  20.,  30.],\n",
       "       [ 40.,  50.,  60.]])"
      ]
     },
     "execution_count": 80,
     "metadata": {},
     "output_type": "execute_result"
    }
   ],
   "source": [
    "np.eye(2).dot(A)"
   ]
  },
  {
   "cell_type": "markdown",
   "metadata": {},
   "source": [
    "__Caution:__ NumPy's $*$ operator performs elementwise multiplication, NOT matrix multiplicaiton: "
   ]
  },
  {
   "cell_type": "code",
   "execution_count": 81,
   "metadata": {},
   "outputs": [
    {
     "data": {
      "text/plain": [
       "array([[ 10,  40,  90],\n",
       "       [160, 250, 360]])"
      ]
     },
     "execution_count": 81,
     "metadata": {},
     "output_type": "execute_result"
    }
   ],
   "source": [
    "A * B # NOT a matrix multiplication\n",
    "      # In fact, it is not possible to do a matrix \n",
    "      # multiplication if we get no error while doing\n",
    "      # elementwise multiplication. \n",
    "      # No error means, that A and B's size is same.  "
   ]
  },
  {
   "cell_type": "markdown",
   "metadata": {},
   "source": [
    "__The @infix operator: __  \n",
    "Python 3.5 [introduced](https://docs.python.org/3/whatsnew/3.5.html#pep-465-a-dedicated-infix-operator-for-matrix-multiplication) the `@` infix operator for matrix multiplication, and NumPy 1.10 added support for it. \n",
    "- If you are using Python 3.5+ and NumPy 1.10+, you can simply write `A @ D` instead of `A.dot(D)`, making your code much more readable (but less portable).\n",
    "- This operator also works for vector dot products."
   ]
  },
  {
   "cell_type": "code",
   "execution_count": 82,
   "metadata": {},
   "outputs": [
    {
     "data": {
      "text/plain": [
       "array([[ True,  True,  True,  True],\n",
       "       [ True,  True,  True,  True]], dtype=bool)"
      ]
     },
     "execution_count": 82,
     "metadata": {},
     "output_type": "execute_result"
    }
   ],
   "source": [
    "A.dot(D) == A @ D"
   ]
  },
  {
   "cell_type": "markdown",
   "metadata": {},
   "source": [
    "- Note: `Q @ R` is actually equivalent to `Q.__matmul__(R)` which is implemented by NumPy as `np.matmul(Q, R)`, not as `Q.dot(R)`. \n",
    "- The main difference is that `matmul` does not support scalar multiplication, while `dot` does, so you can write `Q.dot(3)`, which is equivalent to `Q * 3`, but you cannot write `Q @ 3` ([more details](http://stackoverflow.com/a/34142617/38626))."
   ]
  },
  {
   "cell_type": "markdown",
   "metadata": {},
   "source": [
    "## Matrix Transpose: \n",
    "\n",
    "The transpose of a matrix $M$ is a matrix notes $M^T$ such that the $i^{th}$ row in $M^T$ is equal to the $i^{th}$ column in $M$. \n",
    "\n",
    "$ A^T =\n",
    "\\begin{bmatrix}\n",
    "  10 & 20 & 30 \\\\\n",
    "  40 & 50 & 60\n",
    "\\end{bmatrix}^T =\n",
    "\\begin{bmatrix}\n",
    "  10 & 40 \\\\\n",
    "  20 & 50 \\\\\n",
    "  30 & 60\n",
    "\\end{bmatrix}$\n",
    "\n",
    "In other words, ($A^T)_{i,j}$ = $A_{j,i}$\n",
    "\n",
    "Obviously, if $M$ is an $m \\times n$ matrix, then $M^T$ is an $n \\times m$ matrix.\n",
    "\n",
    "Note: there are a few other notations, such as $M^t$, $M′$, or ${^t}M$.\n",
    "\n",
    "In NumPy, a matrix's transpose can be obtained simply using the `T` attribute:"
   ]
  },
  {
   "cell_type": "code",
   "execution_count": 83,
   "metadata": {},
   "outputs": [
    {
     "data": {
      "text/plain": [
       "array([[10, 20, 30],\n",
       "       [40, 50, 60]])"
      ]
     },
     "execution_count": 83,
     "metadata": {},
     "output_type": "execute_result"
    }
   ],
   "source": [
    "A"
   ]
  },
  {
   "cell_type": "code",
   "execution_count": 84,
   "metadata": {},
   "outputs": [
    {
     "data": {
      "text/plain": [
       "array([[10, 40],\n",
       "       [20, 50],\n",
       "       [30, 60]])"
      ]
     },
     "execution_count": 84,
     "metadata": {},
     "output_type": "execute_result"
    }
   ],
   "source": [
    "A.T"
   ]
  },
  {
   "cell_type": "markdown",
   "metadata": {},
   "source": [
    "- As you might expect, transposing a matrix twice, returns the original matrix: "
   ]
  },
  {
   "cell_type": "code",
   "execution_count": 85,
   "metadata": {},
   "outputs": [
    {
     "data": {
      "text/plain": [
       "array([[10, 20, 30],\n",
       "       [40, 50, 60]])"
      ]
     },
     "execution_count": 85,
     "metadata": {},
     "output_type": "execute_result"
    }
   ],
   "source": [
    "A.T.T"
   ]
  },
  {
   "cell_type": "markdown",
   "metadata": {},
   "source": [
    "Transposition is distributive over addition of matrices, meaning that $(Q + R)^T = Q^T + R^T$. \n",
    "For example: "
   ]
  },
  {
   "cell_type": "code",
   "execution_count": 86,
   "metadata": {},
   "outputs": [
    {
     "data": {
      "text/plain": [
       "((2, 3), (2, 3))"
      ]
     },
     "execution_count": 86,
     "metadata": {},
     "output_type": "execute_result"
    }
   ],
   "source": [
    "A.shape, B.shape"
   ]
  },
  {
   "cell_type": "code",
   "execution_count": 87,
   "metadata": {},
   "outputs": [
    {
     "data": {
      "text/plain": [
       "array([[11, 44],\n",
       "       [22, 55],\n",
       "       [33, 66]])"
      ]
     },
     "execution_count": 87,
     "metadata": {},
     "output_type": "execute_result"
    }
   ],
   "source": [
    "(A + B).T"
   ]
  },
  {
   "cell_type": "code",
   "execution_count": 88,
   "metadata": {},
   "outputs": [
    {
     "data": {
      "text/plain": [
       "array([[11, 44],\n",
       "       [22, 55],\n",
       "       [33, 66]])"
      ]
     },
     "execution_count": 88,
     "metadata": {},
     "output_type": "execute_result"
    }
   ],
   "source": [
    "A.T  + B.T "
   ]
  },
  {
   "cell_type": "code",
   "execution_count": 89,
   "metadata": {},
   "outputs": [
    {
     "data": {
      "text/plain": [
       "array([[ True,  True],\n",
       "       [ True,  True],\n",
       "       [ True,  True]], dtype=bool)"
      ]
     },
     "execution_count": 89,
     "metadata": {},
     "output_type": "execute_result"
    }
   ],
   "source": [
    "A.T + B.T == (A + B).T"
   ]
  },
  {
   "cell_type": "markdown",
   "metadata": {},
   "source": [
    "- Moreover, $(Q \\cdot R)^T = R^T \\cdot Q^T$. Note that the order is reversed. \n",
    "- For example:"
   ]
  },
  {
   "cell_type": "code",
   "execution_count": 90,
   "metadata": {},
   "outputs": [
    {
     "data": {
      "text/plain": [
       "((2, 3), (3, 4))"
      ]
     },
     "execution_count": 90,
     "metadata": {},
     "output_type": "execute_result"
    }
   ],
   "source": [
    "A.shape, D.shape"
   ]
  },
  {
   "cell_type": "code",
   "execution_count": 91,
   "metadata": {},
   "outputs": [
    {
     "data": {
      "text/plain": [
       "array([[ 930, 2010],\n",
       "       [1140, 2460],\n",
       "       [1320, 2910],\n",
       "       [1560, 3450]])"
      ]
     },
     "execution_count": 91,
     "metadata": {},
     "output_type": "execute_result"
    }
   ],
   "source": [
    "(A.dot(D)).T\n",
    "# >> 2,3 x 3,4 = 2x4 transpose = 4x2"
   ]
  },
  {
   "cell_type": "code",
   "execution_count": 92,
   "metadata": {},
   "outputs": [
    {
     "data": {
      "text/plain": [
       "array([[ 930, 2010],\n",
       "       [1140, 2460],\n",
       "       [1320, 2910],\n",
       "       [1560, 3450]])"
      ]
     },
     "execution_count": 92,
     "metadata": {},
     "output_type": "execute_result"
    }
   ],
   "source": [
    "D.T.dot(A.T)\n",
    "# >> 4,3 x 3,2 = 4x2"
   ]
  },
  {
   "cell_type": "code",
   "execution_count": 93,
   "metadata": {},
   "outputs": [
    {
     "data": {
      "text/plain": [
       "array([[ True,  True],\n",
       "       [ True,  True],\n",
       "       [ True,  True],\n",
       "       [ True,  True]], dtype=bool)"
      ]
     },
     "execution_count": 93,
     "metadata": {},
     "output_type": "execute_result"
    }
   ],
   "source": [
    "(A.dot(D)).T == (D.T.dot(A.T))"
   ]
  },
  {
   "cell_type": "markdown",
   "metadata": {},
   "source": [
    "- A **symmetric matrix** $M$ is defined as a matrix that is equal to its transpose: $M^T = M$. \n",
    "- This definition implies that it must be a square matrix whose elements are symmetric relative to the main diagonal,\n",
    "- Meaning, if you draw a diagonal from top-left to bottom right, cutting all the element which are part of the diagonal , you will see the numbers that appear above the diagonal (22, 36, 2, 0, 49) are symmetric to the ones that appear below the diagonal\n",
    "- for example:\n",
    "\n",
    "\\begin{bmatrix}\n",
    "  17 & 22 & 27 & 49 \\\\\n",
    "  22 & 29 & 36 & 0 \\\\\n",
    "  27 & 36 & 45 & 2 \\\\\n",
    "  49 & 0 & 2 & 99\n",
    "\\end{bmatrix}\n",
    "\n",
    "- The product of a matrix by its transpose is always a symmetric matrix, for example:"
   ]
  },
  {
   "cell_type": "code",
   "execution_count": 94,
   "metadata": {},
   "outputs": [
    {
     "data": {
      "text/plain": [
       "array([[  87,  276,  547],\n",
       "       [ 276,  915, 1831],\n",
       "       [ 547, 1831, 3700]])"
      ]
     },
     "execution_count": 94,
     "metadata": {},
     "output_type": "execute_result"
    }
   ],
   "source": [
    "D.dot(D.T)"
   ]
  },
  {
   "cell_type": "markdown",
   "metadata": {},
   "source": [
    "### Converting 1D array to 2D arrays in NumPy: \n",
    "\n",
    "As we mentioned earlier, in NumPy (as oppossed to Matlab, for example), 1D really means 1D: There is no such thing as a vertical 1D-arrya or a horizontal 1D array.  \n",
    "So , you should not be surprised to see that transposing a 1D arrays does not do anything. "
   ]
  },
  {
   "cell_type": "code",
   "execution_count": 95,
   "metadata": {},
   "outputs": [
    {
     "data": {
      "text/plain": [
       "array([2, 5])"
      ]
     },
     "execution_count": 95,
     "metadata": {},
     "output_type": "execute_result"
    }
   ],
   "source": [
    "u"
   ]
  },
  {
   "cell_type": "code",
   "execution_count": 96,
   "metadata": {},
   "outputs": [
    {
     "data": {
      "text/plain": [
       "array([2, 5])"
      ]
     },
     "execution_count": 96,
     "metadata": {},
     "output_type": "execute_result"
    }
   ],
   "source": [
    "u.T"
   ]
  },
  {
   "cell_type": "markdown",
   "metadata": {},
   "source": [
    "- We want to conver __u__ into a row vector before transposing it. \n",
    "- There are a few ways to do this: \n",
    "    - i ) Using `reshape`: \n",
    "        - For a row vector, you are sure that you want `1` row, right? Enter that. And then enter a `-1` for the number of columns, as they will be inferred from the number of elements in the 1D array. \n",
    "        - For a column vector, you are sure that you want `1` column, right? Enter that. and then eneter a `-1` for the number of rows, as they will be inferred form the number of elements in the 1D array. "
   ]
  },
  {
   "cell_type": "code",
   "execution_count": 97,
   "metadata": {},
   "outputs": [
    {
     "data": {
      "text/plain": [
       "array([[2, 5]])"
      ]
     },
     "execution_count": 97,
     "metadata": {},
     "output_type": "execute_result"
    }
   ],
   "source": [
    "# Making u a 2 dimensional row vector: \n",
    "u.reshape(1,-1)"
   ]
  },
  {
   "cell_type": "code",
   "execution_count": 98,
   "metadata": {},
   "outputs": [
    {
     "data": {
      "text/plain": [
       "array([[2],\n",
       "       [5]])"
      ]
     },
     "execution_count": 98,
     "metadata": {},
     "output_type": "execute_result"
    }
   ],
   "source": [
    "# Making u a 2 dimensional column vector: \n",
    "u.reshape(-1, 1)"
   ]
  },
  {
   "cell_type": "markdown",
   "metadata": {},
   "source": [
    "- Other ways: \n",
    "    - ii) Make a row vector manually, using brackets. "
   ]
  },
  {
   "cell_type": "code",
   "execution_count": 99,
   "metadata": {},
   "outputs": [
    {
     "data": {
      "text/plain": [
       "array([[2, 5]])"
      ]
     },
     "execution_count": 99,
     "metadata": {},
     "output_type": "execute_result"
    }
   ],
   "source": [
    "u_row = np.array([u])\n",
    "u_row"
   ]
  },
  {
   "cell_type": "markdown",
   "metadata": {},
   "source": [
    "Notice the extra square brackets: this is a 2D array with just one row (ie. a 1x2 matrix). In other words it really is a **row vector**."
   ]
  },
  {
   "cell_type": "markdown",
   "metadata": {},
   "source": [
    "DOUBT: https://stackoverflow.com/questions/19646726/unsuccessful-append-to-an-empty-numpy-array"
   ]
  },
  {
   "cell_type": "code",
   "execution_count": 100,
   "metadata": {},
   "outputs": [
    {
     "data": {
      "text/plain": [
       "'new_array = np.array()\\nfor element in u:\\n    new_array = np.append(new_array, [[element]])\\n    print(new_array)\\nprint(new_array)'"
      ]
     },
     "execution_count": 100,
     "metadata": {},
     "output_type": "execute_result"
    }
   ],
   "source": [
    "\"\"\"new_array = np.array()\n",
    "for element in u:\n",
    "    new_array = np.append(new_array, [[element]])\n",
    "    print(new_array)\n",
    "print(new_array)\"\"\""
   ]
  },
  {
   "cell_type": "markdown",
   "metadata": {},
   "source": [
    "- iii) This is quite explicit. Adding a new axis using `np.newaxis`. \n",
    "    - Think of it like indexing\n",
    "    - When we have `np.newaxis` is the rows place and a `:` in the columns place,  we are making a row vector. \n",
    "    - When we have `np.newaixs` is the columns place and a `:` in the rows place, we making a colum vector. "
   ]
  },
  {
   "cell_type": "code",
   "execution_count": 101,
   "metadata": {},
   "outputs": [
    {
     "data": {
      "text/plain": [
       "array([[2, 5]])"
      ]
     },
     "execution_count": 101,
     "metadata": {},
     "output_type": "execute_result"
    }
   ],
   "source": [
    "# Using np.newaxis to make u a row vector\n",
    "u[np.newaxis, :] \n",
    "# >> Telling to add a vertical axis, first axis, axis = 0. "
   ]
  },
  {
   "cell_type": "code",
   "execution_count": 102,
   "metadata": {},
   "outputs": [
    {
     "data": {
      "text/plain": [
       "array([[2],\n",
       "       [5]])"
      ]
     },
     "execution_count": 102,
     "metadata": {},
     "output_type": "execute_result"
    }
   ],
   "source": [
    "# Using np.newaxis to make u a column vector\n",
    "u[:, np.newaxis] \n",
    "# >> Telling to add a horizontal axis, second axis, axis = 1"
   ]
  },
  {
   "cell_type": "markdown",
   "metadata": {},
   "source": [
    "## Plotting a matrix: \n",
    "\n",
    "- We have already seen that vectors can be represented as points or arrows in N-dimnesional space.\n",
    "- Is there a good graphical representaiton of matrices? \n",
    "    - Well, you can simply see a matrix as a list of vector, so plotting a matrix result in many points or arrows.\n",
    "    - For example, lets create a $ 2 \\times 4$ matrix `P` and plot it as points: "
   ]
  },
  {
   "cell_type": "markdown",
   "metadata": {},
   "source": [
    "- When we had vectors, how did we extract the x and y coordinates? \n",
    "\n",
    "```python\n",
    "\n",
    "u = np.array([2,5])\n",
    "v = np.array([3,1])\n",
    "# x_coords  (3, 2)\n",
    "# y_coords  (1, 5)\n",
    "```\n",
    "- We assumed 1 of the element in the vector to be an x coordinate, and another element to be the y coordinate. \n",
    "- __ DOUBT. Similarly, In a matrix, we assume a vector to be a column vector, not a row vector ( for some reason i am not aware of)__.\n",
    "- So we take the x,y,z,.. elements from each column. "
   ]
  },
  {
   "cell_type": "code",
   "execution_count": 103,
   "metadata": {},
   "outputs": [
    {
     "data": {
      "text/plain": [
       "(array([ 3. ,  4. ,  1. ,  4.6]), array([ 0.2,  3.5,  2. ,  0.5]))"
      ]
     },
     "execution_count": 103,
     "metadata": {},
     "output_type": "execute_result"
    }
   ],
   "source": [
    "P = np.array([\n",
    "        [3.0, 4.0, 1.0, 4.6],\n",
    "        [0.2, 3.5, 2.0, 0.5]  \n",
    "])\n",
    "\n",
    "# Let's find the x and y coordinates (points)\n",
    "x_coords_P , y_coords_P = P\n",
    "x_coords_P , y_coords_P"
   ]
  },
  {
   "cell_type": "code",
   "execution_count": 104,
   "metadata": {},
   "outputs": [
    {
     "data": {
      "text/plain": [
       "[0, 5, 0, 4]"
      ]
     },
     "execution_count": 104,
     "metadata": {},
     "output_type": "execute_result"
    },
    {
     "data": {
      "image/png": "[encoded data removed]",
      "text/plain": [
       "<matplotlib.figure.Figure at 0x10d75dba8>"
      ]
     },
     "metadata": {},
     "output_type": "display_data"
    }
   ],
   "source": [
    "plt.scatter(x_coords_P, y_coords_P)\n",
    "plt.axis([0,5,0,4])"
   ]
  },
  {
   "cell_type": "markdown",
   "metadata": {},
   "source": [
    "- Ofcourse we could also have stored the 4 vectors `([3,0.2], [4.0,3.5], [1.0,2.0], [4.6, 0.5])` as row vectors, instead of column vectors. "
   ]
  },
  {
   "cell_type": "code",
   "execution_count": 105,
   "metadata": {},
   "outputs": [
    {
     "data": {
      "text/plain": [
       "array([[ 3. ,  0.2],\n",
       "       [ 4. ,  3.5],\n",
       "       [ 1. ,  2. ],\n",
       "       [ 4.6,  0.5]])"
      ]
     },
     "execution_count": 105,
     "metadata": {},
     "output_type": "execute_result"
    }
   ],
   "source": [
    "P.T"
   ]
  },
  {
   "cell_type": "code",
   "execution_count": 106,
   "metadata": {},
   "outputs": [
    {
     "data": {
      "text/plain": [
       "(array([ 3. ,  4. ,  1. ,  4.6]), array([ 0.2,  3.5,  2. ,  0.5]))"
      ]
     },
     "execution_count": 106,
     "metadata": {},
     "output_type": "execute_result"
    }
   ],
   "source": [
    "P = np.array([[3,0.2],\n",
    "             [4.0,3.5], \n",
    "             [1.0,2.0],\n",
    "             [4.6, 0.5]])\n",
    "x_coords_P, y_coords_P = P[:,0], P[:,1]\n",
    "x_coords_P, y_coords_P"
   ]
  },
  {
   "cell_type": "code",
   "execution_count": 107,
   "metadata": {},
   "outputs": [
    {
     "data": {
      "text/plain": [
       "[0, 5, 0, 4]"
      ]
     },
     "execution_count": 107,
     "metadata": {},
     "output_type": "execute_result"
    },
    {
     "data": {
      "image/png": "[encoded data removed]",
      "text/plain": [
       "<matplotlib.figure.Figure at 0x10d7fed68>"
      ]
     },
     "metadata": {},
     "output_type": "display_data"
    }
   ],
   "source": [
    "plt.scatter(x_coords_P, y_coords_P)\n",
    "plt.axis([0,5,0,4])"
   ]
  },
  {
   "cell_type": "markdown",
   "metadata": {},
   "source": [
    "Since the vectors are ordered, you can see the matrix as a path and represent it with connected dots. "
   ]
  },
  {
   "cell_type": "code",
   "execution_count": 108,
   "metadata": {},
   "outputs": [
    {
     "data": {
      "image/png": "[encoded data removed]",
      "text/plain": [
       "<matplotlib.figure.Figure at 0x10d8360f0>"
      ]
     },
     "metadata": {},
     "output_type": "display_data"
    }
   ],
   "source": [
    "plt.plot(x_coords_P, y_coords_P, \"bo\")\n",
    "# >> Plots the vectors with blue points\n",
    "\n",
    "plt.plot(x_coords_P, y_coords_P, \"b--\")\n",
    "# >> Draws a line connecting the points in order. \n",
    "\n",
    "plt.axis([0, 5, 0, 4])\n",
    "plt.grid()\n",
    "plt.show()"
   ]
  },
  {
   "cell_type": "markdown",
   "metadata": {},
   "source": [
    "- Or you can also represent it as _polygon_: Matplotlib's class expects an $ n \\times 2 $ NumPy array, and not a $ 2 \\times n$ array. "
   ]
  },
  {
   "cell_type": "code",
   "execution_count": 109,
   "metadata": {},
   "outputs": [
    {
     "data": {
      "text/plain": [
       "(4, 2)"
      ]
     },
     "execution_count": 109,
     "metadata": {},
     "output_type": "execute_result"
    }
   ],
   "source": [
    "P.shape"
   ]
  },
  {
   "cell_type": "code",
   "execution_count": 110,
   "metadata": {},
   "outputs": [
    {
     "data": {
      "image/png": "[encoded data removed]",
      "text/plain": [
       "<matplotlib.figure.Figure at 0x10dacd320>"
      ]
     },
     "metadata": {},
     "output_type": "display_data"
    }
   ],
   "source": [
    "from matplotlib.patches import Polygon\n",
    "plt.gca().add_artist(Polygon(P))\n",
    "plt.axis([0,5 ,0 ,4])\n",
    "plt.grid()"
   ]
  },
  {
   "cell_type": "markdown",
   "metadata": {},
   "source": [
    "### Geometric applications of matrix operations:  \n",
    "\n"
   ]
  },
  {
   "cell_type": "markdown",
   "metadata": {},
   "source": [
    "We saw earlier that: \n",
    "- vector addition results in geometric translation (CODE BLOCK 18) , \n",
    "- vector multiplication by scalar results in rescaling (zoomin in or out, centered on the origin , CODE BLOCK 23)\n",
    "- vector dot product results in projecting a vector onto another vector, rescaling and measuring the resulting coordinate ( CODE BLOCK 36) .\n",
    "\n",
    "- Similatly, matrix operations have very useful geometric applications. "
   ]
  },
  {
   "cell_type": "markdown",
   "metadata": {},
   "source": [
    "### Addition = Multiple Geometric Translations  \n",
    "- First, adding two matrices together is equivalent to adding all their vectors together. \n",
    "- For example, let's create a $ 2 \\times 4 $ matrix $H$, and add it to $P$, and look at the result. "
   ]
  },
  {
   "cell_type": "code",
   "execution_count": 111,
   "metadata": {
    "collapsed": true
   },
   "outputs": [],
   "source": [
    "P = np.array([\n",
    "        [3.0, 4.0, 1.0, 4.6],\n",
    "        [0.2, 3.5, 2.0, 0.5]  \n",
    "])"
   ]
  },
  {
   "cell_type": "code",
   "execution_count": 112,
   "metadata": {},
   "outputs": [
    {
     "data": {
      "text/plain": [
       "array([[ 3.5,  3.8,  1.2,  4.5],\n",
       "       [ 0.6,  3.9,  3.5,  1.1]])"
      ]
     },
     "execution_count": 112,
     "metadata": {},
     "output_type": "execute_result"
    }
   ],
   "source": [
    "H = np.array([\n",
    "        [ 0.5, -0.2, 0.2, -0.1],\n",
    "        [ 0.4,  0.4, 1.5, 0.6]\n",
    "    ])\n",
    "P_moved = P + H\n",
    "P_moved"
   ]
  },
  {
   "cell_type": "code",
   "execution_count": 113,
   "metadata": {},
   "outputs": [
    {
     "name": "stdout",
     "output_type": "stream",
     "text": [
      "[ 0.5  0.4]\n",
      "[ 3.   0.2]\n",
      "[-0.2  0.4]\n",
      "[ 4.   3.5]\n",
      "[ 0.2  1.5]\n",
      "[ 1.  2.]\n",
      "[-0.1  0.6]\n",
      "[ 4.6  0.5]\n"
     ]
    },
    {
     "data": {
      "image/png": "[encoded data removed]",
      "text/plain": [
       "<matplotlib.figure.Figure at 0x10d96f748>"
      ]
     },
     "metadata": {},
     "output_type": "display_data"
    }
   ],
   "source": [
    "plt.gca().add_artist(Polygon(P.T, alpha=0.2))\n",
    "# >> Using P.T as Polygon only accepts n x 2 arrays\n",
    "\n",
    "plt.gca().add_artist(Polygon(P_moved.T, alpha=0.3, color=\"r\"))\n",
    "# >> Plotting the moved matrix.  \n",
    "\n",
    "for vector, origin in zip(H.T, P.T):\n",
    "    # Plotting all vectors of H.T\n",
    "    # taking the origin as P.T \n",
    "    # The heads the vector would lie at the points\n",
    "    # of P.T\n",
    "    # The tails would lie at the points of moved P,\n",
    "    # when we add h to it \n",
    "    print(vector)\n",
    "    print(origin)\n",
    "    # >> i.e Plotting a vector:\n",
    "    # From(P.T):     Plus(H.T)     To(Move_P:\n",
    "    # 3,0.2   0.5, 0.4  3.5, 0.6 (see in graph)\n",
    "    # and so on...\n",
    "    \n",
    "    plot_vector2d(vector, origin=origin)\n",
    "    \n",
    "\n",
    "plt.text(2.2, 1.8, \"$P$\", color=\"b\", fontsize=18)\n",
    "plt.text(2.0, 3.2, \"$P+H$\", color=\"r\", fontsize=18)\n",
    "plt.text(2.5, 0.5, \"$H_{*,1}$\", color=\"k\", fontsize=18)\n",
    "plt.text(4.1, 3.5, \"$H_{*,2}$\", color=\"k\", fontsize=18)\n",
    "plt.text(0.4, 2.6, \"$H_{*,3}$\", color=\"k\", fontsize=18)\n",
    "plt.text(4.4, 0.2, \"$H_{*,4}$\", color=\"k\", fontsize=18)\n",
    "\n",
    "plt.axis([0, 5, 0, 4])\n",
    "plt.grid()\n",
    "plt.show()"
   ]
  },
  {
   "cell_type": "markdown",
   "metadata": {},
   "source": [
    "- If we add a matrix full of identical vectors, we get a simple geometric translation. \n",
    "    - As each part of the original polygon will move equally. \n"
   ]
  },
  {
   "cell_type": "code",
   "execution_count": 114,
   "metadata": {},
   "outputs": [
    {
     "data": {
      "image/png": "[encoded data removed]",
      "text/plain": [
       "<matplotlib.figure.Figure at 0x10d34d128>"
      ]
     },
     "metadata": {},
     "output_type": "display_data"
    }
   ],
   "source": [
    "H2 = np.array([\n",
    "        [-0.5, -0.5, -0.5, -0.5],\n",
    "        [ 0.4,  0.4,  0.4,  0.4]\n",
    "    ])\n",
    "P_translated = P + H2\n",
    "\n",
    "plt.gca().add_artist(Polygon(P.T, alpha=0.2))\n",
    "plt.gca().add_artist(Polygon(P_translated.T, alpha=0.3, color=\"r\"))\n",
    "for vector, origin in zip(H2.T, P.T):\n",
    "    plot_vector2d(vector, origin=origin)\n",
    "\n",
    "plt.axis([0, 5, 0, 4])\n",
    "plt.grid()\n",
    "plt.show()"
   ]
  },
  {
   "cell_type": "markdown",
   "metadata": {},
   "source": [
    "- Although matrices can only be added together if they have the same size, \n",
    "    - NumPy allows adding a row vector or a column vector to a matrix. \n",
    "- This is done by broadcasting:\n",
    "\n",
    "```python\n",
    "\n",
    "[[ 3. ,  4. ,  1. ,  4.6],    [[-0.5, -0.5, -0.5, -0.5],\n",
    "                           +  \n",
    "[ 0.2,  3.5,  2. ,  0.5]],      [ 0.4,  0.4,  0.4,  0.4]]\n",
    "\n",
    "# IS THE SAME AS: \n",
    "\n",
    "[[ 3. ,  4. ,  1. ,  4.6],      [[-0.5],\n",
    "                            +    [0.4]]             \n",
    "[ 0.2,  3.5,  2. ,  0.5]],   \n",
    "\n",
    "# (2,4)  + (2,1) # NP\n",
    "\n",
    "# Rule 2: Repeating along columns \n",
    "# [[ 3. ,  4. ,  1. ,  4.6],    [[-0.5, -0.5, -0.5, -0.5],\n",
    "#                            +  \n",
    "# [ 0.2,  3.5,  2. ,  0.5]],      [ 0.4,  0.4,  0.4,  0.4]]\n",
    "# (2,4) + (2,4) # Possible \n",
    "\n",
    "```\n"
   ]
  },
  {
   "cell_type": "code",
   "execution_count": 115,
   "metadata": {},
   "outputs": [
    {
     "ename": "IndentationError",
     "evalue": "unexpected indent (<ipython-input-115-b607b2c1865d>, line 2)",
     "output_type": "error",
     "traceback": [
      "\u001b[0;36m  File \u001b[0;32m\"<ipython-input-115-b607b2c1865d>\"\u001b[0;36m, line \u001b[0;32m2\u001b[0m\n\u001b[0;31m    (array([ 0.2,  3.5,  2. ,  0.5]), array([ 0.4,  0.4,  0.4,  0.4]))\u001b[0m\n\u001b[0m    ^\u001b[0m\n\u001b[0;31mIndentationError\u001b[0m\u001b[0;31m:\u001b[0m unexpected indent\n"
     ]
    }
   ],
   "source": [
    "(array([ 3. ,  4. ,  1. ,  4.6]), array([-0.5, -0.5, -0.5, -0.5])),\n",
    " (array([ 0.2,  3.5,  2. ,  0.5]), array([ 0.4,  0.4,  0.4,  0.4]))"
   ]
  },
  {
   "cell_type": "markdown",
   "metadata": {},
   "source": [
    "### Scalar Multiplication: \n",
    "Multiplying a matrix by a scalar results in all its vectors being multiplied by that scalar, so unsurprisingly, the geometric result is a rescaling of the entire figure. For example, let's rescale our polygon by a factor of 60% (zooming out, centered on the origin):"
   ]
  },
  {
   "cell_type": "code",
   "execution_count": null,
   "metadata": {},
   "outputs": [],
   "source": [
    "def plot_transformation(P_before, P_after, text_before, text_after, axis = [0, 5, 0, 4], arrows=False):\n",
    "    if arrows:\n",
    "        for vector_before, vector_after in zip(P_before.T, P_after.T):\n",
    "            plot_vector2d(vector_before, color=\"blue\", linestyle=\"--\")\n",
    "            plot_vector2d(vector_after, color=\"red\", linestyle=\"-\")\n",
    "    plt.gca().add_artist(Polygon(P_before.T, alpha=0.2))\n",
    "    plt.gca().add_artist(Polygon(P_after.T, alpha=0.3, color=\"r\"))\n",
    "    plt.text(P_before[0].mean(), P_before[1].mean(), text_before, fontsize=18, color=\"blue\")\n",
    "    plt.text(P_after[0].mean(), P_after[1].mean(), text_after, fontsize=18, color=\"red\")\n",
    "    plt.axis(axis)\n",
    "    plt.grid()\n",
    "\n",
    "P_rescaled = 0.60 * P\n",
    "plot_transformation(P, P_rescaled, \"$P$\", \"$0.6 P$\", arrows=True)\n",
    "plt.show()"
   ]
  },
  {
   "cell_type": "markdown",
   "metadata": {},
   "source": [
    "- As each element of the matrix was multiplied by the same scalar `0.6`, each vector in the matrix got scaled by a factor of `0.6`, which ultimately led to rescaling the polygonal by a factor of `0.6`. "
   ]
  },
  {
   "cell_type": "markdown",
   "metadata": {},
   "source": [
    "### Matrix Multiplication -Rotation: "
   ]
  }
 ],
 "metadata": {
  "kernelspec": {
   "display_name": "Python 3",
   "language": "python",
   "name": "python3"
  },
  "language_info": {
   "codemirror_mode": {
    "name": "ipython",
    "version": 3
   },
   "file_extension": ".py",
   "mimetype": "text/x-python",
   "name": "python",
   "nbconvert_exporter": "python",
   "pygments_lexer": "ipython3",
   "version": "3.6.1"
  }
 },
 "nbformat": 4,
 "nbformat_minor": 2
}
