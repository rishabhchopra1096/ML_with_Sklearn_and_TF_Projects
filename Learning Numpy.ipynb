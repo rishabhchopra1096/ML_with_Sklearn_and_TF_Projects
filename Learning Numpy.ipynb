{
 "cells": [
  {
   "cell_type": "code",
   "execution_count": 1,
   "metadata": {
    "collapsed": true
   },
   "outputs": [],
   "source": [
    "import numpy as np"
   ]
  },
  {
   "cell_type": "markdown",
   "metadata": {},
   "source": [
    "__1. `np.zeros` __\n",
    "- creates an array containing number of zeros. "
   ]
  },
  {
   "cell_type": "code",
   "execution_count": 2,
   "metadata": {},
   "outputs": [
    {
     "data": {
      "text/plain": [
       "array([ 0.,  0.,  0.,  0.,  0.])"
      ]
     },
     "execution_count": 2,
     "metadata": {},
     "output_type": "execute_result"
    }
   ],
   "source": [
    "np.zeros(5)"
   ]
  },
  {
   "cell_type": "markdown",
   "metadata": {},
   "source": [
    "It's just easy to create a 2D array (i.e a matrix) by proving a tuple with the desired number of rows and columns. \n",
    "For example, here's a 3x4 matrix. "
   ]
  },
  {
   "cell_type": "code",
   "execution_count": 3,
   "metadata": {},
   "outputs": [
    {
     "data": {
      "text/plain": [
       "array([[ 0.,  0.,  0.,  0.],\n",
       "       [ 0.,  0.,  0.,  0.],\n",
       "       [ 0.,  0.,  0.,  0.]])"
      ]
     },
     "execution_count": 3,
     "metadata": {},
     "output_type": "execute_result"
    }
   ],
   "source": [
    "np.zeros((3,4))"
   ]
  },
  {
   "cell_type": "markdown",
   "metadata": {},
   "source": [
    "## Some Vocabulary: \n",
    "- In NumPy, each dimension is called an __axis__. \n",
    "- The number of axes is called the __rank__. \n",
    "    - For example, the above 3x4 matrix is an array of rank 2(it is 2 dimensional). \n",
    "    - The first axis has length 3 (number of rows / operate along the rows), and the second axis has length 4 (number of columns / operate along the columns ). \n",
    "         - Axes are defined for arrays with more than one dimension. A 2 dimensional array has two corresponding axes: \n",
    "        - the first running vertically downwards across/along rows (axis 0)\n",
    "            - If you want to do an operation on each column, like sum each column? You would be performing a vertical operation, along the rows. \n",
    "        - second running horizontally across/along all columns (axis 1)\n",
    "            - If you want to do an operation for each row of the array , like sum each row? You would be performing a horizontal addition, along the columns. \n",
    "- An array's list of axis lengths is called the __shape__ of the array. \n",
    "    - For example, the above matrix's shape is `(3,4)`. \n",
    "    - The __rank__ is equal to the shape's length. \n",
    "- The __size__ of an array is the total number of elements, which is the product of all axis lengths. \n",
    "    - Eg: 3*4  = 12. \n",
    "    "
   ]
  },
  {
   "cell_type": "code",
   "execution_count": 4,
   "metadata": {},
   "outputs": [
    {
     "data": {
      "text/plain": [
       "array([[ 0.,  0.,  0.,  0.],\n",
       "       [ 0.,  0.,  0.,  0.],\n",
       "       [ 0.,  0.,  0.,  0.]])"
      ]
     },
     "execution_count": 4,
     "metadata": {},
     "output_type": "execute_result"
    }
   ],
   "source": [
    "a = np.zeros((3,4))\n",
    "a"
   ]
  },
  {
   "cell_type": "markdown",
   "metadata": {},
   "source": [
    "__2. `np.ndarray.shape`__\n",
    "- returns the shape of the array, i.e the tuple containing all axis lengths. "
   ]
  },
  {
   "cell_type": "code",
   "execution_count": 5,
   "metadata": {},
   "outputs": [
    {
     "data": {
      "text/plain": [
       "(3, 4)"
      ]
     },
     "execution_count": 5,
     "metadata": {},
     "output_type": "execute_result"
    }
   ],
   "source": [
    "a.shape"
   ]
  },
  {
   "cell_type": "markdown",
   "metadata": {},
   "source": [
    "__3. `np.ndarray.ndim`__\n",
    "- returns the number of dimensions the array has, also known as the rank of the array."
   ]
  },
  {
   "cell_type": "code",
   "execution_count": 6,
   "metadata": {},
   "outputs": [
    {
     "data": {
      "text/plain": [
       "2"
      ]
     },
     "execution_count": 6,
     "metadata": {},
     "output_type": "execute_result"
    }
   ],
   "source": [
    "a.ndim # is equal to the len(a.shape)"
   ]
  },
  {
   "cell_type": "code",
   "execution_count": 7,
   "metadata": {},
   "outputs": [
    {
     "data": {
      "text/plain": [
       "True"
      ]
     },
     "execution_count": 7,
     "metadata": {},
     "output_type": "execute_result"
    }
   ],
   "source": [
    "a.ndim == len(a.shape)"
   ]
  },
  {
   "cell_type": "markdown",
   "metadata": {},
   "source": [
    "__4. `np.ndarray.size`__\n",
    "- Returns the number of elements in the array. "
   ]
  },
  {
   "cell_type": "code",
   "execution_count": 8,
   "metadata": {},
   "outputs": [
    {
     "data": {
      "text/plain": [
       "12"
      ]
     },
     "execution_count": 8,
     "metadata": {},
     "output_type": "execute_result"
    }
   ],
   "source": [
    "a.size"
   ]
  },
  {
   "cell_type": "markdown",
   "metadata": {},
   "source": [
    "### N dimensional arrays:  \n",
    "You can also create a N-dimensional array of arbitrary rank.   \n",
    "For example, here's a 3D (rank = 3), with shape (2,3,4):"
   ]
  },
  {
   "cell_type": "code",
   "execution_count": 9,
   "metadata": {},
   "outputs": [
    {
     "data": {
      "text/plain": [
       "array([[[ 0.,  0.,  0.,  0.],\n",
       "        [ 0.,  0.,  0.,  0.],\n",
       "        [ 0.,  0.,  0.,  0.]],\n",
       "\n",
       "       [[ 0.,  0.,  0.,  0.],\n",
       "        [ 0.,  0.,  0.,  0.],\n",
       "        [ 0.,  0.,  0.,  0.]]])"
      ]
     },
     "execution_count": 9,
     "metadata": {},
     "output_type": "execute_result"
    }
   ],
   "source": [
    "np.zeros((2,3,4))\n",
    "# >> This will 2 two dimensional arrays, with shape (3x4). "
   ]
  },
  {
   "cell_type": "markdown",
   "metadata": {},
   "source": [
    "### Array type: \n",
    "NumPy arrays have the type `ndarrays:`"
   ]
  },
  {
   "cell_type": "code",
   "execution_count": 10,
   "metadata": {},
   "outputs": [
    {
     "data": {
      "text/plain": [
       "numpy.ndarray"
      ]
     },
     "execution_count": 10,
     "metadata": {},
     "output_type": "execute_result"
    }
   ],
   "source": [
    "type(np.zeros((3,4)))"
   ]
  },
  {
   "cell_type": "markdown",
   "metadata": {},
   "source": [
    "__5. np.ones__\n",
    "- Creates an ndarray, full one ones. "
   ]
  },
  {
   "cell_type": "code",
   "execution_count": 11,
   "metadata": {},
   "outputs": [
    {
     "data": {
      "text/plain": [
       "array([[ 1.,  1.,  1.,  1.],\n",
       "       [ 1.,  1.,  1.,  1.],\n",
       "       [ 1.,  1.,  1.,  1.]])"
      ]
     },
     "execution_count": 11,
     "metadata": {},
     "output_type": "execute_result"
    }
   ],
   "source": [
    "np.ones((3,4))"
   ]
  },
  {
   "cell_type": "markdown",
   "metadata": {},
   "source": [
    "__6. np.full__\n",
    "- Creates an array of the given shape initialized with a given values. \n"
   ]
  },
  {
   "cell_type": "code",
   "execution_count": 12,
   "metadata": {},
   "outputs": [
    {
     "data": {
      "text/plain": [
       "array([[ 3.14159265,  3.14159265,  3.14159265,  3.14159265],\n",
       "       [ 3.14159265,  3.14159265,  3.14159265,  3.14159265],\n",
       "       [ 3.14159265,  3.14159265,  3.14159265,  3.14159265]])"
      ]
     },
     "execution_count": 12,
     "metadata": {},
     "output_type": "execute_result"
    }
   ],
   "source": [
    "np.full((3,4), np.pi)"
   ]
  },
  {
   "cell_type": "markdown",
   "metadata": {},
   "source": [
    "__7. np.pi__\n",
    "- returns the value of pi, i.e 3.14159265"
   ]
  },
  {
   "cell_type": "markdown",
   "metadata": {},
   "source": [
    "__8.  np.empty__  \n",
    "- An uninitializes 2x3 array (it's content is not predictable, as it is whatever in the memory at that point). \n"
   ]
  },
  {
   "cell_type": "code",
   "execution_count": 13,
   "metadata": {},
   "outputs": [
    {
     "data": {
      "text/plain": [
       "array([[ 0.,  0.,  0.],\n",
       "       [ 0.,  0.,  0.]])"
      ]
     },
     "execution_count": 13,
     "metadata": {},
     "output_type": "execute_result"
    }
   ],
   "source": [
    "np.empty((2,3))"
   ]
  },
  {
   "cell_type": "markdown",
   "metadata": {},
   "source": [
    "__9. np.array__  \n",
    "- Of course you can initialise an `ndarray` using a regular python array. Just call the `array` function: "
   ]
  },
  {
   "cell_type": "code",
   "execution_count": 14,
   "metadata": {},
   "outputs": [
    {
     "data": {
      "text/plain": [
       "array([[ 1,  2,  3,  4],\n",
       "       [10, 20, 30, 40]])"
      ]
     },
     "execution_count": 14,
     "metadata": {},
     "output_type": "execute_result"
    }
   ],
   "source": [
    "np.array([\n",
    "    [1,2,3,4],\n",
    "    [10,20,30,40]\n",
    "])"
   ]
  },
  {
   "cell_type": "markdown",
   "metadata": {},
   "source": [
    "__10. np.arange__\n",
    "- You can create an `ndarray` using NumPy's `arange` function, which is similar to python's build in `range` function. "
   ]
  },
  {
   "cell_type": "code",
   "execution_count": 15,
   "metadata": {},
   "outputs": [
    {
     "name": "stdout",
     "output_type": "stream",
     "text": [
      "[1, 2, 3, 4]\n"
     ]
    },
    {
     "data": {
      "text/plain": [
       "array([1, 2, 3, 4])"
      ]
     },
     "execution_count": 15,
     "metadata": {},
     "output_type": "execute_result"
    }
   ],
   "source": [
    "# Using Python's built in function\n",
    "list_ = []\n",
    "for x in range(1,5):\n",
    "    list_.append(x)\n",
    "print(list_)\n",
    "\n",
    "# Using NumPy's arange function\n",
    "np.arange(1,5)"
   ]
  },
  {
   "cell_type": "markdown",
   "metadata": {},
   "source": [
    "- It also works with floats: "
   ]
  },
  {
   "cell_type": "code",
   "execution_count": 16,
   "metadata": {},
   "outputs": [
    {
     "data": {
      "text/plain": [
       "array([ 1.,  2.,  3.,  4.])"
      ]
     },
     "execution_count": 16,
     "metadata": {},
     "output_type": "execute_result"
    }
   ],
   "source": [
    "np.arange(1.0, 5.0)"
   ]
  },
  {
   "cell_type": "markdown",
   "metadata": {},
   "source": [
    "- Ofcoure, just like in the built in function in python, you can add a step parameter. "
   ]
  },
  {
   "cell_type": "code",
   "execution_count": 17,
   "metadata": {},
   "outputs": [
    {
     "name": "stdout",
     "output_type": "stream",
     "text": [
      "[1, 3, 5, 7, 9]\n"
     ]
    },
    {
     "data": {
      "text/plain": [
       "array([1, 3, 5, 7, 9])"
      ]
     },
     "execution_count": 17,
     "metadata": {},
     "output_type": "execute_result"
    }
   ],
   "source": [
    "list_ = []\n",
    "for x in range(1,10,2):\n",
    "    list_.append(x)\n",
    "print(list_)\n",
    "\n",
    "np.arange(1,10,2)"
   ]
  },
  {
   "cell_type": "markdown",
   "metadata": {},
   "source": [
    "- However, when dealing with floats, the exact number of elements in the arrat is not always predictable. "
   ]
  },
  {
   "cell_type": "code",
   "execution_count": 18,
   "metadata": {},
   "outputs": [
    {
     "name": "stdout",
     "output_type": "stream",
     "text": [
      "6\n",
      "6\n",
      "5\n"
     ]
    }
   ],
   "source": [
    "print(np.arange(0, 5/3, 1/3).size)\n",
    "# depending on floating point errors, \n",
    "# the max value is 4/3 or 5/3\n",
    "# >> 6 elements\n",
    "\n",
    "print(np.arange(0, 5/3, 0.33333333).size)\n",
    "# >> 6 elements\n",
    "\n",
    "print(np.arange(0, 5/3, 0.33333334).size)\n",
    "# >> 5 elements"
   ]
  },
  {
   "cell_type": "markdown",
   "metadata": {},
   "source": [
    "__11. np.linspace__  \n",
    "- For this reason, it is generally preferable to use the `linspace` fucntion insead of `arange` when working with floats.  \n",
    "- The `linspace` function returns an array containing a specific number of points evenly distributed between two values (note that the maximum value is _included_, contrary to `arange`): "
   ]
  },
  {
   "cell_type": "code",
   "execution_count": 19,
   "metadata": {},
   "outputs": [
    {
     "name": "stdout",
     "output_type": "stream",
     "text": [
      "[ 0.          0.33333333  0.66666667  1.          1.33333333  1.66666667]\n"
     ]
    }
   ],
   "source": [
    "print(np.linspace(0, 5/3, 6))\n",
    "# >> Returns 6 values evenly distributes beween 0 \n",
    "# and 5/3 ( 1.6666667)"
   ]
  },
  {
   "cell_type": "markdown",
   "metadata": {},
   "source": [
    "__12. np.radnom.seed__\n",
    "- makes the output of random variables consistent across all runs: "
   ]
  },
  {
   "cell_type": "code",
   "execution_count": 20,
   "metadata": {
    "collapsed": true
   },
   "outputs": [],
   "source": [
    "np.random.seed(42)"
   ]
  },
  {
   "cell_type": "markdown",
   "metadata": {},
   "source": [
    "__`13. np.random.rand`__   \n",
    "- A number of functions are available in the NumPy's `random` module to create `ndarrays` intialized with random values. \n",
    "- For example: here is 3x4 matrix intialized with random floats between 0 and 1 (__uniform distribution__). \n",
    "- Note that this function does not require for the lengths of each axis to be in 1 tuple, unlike `np.zeros` or `np.ones`."
   ]
  },
  {
   "cell_type": "code",
   "execution_count": 21,
   "metadata": {},
   "outputs": [
    {
     "data": {
      "text/plain": [
       "array([[ 0.37454012,  0.95071431,  0.73199394,  0.59865848],\n",
       "       [ 0.15601864,  0.15599452,  0.05808361,  0.86617615],\n",
       "       [ 0.60111501,  0.70807258,  0.02058449,  0.96990985]])"
      ]
     },
     "execution_count": 21,
     "metadata": {},
     "output_type": "execute_result"
    }
   ],
   "source": [
    "np.random.rand(3,4)"
   ]
  },
  {
   "cell_type": "code",
   "execution_count": 22,
   "metadata": {},
   "outputs": [
    {
     "data": {
      "text/plain": [
       "0.36433644243120805"
      ]
     },
     "execution_count": 22,
     "metadata": {},
     "output_type": "execute_result"
    }
   ],
   "source": [
    "np.random.rand(3,4).mean()"
   ]
  },
  {
   "cell_type": "markdown",
   "metadata": {},
   "source": [
    "### `14. np.random.randn`\n",
    "- Here's a 3x4 matrix containing random floats sample from univariate normal distribution ( Gaussian distriution) of mean 0 and variance 1. \n"
   ]
  },
  {
   "cell_type": "code",
   "execution_count": 23,
   "metadata": {},
   "outputs": [
    {
     "data": {
      "text/plain": [
       "array([[ 1.46564877, -0.2257763 ,  0.0675282 , -1.42474819],\n",
       "       [-0.54438272,  0.11092259, -1.15099358,  0.37569802],\n",
       "       [-0.60063869, -0.29169375, -0.60170661,  1.85227818]])"
      ]
     },
     "execution_count": 23,
     "metadata": {},
     "output_type": "execute_result"
    }
   ],
   "source": [
    "np.random.randn(3,4)"
   ]
  },
  {
   "cell_type": "code",
   "execution_count": 24,
   "metadata": {},
   "outputs": [
    {
     "data": {
      "text/plain": [
       "-0.32154627918817852"
      ]
     },
     "execution_count": 24,
     "metadata": {},
     "output_type": "execute_result"
    }
   ],
   "source": [
    "np.random.randn(3,4).mean()"
   ]
  },
  {
   "cell_type": "code",
   "execution_count": 25,
   "metadata": {},
   "outputs": [
    {
     "data": {
      "text/plain": [
       "0.92010612657731516"
      ]
     },
     "execution_count": 25,
     "metadata": {},
     "output_type": "execute_result"
    }
   ],
   "source": [
    "np.random.randn(3,4).std()"
   ]
  },
  {
   "cell_type": "code",
   "execution_count": 26,
   "metadata": {},
   "outputs": [
    {
     "data": {
      "text/plain": [
       "<matplotlib.text.Text at 0x109a596a0>"
      ]
     },
     "execution_count": 26,
     "metadata": {},
     "output_type": "execute_result"
    },
    {
     "data": {
      "image/png": "[encoded data removed]",
      "text/plain": [
       "<matplotlib.figure.Figure at 0x1099fed30>"
      ]
     },
     "metadata": {},
     "output_type": "display_data"
    }
   ],
   "source": [
    "%matplotlib inline\n",
    "import matplotlib.pyplot as plt  \n",
    "\n",
    "plt.hist(np.random.rand(100000), normed = True, bins = 100,\n",
    "        histtype = \"step\", color = \"blue\", label = \"rand\")\n",
    "\n",
    "#>> normed = True, means that the values have been normalised\n",
    "# to stay in between 0 and 1. \n",
    "\n",
    "plt.hist(np.random.randn(100000), normed = True, bins = 100,\n",
    "        histtype = \"step\", color = \"red\", label = \"randn\")\n",
    "\n",
    "plt.axis([-2.5, 2.5, 0, 1.3])\n",
    "plt.legend(loc = \"upper left\")\n",
    "plt.title(\"Random distributions\")\n",
    "plt.xlabel(\"Value\")\n",
    "plt.ylabel(\"Density\")\n"
   ]
  },
  {
   "cell_type": "markdown",
   "metadata": {},
   "source": [
    "### 15. `np.fromfunction`  \n",
    "- Helps to intialise an ndarray using a function. \n"
   ]
  },
  {
   "cell_type": "code",
   "execution_count": 27,
   "metadata": {},
   "outputs": [
    {
     "name": "stdout",
     "output_type": "stream",
     "text": [
      "[[[ 0.  0.  0.  0.  0.  0.  0.  0.  0.  0.]\n",
      "  [ 0.  0.  0.  0.  0.  0.  0.  0.  0.  0.]]\n",
      "\n",
      " [[ 1.  1.  1.  1.  1.  1.  1.  1.  1.  1.]\n",
      "  [ 1.  1.  1.  1.  1.  1.  1.  1.  1.  1.]]\n",
      "\n",
      " [[ 2.  2.  2.  2.  2.  2.  2.  2.  2.  2.]\n",
      "  [ 2.  2.  2.  2.  2.  2.  2.  2.  2.  2.]]]\n",
      "y\n",
      "[[[ 0.  0.  0.  0.  0.  0.  0.  0.  0.  0.]\n",
      "  [ 1.  1.  1.  1.  1.  1.  1.  1.  1.  1.]]\n",
      "\n",
      " [[ 0.  0.  0.  0.  0.  0.  0.  0.  0.  0.]\n",
      "  [ 1.  1.  1.  1.  1.  1.  1.  1.  1.  1.]]\n",
      "\n",
      " [[ 0.  0.  0.  0.  0.  0.  0.  0.  0.  0.]\n",
      "  [ 1.  1.  1.  1.  1.  1.  1.  1.  1.  1.]]]\n",
      "x\n",
      "[[[ 0.  1.  2.  3.  4.  5.  6.  7.  8.  9.]\n",
      "  [ 0.  1.  2.  3.  4.  5.  6.  7.  8.  9.]]\n",
      "\n",
      " [[ 0.  1.  2.  3.  4.  5.  6.  7.  8.  9.]\n",
      "  [ 0.  1.  2.  3.  4.  5.  6.  7.  8.  9.]]\n",
      "\n",
      " [[ 0.  1.  2.  3.  4.  5.  6.  7.  8.  9.]\n",
      "  [ 0.  1.  2.  3.  4.  5.  6.  7.  8.  9.]]]\n"
     ]
    },
    {
     "data": {
      "text/plain": [
       "array([[[  0.,   0.,   0.,   0.,   0.,   0.,   0.,   0.,   0.,   0.],\n",
       "        [  0.,   1.,   2.,   3.,   4.,   5.,   6.,   7.,   8.,   9.]],\n",
       "\n",
       "       [[  1.,   1.,   1.,   1.,   1.,   1.,   1.,   1.,   1.,   1.],\n",
       "        [  1.,   2.,   3.,   4.,   5.,   6.,   7.,   8.,   9.,  10.]],\n",
       "\n",
       "       [[  2.,   2.,   2.,   2.,   2.,   2.,   2.,   2.,   2.,   2.],\n",
       "        [  2.,   3.,   4.,   5.,   6.,   7.,   8.,   9.,  10.,  11.]]])"
      ]
     },
     "execution_count": 27,
     "metadata": {},
     "output_type": "execute_result"
    }
   ],
   "source": [
    "def my_function(z, y, x):\n",
    "    print(z)\n",
    "    print('y')\n",
    "    print(y)\n",
    "    print('x')\n",
    "    print(x)\n",
    "    return x * y + z\n",
    "\n",
    "np.fromfunction(my_function, (3, 2, 10))"
   ]
  },
  {
   "cell_type": "markdown",
   "metadata": {},
   "source": [
    "- NumPy first creates three `ndarrays` ( one per dimension ) , each of the shape `(3, 2 , 10)`.  \n",
    "- Each array has value equal to the corordinate along a specific axis.  \n",
    "\n",
    "- Axes are defined for arrays with more than one dimension. A 2 dimensional array has two corresponding axes: \n",
    "    - the first running vertically downwards across/along rows (axis 0)\n",
    "        - If you want to do an operation on each column, like sum each column? You would be performing a vertical operation, along the rows. \n",
    "    - second running horizontally across/along all columns (axis 1)\n",
    "        - If you want to do an operation for each row of the array , like sum each row? You would be performing a horizontal addition, along the columns. \n",
    "\n",
    "- The argument you will enter, here (3,2,10) will be the order of each of the matix i.e z, x and y. This means we will have 3 2-D arrays of order (2x10). \n",
    "- What do 3 2 10 stand for? \n",
    "    - 3 refers to the z (3rd axis) here. The more you increase the z ( 3rd axis), the more 2 dimensional arrays will be there. \n",
    "        - All the elements in z will be equal to the z coordinate, in order. \n",
    "            - The first (2x10) array in z will be filled with 0's. As it is the first 2D array. \n",
    "            - The second (2x10) array will be filled with 1's. As it is the 2nd 2D array. \n",
    "            - Lastly, the third (2x10) array will be filled with 2's. As it is the 3rd 2D array. \n",
    "            \n",
    "```\n",
    "     [[[ 0.  0.  0.  0.  0.  0.  0.  0.  0.  0.]\n",
    "  [ 0.  0.  0.  0.  0.  0.  0.  0.  0.  0.]]\n",
    "\n",
    " [[ 1.  1.  1.  1.  1.  1.  1.  1.  1.  1.]\n",
    "  [ 1.  1.  1.  1.  1.  1.  1.  1.  1.  1.]]\n",
    "\n",
    " [[ 2.  2.  2.  2.  2.  2.  2.  2.  2.  2.]\n",
    "  [ 2.  2.  2.  2.  2.  2.  2.  2.  2.  2.]]]\n",
    "```\n",
    "            \n",
    "    - 2 refers to the 1st axis here (1st axis, which runs vertically downwards). The 2 here refers to that we will have 2 rows in each of the three 2D arrays in y. The more you increase the y(1st axis) , the more rows you add in each of the arrys. \n",
    "        - Each 2D array will have the following characteristics: \n",
    "            - The first row will be filled with 0s as it is the first row.\n",
    "            - The second row willl be filled with 1s as it the 2nd row. \n",
    "            - This will repeat for 2 more 2D arrays. \n",
    "            \n",
    "```\n",
    "    [[[ 0.  0.  0.  0.  0.  0.  0.  0.  0.  0.]\n",
    "  [ 1.  1.  1.  1.  1.  1.  1.  1.  1.  1.]]\n",
    "\n",
    " [[ 0.  0.  0.  0.  0.  0.  0.  0.  0.  0.]\n",
    "  [ 1.  1.  1.  1.  1.  1.  1.  1.  1.  1.]]\n",
    "\n",
    " [[ 0.  0.  0.  0.  0.  0.  0.  0.  0.  0.]\n",
    "  [ 1.  1.  1.  1.  1.  1.  1.  1.  1.  1.]]]\n",
    "```\n",
    "            \n",
    "   - 10 refers to the 2nd axis here (which runs horizontally). The 10 here refers to the fact that we will have 10 columns in each  of the the three 2D arrays in x. The more you increase x ( 2nd axis ), the more columns you add in each of the arrays. \n",
    "        - Each 2D array will have the following characteristics: \n",
    "            - The first column will be filled with 0s as it is the first column.\n",
    "            - The second column willl be filled with 1s as it the 2nd column. \n",
    "            - This will repeat for 9 more 2D arrays. \n",
    "            \n",
    "```\n",
    " \n",
    "    [[[ 0.  1.  2.  3.  4.  5.  6.  7.  8.  9.]\n",
    "  [ 0.  1.  2.  3.  4.  5.  6.  7.  8.  9.]]\n",
    "\n",
    " [[ 0.  1.  2.  3.  4.  5.  6.  7.  8.  9.]\n",
    "  [ 0.  1.  2.  3.  4.  5.  6.  7.  8.  9.]]\n",
    "\n",
    " [[ 0.  1.  2.  3.  4.  5.  6.  7.  8.  9.]\n",
    "  [ 0.  1.  2.  3.  4.  5.  6.  7.  8.  9.]]]\n",
    "  \n",
    "```\n",
    "\n",
    "- So the terms x, y, z in the expression `x*y*z` above are in fact `ndarrays`. \n",
    "- The point is that `my_function` is calle _once_, instead of once per element.  \n",
    "- This makes intialization very efficient. \n"
   ]
  },
  {
   "cell_type": "markdown",
   "metadata": {},
   "source": [
    "# Array Data: "
   ]
  },
  {
   "cell_type": "markdown",
   "metadata": {},
   "source": [
    "### `np.dtype`  \n",
    "- NumPy's `ndarrays` are also efficient in part because all their elements much have the same type(usually numbers).  \n",
    "- You can check what the data type is by looking at the `dtype` attribute. \n"
   ]
  },
  {
   "cell_type": "code",
   "execution_count": 28,
   "metadata": {},
   "outputs": [
    {
     "name": "stdout",
     "output_type": "stream",
     "text": [
      "int64 [1 2 3 4]\n"
     ]
    }
   ],
   "source": [
    "c = np.arange(1,5)\n",
    "print(c.dtype, c)"
   ]
  },
  {
   "cell_type": "code",
   "execution_count": 29,
   "metadata": {},
   "outputs": [
    {
     "name": "stdout",
     "output_type": "stream",
     "text": [
      "float64 [ 1.  2.  3.  4.]\n"
     ]
    }
   ],
   "source": [
    "c = np.arange(1.0, 5.0)\n",
    "print(c.dtype, c)"
   ]
  },
  {
   "cell_type": "markdown",
   "metadata": {},
   "source": [
    "- Instead of letting NumPy guess what the data type to use, you can set it explicitly when creating an array by setting the `dtype` parameter. "
   ]
  },
  {
   "cell_type": "code",
   "execution_count": 30,
   "metadata": {},
   "outputs": [
    {
     "name": "stdout",
     "output_type": "stream",
     "text": [
      "complex64 [ 1.+0.j  2.+0.j  3.+0.j  4.+0.j]\n",
      "float64 [ 1.  2.  3.  4.]\n"
     ]
    }
   ],
   "source": [
    "d = np.arange(1,5, dtype = np.complex64)\n",
    "print(d.dtype, d)\n",
    "# >> complex64 [ 1.+0.j  2.+0.j  3.+0.j  4.+0.j]\n",
    "\n",
    "# DOUBT: How to convert an array of number to a array \n",
    "# of strings of numbers. \n",
    "# d = np.arange(1,5, dtype = str)\n",
    "# print(d.dtype, d)\n",
    "\n",
    "d = np.arange(1,5, dtype = np.float64)\n",
    "print(d.dtype, d)\n",
    "# >> float64 [ 1.  2.  3.  4.]"
   ]
  },
  {
   "cell_type": "markdown",
   "metadata": {},
   "source": [
    "- Available data types include: \n",
    "    - `int8`\n",
    "    - `int16`\n",
    "    - `int32`\n",
    "    - `int64`\n",
    "    - `uint8|16|32|64`\n",
    "    - `float16|32|64|128|`"
   ]
  },
  {
   "cell_type": "markdown",
   "metadata": {},
   "source": [
    "### `np.ndarray.itemsize`: \n",
    "- Returns the size(in bytes) of each item. "
   ]
  },
  {
   "cell_type": "code",
   "execution_count": 31,
   "metadata": {},
   "outputs": [
    {
     "data": {
      "text/plain": [
       "16"
      ]
     },
     "execution_count": 31,
     "metadata": {},
     "output_type": "execute_result"
    }
   ],
   "source": [
    "e = np.arange(1,5, dtype= np.complex64)\n",
    "e.itemsize\n",
    "# One byte has 8 bits\n",
    "# Each element in e is stored using 64 bits\n",
    "# Therefore, each element is being store using\n",
    "# 8 bytes\n",
    "\n",
    "e = np.arange(1,5, dtype= np.float128)\n",
    "e.itemsize\n",
    "# >> 16 "
   ]
  },
  {
   "cell_type": "markdown",
   "metadata": {},
   "source": [
    "### `np.ndarray.data` buffer\n",
    "\n",
    "- An array data is actually stored in memory as a flat (one dimensional) byte buffer.  \n",
    "- It is available _via_ the `data` attribute ( you will rarely need it though). \n"
   ]
  },
  {
   "cell_type": "code",
   "execution_count": 32,
   "metadata": {},
   "outputs": [
    {
     "data": {
      "text/plain": [
       "b'\\x01\\x00\\x00\\x00\\x02\\x00\\x00\\x00\\xe8\\x03\\x00\\x00\\xd0\\x07\\x00\\x00'"
      ]
     },
     "execution_count": 32,
     "metadata": {},
     "output_type": "execute_result"
    }
   ],
   "source": [
    "f = np.array([[1,2],[1000, 2000]], dtype=np.int32)\n",
    "f.data\n",
    "# >> <memory at 0x11890f048>\n",
    "f.data.tobytes()\n",
    "# >> b'\\x01\\x00\\x00\\x00\\x02\\x00\\x00\\x00\\xe8\\x03\\x00\\x00\\xd0\\x07\\x00\\x00'"
   ]
  },
  {
   "cell_type": "markdown",
   "metadata": {},
   "source": [
    "In python 2, `f.data` is a buffer. \n",
    "In Python 4, it is a memoryview."
   ]
  },
  {
   "cell_type": "code",
   "execution_count": 33,
   "metadata": {},
   "outputs": [
    {
     "data": {
      "text/plain": [
       "b'\\x01\\x00\\x00\\x00\\x02\\x00\\x00\\x00\\xe8\\x03\\x00\\x00\\xd0\\x07\\x00\\x00'"
      ]
     },
     "execution_count": 33,
     "metadata": {},
     "output_type": "execute_result"
    }
   ],
   "source": [
    "if (hasattr(f.data, \"tobytes\")):\n",
    "    # Will return true if \"tobytes\" is an attribute\n",
    "    # of f.data\n",
    "    data_bytes = f.data.tobytes() # Python 3\n",
    "else:\n",
    "    data_bytes = memoryview(f.data).tobytes() # Python 2\n",
    "\n",
    "data_bytes"
   ]
  },
  {
   "cell_type": "markdown",
   "metadata": {},
   "source": [
    "- Several `ndarrays` can share the same data buffer, meaning that modifying one will also modify the others. \n"
   ]
  },
  {
   "cell_type": "markdown",
   "metadata": {},
   "source": [
    "# Reshaping an array:"
   ]
  },
  {
   "cell_type": "markdown",
   "metadata": {},
   "source": [
    "### i) In place, setting `np.ndarray.shape`:   \n",
    "- Change the shape of an `ndarray` is as simple as setting it's shape attribute. \n",
    "- Howevert, the arrays' size (number of elements) must remain the same. "
   ]
  },
  {
   "cell_type": "code",
   "execution_count": 34,
   "metadata": {},
   "outputs": [
    {
     "name": "stdout",
     "output_type": "stream",
     "text": [
      "[ 0  1  2  3  4  5  6  7  8  9 10 11 12 13 14 15 16 17 18 19 20 21 22 23]\n",
      "Rank:  1\n"
     ]
    }
   ],
   "source": [
    "g = np.arange(24)\n",
    "print(g)\n",
    "print(\"Rank: \", g.ndim)"
   ]
  },
  {
   "cell_type": "code",
   "execution_count": 35,
   "metadata": {},
   "outputs": [
    {
     "name": "stdout",
     "output_type": "stream",
     "text": [
      "[[ 0  1  2  3]\n",
      " [ 4  5  6  7]\n",
      " [ 8  9 10 11]\n",
      " [12 13 14 15]\n",
      " [16 17 18 19]\n",
      " [20 21 22 23]]\n",
      "Rank:  2\n"
     ]
    }
   ],
   "source": [
    "g.shape = (6, 4)\n",
    "print(g)\n",
    "print(\"Rank: \",  g.ndim)"
   ]
  },
  {
   "cell_type": "code",
   "execution_count": 36,
   "metadata": {},
   "outputs": [
    {
     "name": "stdout",
     "output_type": "stream",
     "text": [
      "[[[ 0  1  2  3]\n",
      "  [ 4  5  6  7]\n",
      "  [ 8  9 10 11]]\n",
      "\n",
      " [[12 13 14 15]\n",
      "  [16 17 18 19]\n",
      "  [20 21 22 23]]]\n",
      "Rank:  3\n"
     ]
    }
   ],
   "source": [
    "g.shape = (2,3,4)\n",
    "print(g)\n",
    "print(\"Rank: \", g.ndim)"
   ]
  },
  {
   "cell_type": "markdown",
   "metadata": {},
   "source": [
    "### ii) `np.ndarray.reshape`: \n",
    "\n",
    "- the `reshape` function returns a new `ndarray` object pointing at the `same` data. \n",
    "- This means that modifyig one will also modify the other. \n"
   ]
  },
  {
   "cell_type": "code",
   "execution_count": 37,
   "metadata": {},
   "outputs": [
    {
     "name": "stdout",
     "output_type": "stream",
     "text": [
      "[ 0  1  2  3  4  5  6  7  8  9 10 11 12 13 14 15 16 17 18 19 20 21 22 23]\n",
      "Rank:  1\n"
     ]
    }
   ],
   "source": [
    "g = np.arange(24)\n",
    "print(g)\n",
    "print(\"Rank: \", g.ndim)"
   ]
  },
  {
   "cell_type": "code",
   "execution_count": 38,
   "metadata": {},
   "outputs": [
    {
     "name": "stdout",
     "output_type": "stream",
     "text": [
      "[[ 0  1  2  3]\n",
      " [ 4  5  6  7]\n",
      " [ 8  9 10 11]\n",
      " [12 13 14 15]\n",
      " [16 17 18 19]\n",
      " [20 21 22 23]]\n",
      "Rank:  2\n"
     ]
    }
   ],
   "source": [
    "g2 = g.reshape(6,4)\n",
    "print(g2)\n",
    "print(\"Rank: \", g2.ndim)"
   ]
  },
  {
   "cell_type": "markdown",
   "metadata": {},
   "source": [
    "Setting item at Row 1, column 2 to 999 to see how it changes both `g` and `g2`. "
   ]
  },
  {
   "cell_type": "code",
   "execution_count": 39,
   "metadata": {},
   "outputs": [
    {
     "name": "stdout",
     "output_type": "stream",
     "text": [
      "[[  0   1   2   3]\n",
      " [  4   5 999   7]\n",
      " [  8   9  10  11]\n",
      " [ 12  13  14  15]\n",
      " [ 16  17  18  19]\n",
      " [ 20  21  22  23]]\n",
      "[  0   1   2   3   4   5 999   7   8   9  10  11  12  13  14  15  16  17\n",
      "  18  19  20  21  22  23]\n"
     ]
    }
   ],
   "source": [
    "g2[1,2] = 999\n",
    "print(g2)\n",
    "# >> change the 1st row, 2nd column element\n",
    "\n",
    "print(g)\n",
    "# >> change the 7th element in g. "
   ]
  },
  {
   "cell_type": "markdown",
   "metadata": {},
   "source": [
    "### iii) np.ndarray.ravel()\n",
    "- Finally, the `ravel` function returns a new one-dimensional `ndarray` that also points to the same data.  "
   ]
  },
  {
   "cell_type": "code",
   "execution_count": 40,
   "metadata": {},
   "outputs": [
    {
     "data": {
      "text/plain": [
       "array([  0,   1,   2,   3,   4,   5, 999,   7,   8,   9,  10,  11,  12,\n",
       "        13,  14,  15,  16,  17,  18,  19,  20,  21,  22,  23])"
      ]
     },
     "execution_count": 40,
     "metadata": {},
     "output_type": "execute_result"
    }
   ],
   "source": [
    "g2.ravel()"
   ]
  },
  {
   "cell_type": "markdown",
   "metadata": {},
   "source": [
    "# Arithmetic Operations:   \n",
    "- All the usual arithmetic operators $ (+ , -, *, /, //, **,$ etc.) can be used with `ndarray`s.  \n",
    "- They apply _elementwise:__"
   ]
  },
  {
   "cell_type": "code",
   "execution_count": 41,
   "metadata": {},
   "outputs": [
    {
     "name": "stdout",
     "output_type": "stream",
     "text": [
      "a + b  = [19 27 35 43]\n",
      "a - b  = [ 9 19 29 39]\n",
      "a * b  = [70 92 96 82]\n",
      "a / b  = [  2.8          5.75        10.66666667  20.5       ]\n",
      "a // b  = [ 2  5 10 20]\n",
      "a % b  = [4 3 2 1]\n",
      "a ** b = [537824 279841  32768   1681]\n"
     ]
    }
   ],
   "source": [
    "a = np.array([14, 23, 32, 41])\n",
    "b = np.array([5, 4, 3, 2])\n",
    "\n",
    "print(\"a + b  =\", a + b)\n",
    "# >> a + b  = [19 27 35 43]\n",
    "\n",
    "print(\"a - b  =\", a - b)\n",
    "# >> a - b  = [ 9 19 29 39]\n",
    "\n",
    "print(\"a * b  =\", a * b)\n",
    "# >> a * b  = [70 92 96 82]\n",
    "\n",
    "print(\"a / b  =\", a / b)\n",
    "# >> a / b  = [  2.8   5.75  10.66666667  20.5    ]\n",
    "\n",
    "print(\"a // b  =\", a // b)\n",
    "# >> a // b  = [ 2  5 10 20]\n",
    "\n",
    "print(\"a % b  =\", a % b)\n",
    "# >> a % b  = [4 3 2 1]\n",
    "\n",
    "print(\"a ** b =\", a ** b)\n",
    "# >> a ** b = [537824 279841  32768   1681]"
   ]
  },
  {
   "cell_type": "markdown",
   "metadata": {},
   "source": [
    " Note that the multiplication is __not__ matrix multiplication.   \n",
    "We will discuss matrix multiplications below. \n",
    "\n",
    "The arrays must have the same shape.  \n",
    "If they do not, NumPy will apply the _broadcating rules. _"
   ]
  },
  {
   "cell_type": "markdown",
   "metadata": {},
   "source": [
    "# Broadcasting:  \n",
    "- In general, when NumPy expects arrays of the same shape but finds the this is not the case, it applied the so-called `broadcasting` rules:   \n",
    "\n"
   ]
  },
  {
   "cell_type": "markdown",
   "metadata": {},
   "source": [
    "### Rule 1: \n",
    "- _If the arrays do not have the same rank ( same number of dimensions) , then a 1 will be prepended to the smaller ranking arrays until their ranks match. _\n",
    "    - When either of the dimensions compared is one, the other is used. In other words, dimensions with size 1 are stretched or “copied” to match the other."
   ]
  },
  {
   "cell_type": "code",
   "execution_count": 42,
   "metadata": {},
   "outputs": [
    {
     "data": {
      "text/plain": [
       "array([0, 1, 2, 3, 4])"
      ]
     },
     "execution_count": 42,
     "metadata": {},
     "output_type": "execute_result"
    }
   ],
   "source": [
    "h = np.arange(5)\n",
    "h"
   ]
  },
  {
   "cell_type": "code",
   "execution_count": 43,
   "metadata": {
    "collapsed": true
   },
   "outputs": [],
   "source": [
    "h = h.reshape(1, 1, 5)\n"
   ]
  },
  {
   "cell_type": "markdown",
   "metadata": {},
   "source": [
    "Now, let's try to add 1D array of shape `(5, ) ` to this 3D array of shape `(1, 1, 5)`.  \n",
    "_Applying the first rule of broadcasting!_"
   ]
  },
  {
   "cell_type": "code",
   "execution_count": 44,
   "metadata": {},
   "outputs": [
    {
     "data": {
      "text/plain": [
       "array([[[10, 21, 32, 43, 54]]])"
      ]
     },
     "execution_count": 44,
     "metadata": {},
     "output_type": "execute_result"
    }
   ],
   "source": [
    "h + [10, 20, 30, 40, 50]  \n",
    "# same as: h + [[[10, 20, 30, 40, 50]]]\n",
    "# same as (1, 1, 5) + (1, 1, 5)\n",
    "# A 1 was prepended twice to the second array to match up\n",
    "# the dimensions with the first array. "
   ]
  },
  {
   "cell_type": "markdown",
   "metadata": {},
   "source": [
    "### Rule 2:  \n",
    "\n",
    "- _Arrays with a 1 along a particular dimension act as if they had the `size`  of the array with the largest shape along that dimension._ \n",
    "- _Arrays with a 1 along a particular dimension act as if they had the number of elements of the array with the largest shape along that dimension._ \n",
    "- _The value of the array element is repeated along that dimension._\n",
    "\n"
   ]
  },
  {
   "cell_type": "code",
   "execution_count": 45,
   "metadata": {},
   "outputs": [
    {
     "data": {
      "text/plain": [
       "array([[0, 1, 2],\n",
       "       [3, 4, 5]])"
      ]
     },
     "execution_count": 45,
     "metadata": {},
     "output_type": "execute_result"
    }
   ],
   "source": [
    "k = np.arange(6).reshape(2,3)\n",
    "k\n",
    "# >> 2D array"
   ]
  },
  {
   "cell_type": "markdown",
   "metadata": {},
   "source": [
    "`k` is a 2D array with 2 rows and 3 columns. \n",
    "Let's try to add a 2D array of shape `(2,1)`( 2 rows and 1 column). NumPy will apply the second rule of broadcasting:    "
   ]
  },
  {
   "cell_type": "code",
   "execution_count": 46,
   "metadata": {},
   "outputs": [
    {
     "data": {
      "text/plain": [
       "array([[100, 101, 102],\n",
       "       [203, 204, 205]])"
      ]
     },
     "execution_count": 46,
     "metadata": {},
     "output_type": "execute_result"
    }
   ],
   "source": [
    "k + [[100], \n",
    "     [200]]\n",
    "# Same as: \n",
    "# [[0, 1, 2],      [[100, 100, 100], \n",
    "#               +  \n",
    "# [3, 4, 5]]       [200, 200, 200]]\n"
   ]
  },
  {
   "cell_type": "markdown",
   "metadata": {},
   "source": [
    "- As you see, the second array had 1 along the 2nd axis ( running horizontally/ along columns). \n",
    "- Therefore, the value of the array is repeated in that dimension (column by column), in order to have the same number of elements as `k`.\n",
    "- Lets try the same thing with rows. \n",
    "    - Adding a 2D array of shape `(1,3)`. NumPy will apply the second rule of broadcasting. \n"
   ]
  },
  {
   "cell_type": "code",
   "execution_count": 47,
   "metadata": {},
   "outputs": [
    {
     "data": {
      "text/plain": [
       "array([[100, 201, 302],\n",
       "       [103, 204, 305]])"
      ]
     },
     "execution_count": 47,
     "metadata": {},
     "output_type": "execute_result"
    }
   ],
   "source": [
    "k + [[100, 200, 300]]\n",
    "# Same as: \n",
    "# [[0, 1, 2],      [[100, 200, 300], \n",
    "#               +  \n",
    "# [3, 4, 5]]       [100, 200, 300]]"
   ]
  },
  {
   "cell_type": "markdown",
   "metadata": {},
   "source": [
    "- As you see, the second array had 1 along the 1st axis ( running vertically / along the rows). \n",
    "- Therefore, the value of the array is repeated in that dimension (row by row), in order to have the same number of elements as `k`.\n",
    "- __Now__, combining rule 1 & 2, we do this: "
   ]
  },
  {
   "cell_type": "code",
   "execution_count": 48,
   "metadata": {},
   "outputs": [
    {
     "data": {
      "text/plain": [
       "(3,)"
      ]
     },
     "execution_count": 48,
     "metadata": {},
     "output_type": "execute_result"
    }
   ],
   "source": [
    "x = np.array([100, 200, 300])\n",
    "x.shape"
   ]
  },
  {
   "cell_type": "code",
   "execution_count": 49,
   "metadata": {},
   "outputs": [
    {
     "data": {
      "text/plain": [
       "array([[100, 201, 302],\n",
       "       [103, 204, 305]])"
      ]
     },
     "execution_count": 49,
     "metadata": {},
     "output_type": "execute_result"
    }
   ],
   "source": [
    "k + [100, 200, 300] "
   ]
  },
  {
   "cell_type": "markdown",
   "metadata": {},
   "source": [
    "- Rule 1: 1 dimension is appended to the second array.\n",
    "\n",
    "    - That is, it becomes from (3,): 1 dimensional array with 3 elements to a 2 dimensional array, with order (1,3 (1 row and 3 columns)). \n",
    "    \n",
    "```python\n",
    "\n",
    "[[0, 1, 2],      [[100, 200, 300]] \n",
    "              +  \n",
    "[3, 4, 5]]       \n",
    "```\n",
    "\n",
    "\n",
    "- Rule 2: Repeats the value of an array along the dimension = 1 to match the size of the 2 arrays. \n",
    "    - We see that the second array has 1 along the 1st axis (running vertically/ along the rows). Therefore, the value of the array `[100, 200, 300]` is repeated to match the size of `k`. \n",
    "  \n",
    "```python\n",
    "[[0, 1, 2],      [[100, 200, 300], \n",
    "             +  \n",
    "[3, 4, 5]]       [100, 200, 300]]\n",
    "```"
   ]
  },
  {
   "cell_type": "markdown",
   "metadata": {},
   "source": [
    "And also, very simply: \n"
   ]
  },
  {
   "cell_type": "code",
   "execution_count": 50,
   "metadata": {},
   "outputs": [
    {
     "data": {
      "text/plain": [
       "array([[1000, 1001, 1002],\n",
       "       [1003, 1004, 1005]])"
      ]
     },
     "execution_count": 50,
     "metadata": {},
     "output_type": "execute_result"
    }
   ],
   "source": [
    "k + 1000 \n",
    "#>> (2,3) + (1,): Not possible\n"
   ]
  },
  {
   "cell_type": "markdown",
   "metadata": {},
   "source": [
    "```python\n",
    "k + 1000 \n",
    "#(2,3) + (1,): Not possible\n",
    "```\n",
    "- Rule1: Prepending 1 to the second array's dimensions. \n",
    "\n",
    "```python\n",
    "k + [[1000]]\n",
    "# (2,3) + (1,1): Not possible\n",
    "```\n",
    "\n",
    "- Rule 2: \n",
    "    - Repeating along the rows (1st axis)   \n",
    "    \n",
    "```python\n",
    "\n",
    "k + [[1000, ],\n",
    "        [1000],\n",
    "        [1000]]\n",
    "# (2,3) + (3,1): Not possible \n",
    "```\n",
    "\n",
    "- Rule 2, again. \n",
    "    - Reating along the columns (2nd axis)\n",
    "    \n",
    "```python\n",
    "\n",
    "k + [[1000, 1000, 1000],\n",
    "      [1000, 1000, 1000]]\n",
    "# (2,3) + (2,3): Possible \n",
    "\n",
    "```"
   ]
  },
  {
   "cell_type": "markdown",
   "metadata": {},
   "source": [
    "### Rule 3: \n",
    "- After rules 1 & 2, the sizes of the arrays much match. \n"
   ]
  },
  {
   "cell_type": "code",
   "execution_count": 51,
   "metadata": {},
   "outputs": [
    {
     "name": "stdout",
     "output_type": "stream",
     "text": [
      "operands could not be broadcast together with shapes (2,3) (2,) \n"
     ]
    }
   ],
   "source": [
    "try: \n",
    "    k + [33, 44]\n",
    "except ValueError as e: \n",
    "    print(e)"
   ]
  },
  {
   "cell_type": "markdown",
   "metadata": {},
   "source": [
    "```python\n",
    "k + [33,44]\n",
    "# (2,3) + (2,) : Not Possible\n",
    "```\n",
    "\n",
    "- Rule1: Matching dimensions with `k`\n",
    "\n",
    "```python\n",
    "\n",
    "k + [[33, 44]]\n",
    "# (2,3) + (1,2) : Not Possible\n",
    "```\n",
    "\n",
    "- Rule 2: Let's have 2 rows, to match `k`. \n",
    "\n",
    "```python\n",
    "\n",
    "k + [[33, 44]\n",
    "    [33, 44]]\n",
    "# (2,3) + (2,2): Not Possible\n",
    "```\n",
    "\n",
    "- Rule 2: Try to have 3 columns, but you cannot. Cause when you repear the current value of the arrange along the columns (2nd axis), you will get a `(2,4)` array directly. \n"
   ]
  },
  {
   "cell_type": "markdown",
   "metadata": {},
   "source": [
    "### Upcasting:   \n",
    "- When trying to combine arrays with different `dtypes`, NumPy will _upcast_ to a type capable of handing all possible values ( regardless of what the actual values are). \n"
   ]
  },
  {
   "cell_type": "code",
   "execution_count": 52,
   "metadata": {},
   "outputs": [
    {
     "name": "stdout",
     "output_type": "stream",
     "text": [
      "int8 [0 1 2 3 4]\n"
     ]
    }
   ],
   "source": [
    "k1 = np.arange(0, 5, dtype = np.int8)\n",
    "print(k1.dtype, k1)"
   ]
  },
  {
   "cell_type": "code",
   "execution_count": 53,
   "metadata": {},
   "outputs": [
    {
     "name": "stdout",
     "output_type": "stream",
     "text": [
      "float64 [ 0.  1.  2.  3.  4.]\n"
     ]
    }
   ],
   "source": [
    "k2 = np.arange(0,5, dtype = np.float64)\n",
    "print(k2.dtype, k2)"
   ]
  },
  {
   "cell_type": "code",
   "execution_count": 54,
   "metadata": {},
   "outputs": [
    {
     "name": "stdout",
     "output_type": "stream",
     "text": [
      "float64 [ 0.  2.  4.  6.  8.]\n"
     ]
    }
   ],
   "source": [
    "k3 = k1 + k2\n",
    "print(k3.dtype, k3)\n",
    "# >> Converts both k1 and k2 to float 64"
   ]
  },
  {
   "cell_type": "markdown",
   "metadata": {},
   "source": [
    "Note that `int16` is required to represent all _possible_ `int8` and `uint8` values ( from -128 to 255), even though in this case, a `uint8` would have sufficed. \n"
   ]
  },
  {
   "cell_type": "markdown",
   "metadata": {},
   "source": [
    "###  Conditional Operators:  \n",
    "- The conditional operators also apply elementwise. "
   ]
  },
  {
   "cell_type": "code",
   "execution_count": 55,
   "metadata": {},
   "outputs": [
    {
     "data": {
      "text/plain": [
       "array([False,  True,  True, False], dtype=bool)"
      ]
     },
     "execution_count": 55,
     "metadata": {},
     "output_type": "execute_result"
    }
   ],
   "source": [
    "m = np.array([20, -5, 30, 40])\n",
    "m < [15, 16, 35, 36]\n"
   ]
  },
  {
   "cell_type": "markdown",
   "metadata": {},
   "source": [
    "__And using broadcasting__: "
   ]
  },
  {
   "cell_type": "code",
   "execution_count": 56,
   "metadata": {},
   "outputs": [
    {
     "data": {
      "text/plain": [
       "array([ True,  True, False, False], dtype=bool)"
      ]
     },
     "execution_count": 56,
     "metadata": {},
     "output_type": "execute_result"
    }
   ],
   "source": [
    "m < 25"
   ]
  },
  {
   "cell_type": "markdown",
   "metadata": {},
   "source": [
    "- Rule 1 applied to make 25 a scalar to a 1 dimensional\n",
    "array with order (1,): `[25]`  \n",
    "- Then Rule 2 appled to repeat the value of the array (25)\n",
    "to match with the size of `m`: `[25, 25, 25, 25]`  \n",
    "- Note that there are no axis here, it's a 1 dimensional array. And values are repeated along the the dimension which is = 1. In this case, along the columns as if you had more values in a 1 dimensional array, you add columns only, not rows. \n",
    "- Same as: `[20, -5, 30, 40] < [25, 25, 25, 25]`\n",
    "\n"
   ]
  },
  {
   "cell_type": "markdown",
   "metadata": {},
   "source": [
    "This is most useful in conjunction with boolean indexing. "
   ]
  },
  {
   "cell_type": "code",
   "execution_count": 57,
   "metadata": {},
   "outputs": [
    {
     "data": {
      "text/plain": [
       "array([20, -5])"
      ]
     },
     "execution_count": 57,
     "metadata": {},
     "output_type": "execute_result"
    }
   ],
   "source": [
    "m[m < 25]\n",
    "# >> helps to retain the values from m, which are bigger \n",
    "# than 25. "
   ]
  },
  {
   "cell_type": "markdown",
   "metadata": {},
   "source": [
    "# Mathematical and Statistical functions: "
   ]
  },
  {
   "cell_type": "markdown",
   "metadata": {},
   "source": [
    "- ### `np.ndarray.mean()`\n",
    "    - gives the mean of all elements in an array, regardless of it's shape. \n",
    "- ### `np.ndarray.min()`\n",
    "    - gives the minimum value of an array. \n",
    "- ### `np.ndarray.max()`\n",
    "    - gives the maximum value of an array.\n",
    "- ### `np.ndarray.sum()` \n",
    "    - returns the sum of all elements of the array.\n",
    "- ### `np.ndarray.prod()`\n",
    "    - returns the product of all elements in the array.\n",
    "- ### `np.ndarray.std()`\n",
    "    - returns the standard deviation of all elements in the array. \n",
    "- ### `np.ndarray.var()`\n",
    "    - returns the variance of all elements in the array. "
   ]
  },
  {
   "cell_type": "code",
   "execution_count": 58,
   "metadata": {},
   "outputs": [
    {
     "name": "stdout",
     "output_type": "stream",
     "text": [
      "mean = 6.76666666667\n",
      "min = -2.5\n",
      "max = 12.0\n",
      "sum = 40.6\n",
      "prod = -71610.0\n",
      "std = 5.08483584352\n",
      "var = 25.8555555556\n"
     ]
    }
   ],
   "source": [
    "a = np.array([[-2.5, 3.1, 7],\n",
    "            [10, 11, 12]])\n",
    "\n",
    "for func in (a.mean, a.min, a.max, a.sum, a.prod, a.std, a.var):\n",
    "    print(func.__name__, \"=\", func())"
   ]
  },
  {
   "cell_type": "markdown",
   "metadata": {},
   "source": [
    "- These operators need to have to open parentheses in front of them in order to be called. \n",
    "- They have an attribute `__name__`, which tells the name of the function. \n",
    "- These functions accept an optional `axis` which lets you ask for the operation to be performed on elements along the given axis. \n"
   ]
  },
  {
   "cell_type": "code",
   "execution_count": 59,
   "metadata": {},
   "outputs": [
    {
     "data": {
      "text/plain": [
       "array([[ 0,  1,  2,  3],\n",
       "       [ 4,  5,  6,  7],\n",
       "       [ 8,  9, 10, 11]])"
      ]
     },
     "execution_count": 59,
     "metadata": {},
     "output_type": "execute_result"
    }
   ],
   "source": [
    "c = np.arange(12).reshape(3,4)\n",
    "c"
   ]
  },
  {
   "cell_type": "code",
   "execution_count": 60,
   "metadata": {},
   "outputs": [
    {
     "ename": "NameError",
     "evalue": "name 'array' is not defined",
     "output_type": "error",
     "traceback": [
      "\u001b[0;31m---------------------------------------------------------------------------\u001b[0m",
      "\u001b[0;31mNameError\u001b[0m                                 Traceback (most recent call last)",
      "\u001b[0;32m<ipython-input-60-ba242c2707c0>\u001b[0m in \u001b[0;36m<module>\u001b[0;34m()\u001b[0m\n\u001b[1;32m      1\u001b[0m \u001b[0mc\u001b[0m\u001b[0;34m.\u001b[0m\u001b[0msum\u001b[0m\u001b[0;34m(\u001b[0m\u001b[0maxis\u001b[0m \u001b[0;34m=\u001b[0m \u001b[0;36m0\u001b[0m\u001b[0;34m)\u001b[0m \u001b[0;31m# vertically downwards / operation\u001b[0m\u001b[0;34m\u001b[0m\u001b[0m\n\u001b[1;32m      2\u001b[0m \u001b[0;31m# along the rows / summing up each column\u001b[0m\u001b[0;34m\u001b[0m\u001b[0;34m\u001b[0m\u001b[0m\n\u001b[0;32m----> 3\u001b[0;31m \u001b[0marray\u001b[0m\u001b[0;34m(\u001b[0m\u001b[0;34m[\u001b[0m\u001b[0;36m12\u001b[0m\u001b[0;34m,\u001b[0m \u001b[0;36m15\u001b[0m\u001b[0;34m,\u001b[0m \u001b[0;36m18\u001b[0m\u001b[0;34m,\u001b[0m \u001b[0;36m21\u001b[0m\u001b[0;34m]\u001b[0m\u001b[0;34m)\u001b[0m\u001b[0;34m\u001b[0m\u001b[0m\n\u001b[0m",
      "\u001b[0;31mNameError\u001b[0m: name 'array' is not defined"
     ]
    }
   ],
   "source": [
    "c.sum(axis = 0) # vertically downwards / operation \n",
    "# along the rows / summing up each column\n",
    "array([12, 15, 18, 21])"
   ]
  },
  {
   "cell_type": "code",
   "execution_count": null,
   "metadata": {
    "collapsed": true
   },
   "outputs": [],
   "source": [
    "c.sum(axis = 1) # horizontally rightwards / operation along\n",
    "# the columns / summing up each row"
   ]
  },
  {
   "cell_type": "code",
   "execution_count": null,
   "metadata": {
    "collapsed": true
   },
   "outputs": [],
   "source": [
    "c = np.arange(24).reshape(2,3,4)\n",
    "c"
   ]
  },
  {
   "cell_type": "code",
   "execution_count": null,
   "metadata": {
    "collapsed": true
   },
   "outputs": [],
   "source": [
    "c.sum(axis = 0) # Vertically downwards / operation along \n",
    "# the rows / summing up each column "
   ]
  },
  {
   "cell_type": "code",
   "execution_count": null,
   "metadata": {
    "collapsed": true
   },
   "outputs": [],
   "source": [
    "c.sum(axis = 1) # Horizontally rightwards / operation along \n",
    "# the columns / summing up each row"
   ]
  },
  {
   "cell_type": "markdown",
   "metadata": {},
   "source": [
    "- You can also sum up over multiple axes. \n"
   ]
  },
  {
   "cell_type": "code",
   "execution_count": null,
   "metadata": {
    "collapsed": true
   },
   "outputs": [],
   "source": [
    "c.sum(axis=(0,1))  #DOUBT: sum across matrices and columns"
   ]
  },
  {
   "cell_type": "markdown",
   "metadata": {},
   "source": [
    "\n",
    "# How to remember the axis thing? \n",
    "- Simple, just remember that __axis = 0__ , does an __operation on an entire column__. For eg: it __sums up an entire column__. How will it do that? \n",
    "    - By doing an __operation along the rows__, that is __vertically downwards__. \n",
    "  \n",
    "- So `0 = Vertical Downwards` = `Y axis types`(only a reference)  = `Sums up the elements of an entire column` = `Operation along the rows` (least important reference) .   \n",
    "\n",
    "############## --------------------------- #################\n",
    "\n",
    "- As axis = 0 does an operation on the entire column, it has to be __axis = 1 that does an operation on an entire row__. For eg: __sums up an entire row__. How will it do that? \n",
    "    - By doing __an operation along the columns__, that is __horizontally rightwards__\n",
    "- So `axis 1` = `horizontally rightwards` = `X axis types` ( only a reference ) = `Sums up the elements of  an entire row`  = O`peration along the columns` ( least important reference). "
   ]
  },
  {
   "cell_type": "markdown",
   "metadata": {},
   "source": [
    "## Universal functions: \n",
    "\n",
    "NumPy also provides fast elementwise functions called _universal functions_ , or __unfunc__.  \n",
    "They are vectorized wrappers of simple functions.  \n",
    "For examples, `sqaure` returns a new `ndarray` which is a copy of the original `ndarray` except that each element is squared: \n"
   ]
  },
  {
   "cell_type": "markdown",
   "metadata": {},
   "source": [
    "### `np.square(ndarray)`\n",
    "-  returns a new `ndarray` which is a copy of the original `ndarray` except that each element is squared. \n",
    "\n",
    "### `np.abs(ndarray)`\n",
    "-  returns a new `ndarray` which is a copy of the original `ndarray` except that each element's absolute value is taken. \n",
    "    \n",
    "### `np.sqrt(ndarray)`\n",
    "-  returns a new `ndarray` which is a copy of the original `ndarray` except that each element is replace by it's square root. \n",
    "\n",
    "### `np.exp(ndarray)`\n",
    "-  returns a new `ndarray` which is a copy of the original `ndarray` except that each element is replace by $ e^{x} $ where x is the element. \n",
    "\n",
    "### `np.log(ndarray)`\n",
    "-  returns a new `ndarray` which is a copy of the original `ndarray` except that each element is replace by it's natural log. \n",
    "\n",
    "### `np.ceil(ndarray)`\n",
    "-  returns a new `ndarray` which is a copy of the original `ndarray` except that each element is rounded up. \n",
    "\n",
    "### `np.modf(ndarray)`\n",
    "-  Return the fractional and integral parts of an array, element-wise.\n",
    "- The fractional and integral parts are negative if the given number is negative.  \n",
    "\n",
    "\n",
    "### `np.isnan(ndarray)`\n",
    "- For scalar input, the result is a new boolean with value True if the input is NaN; otherwise the value is False.\n",
    "- For array input, the result is a boolean array of the same dimensions as the input and the values are True if the corresponding element of the input is NaN; otherwise the values are False.\n",
    "\n",
    "### `np.cos(ndarray)`\n",
    "-  returns a new `ndarray` which is a copy of the original `ndarray` except that each element is replace by that element's cosine.\n",
    "\n",
    "### `np.sign(ndarray)`: \n",
    "- Returns an element-wise indication of the sign of a number."
   ]
  },
  {
   "cell_type": "code",
   "execution_count": 65,
   "metadata": {},
   "outputs": [
    {
     "name": "stdout",
     "output_type": "stream",
     "text": [
      "Original ndarray: \n",
      "[[ -2.5   3.1   7. ]\n",
      " [ 10.   11.   12. ]]\n",
      "absolute\n",
      "[[  2.5   3.1   7. ]\n",
      " [ 10.   11.   12. ]]\n",
      "\n",
      "\n",
      "Original ndarray: \n",
      "[[ -2.5   3.1   7. ]\n",
      " [ 10.   11.   12. ]]\n",
      "sqrt\n",
      "[[        nan  1.76068169  2.64575131]\n",
      " [ 3.16227766  3.31662479  3.46410162]]\n",
      "\n",
      "\n",
      "Original ndarray: \n",
      "[[ -2.5   3.1   7. ]\n",
      " [ 10.   11.   12. ]]\n",
      "exp\n",
      "[[  8.20849986e-02   2.21979513e+01   1.09663316e+03]\n",
      " [  2.20264658e+04   5.98741417e+04   1.62754791e+05]]\n",
      "\n",
      "\n",
      "Original ndarray: \n",
      "[[ -2.5   3.1   7. ]\n",
      " [ 10.   11.   12. ]]\n",
      "log\n",
      "[[        nan  1.13140211  1.94591015]\n",
      " [ 2.30258509  2.39789527  2.48490665]]\n",
      "\n",
      "\n",
      "Original ndarray: \n",
      "[[ -2.5   3.1   7. ]\n",
      " [ 10.   11.   12. ]]\n",
      "sign\n",
      "[[-1.  1.  1.]\n",
      " [ 1.  1.  1.]]\n",
      "\n",
      "\n",
      "Original ndarray: \n",
      "[[ -2.5   3.1   7. ]\n",
      " [ 10.   11.   12. ]]\n",
      "ceil\n",
      "[[ -2.   4.   7.]\n",
      " [ 10.  11.  12.]]\n",
      "\n",
      "\n",
      "Original ndarray: \n",
      "[[ -2.5   3.1   7. ]\n",
      " [ 10.   11.   12. ]]\n",
      "modf\n",
      "(array([[-0.5,  0.1,  0. ],\n",
      "       [ 0. ,  0. ,  0. ]]), array([[ -2.,   3.,   7.],\n",
      "       [ 10.,  11.,  12.]]))\n",
      "\n",
      "\n",
      "Original ndarray: \n",
      "[[ -2.5   3.1   7. ]\n",
      " [ 10.   11.   12. ]]\n",
      "isnan\n",
      "[[False False False]\n",
      " [False False False]]\n",
      "\n",
      "\n",
      "Original ndarray: \n",
      "[[ -2.5   3.1   7. ]\n",
      " [ 10.   11.   12. ]]\n",
      "cos\n",
      "[[-0.80114362 -0.99913515  0.75390225]\n",
      " [-0.83907153  0.0044257   0.84385396]]\n",
      "\n",
      "\n"
     ]
    },
    {
     "name": "stderr",
     "output_type": "stream",
     "text": [
      "//anaconda/envs/dlndf/lib/python3.6/site-packages/ipykernel_launcher.py:11: RuntimeWarning: invalid value encountered in sqrt\n",
      "  # This is added back by InteractiveShellApp.init_path()\n",
      "//anaconda/envs/dlndf/lib/python3.6/site-packages/ipykernel_launcher.py:11: RuntimeWarning: invalid value encountered in log\n",
      "  # This is added back by InteractiveShellApp.init_path()\n"
     ]
    }
   ],
   "source": [
    "a = np.array([\n",
    "    [-2.5, 3.1, 7],\n",
    "    [10, 11 , 12]\n",
    "])\n",
    "\n",
    "for func in (np.abs, np.sqrt, np.exp, np.log, np.sign, np.ceil,\n",
    "            np.modf, np.isnan, np.cos):\n",
    "        print(\"Original ndarray: \")\n",
    "        print(a)\n",
    "        print(func.__name__)\n",
    "        print(func(a))\n",
    "        print(\"\\n\")\n"
   ]
  },
  {
   "cell_type": "markdown",
   "metadata": {},
   "source": [
    "## Binary ufucs: \n",
    "- There are also many binary ufuncs, that apply elementwise on two `ndarrays`.  \n",
    "- Broadcasting rules are applied if the arrays do not have the same shape. \n",
    "\n",
    "### `np.add(a,b)`\n",
    "- Adds the 2 arrays\n",
    "\n",
    "### `np.greater(a,b)`\n",
    "- Equaivalent to calling a > b\n",
    "\n",
    "### `np.maximum(a,b)`\n",
    "- Element-wise maximum of array elements.\n",
    "- Compare two arrays and returns a new array containing the element-wise maxima. \n",
    "- If one of the elements being compared is a NaN, then that element is returned. \n",
    "- If both elements are NaNs then the first is returned. \n",
    "- Returns scalar, if both a and b are scalar. \n",
    "\n",
    "### `np.copysign(a,b)`\n",
    "- Returns `a` with signs copied from `b`, elementwise. \n"
   ]
  },
  {
   "cell_type": "code",
   "execution_count": 67,
   "metadata": {},
   "outputs": [
    {
     "name": "stdout",
     "output_type": "stream",
     "text": [
      "Original ndarrays: \n",
      "a = [1 2 3 4]\n",
      "b =  [ 2  8 -1  7]\n",
      "maximum\n",
      "[2 8 3 7]\n",
      "\n",
      "\n",
      "Original ndarrays: \n",
      "a = [1 2 3 4]\n",
      "b =  [ 2  8 -1  7]\n",
      "add\n",
      "[ 3 10  2 11]\n",
      "\n",
      "\n",
      "Original ndarrays: \n",
      "a = [1 2 3 4]\n",
      "b =  [ 2  8 -1  7]\n",
      "greater\n",
      "[False False  True False]\n",
      "\n",
      "\n",
      "Original ndarrays: \n",
      "a = [1 2 3 4]\n",
      "b =  [ 2  8 -1  7]\n",
      "copysign\n",
      "[ 1.  2. -3.  4.]\n",
      "\n",
      "\n"
     ]
    }
   ],
   "source": [
    "a = np.array([1, 2, 3, 4])\n",
    "b = np.array([2, 8, -1, 7])\n",
    "\n",
    "for func in (np.maximum, np.add, np.greater, np.copysign):\n",
    "        print(\"Original ndarrays: \")\n",
    "        print('a =', a)\n",
    "        print('b = ', b)\n",
    "        print(func.__name__)\n",
    "        print(func(a,b))\n",
    "        print(\"\\n\")"
   ]
  },
  {
   "cell_type": "markdown",
   "metadata": {},
   "source": [
    "## Array Indexing: "
   ]
  },
  {
   "cell_type": "markdown",
   "metadata": {},
   "source": [
    "### One - dimensional arrays: \n",
    "- One -dimensional arrays can be accessed more or less like regular python arrays. "
   ]
  },
  {
   "cell_type": "code",
   "execution_count": 84,
   "metadata": {},
   "outputs": [
    {
     "data": {
      "text/plain": [
       "19"
      ]
     },
     "execution_count": 84,
     "metadata": {},
     "output_type": "execute_result"
    }
   ],
   "source": [
    "a = np.array([1, 5, 3, 19, 13, 7, 3])\n",
    "a[3]"
   ]
  },
  {
   "cell_type": "code",
   "execution_count": 69,
   "metadata": {},
   "outputs": [
    {
     "data": {
      "text/plain": [
       "array([ 3, 19, 13])"
      ]
     },
     "execution_count": 69,
     "metadata": {},
     "output_type": "execute_result"
    }
   ],
   "source": [
    "a[2:5]"
   ]
  },
  {
   "cell_type": "code",
   "execution_count": 70,
   "metadata": {},
   "outputs": [
    {
     "data": {
      "text/plain": [
       "array([ 3, 19, 13,  7])"
      ]
     },
     "execution_count": 70,
     "metadata": {},
     "output_type": "execute_result"
    }
   ],
   "source": [
    "a[2:-1]"
   ]
  },
  {
   "cell_type": "code",
   "execution_count": 71,
   "metadata": {},
   "outputs": [
    {
     "data": {
      "text/plain": [
       "array([1, 5])"
      ]
     },
     "execution_count": 71,
     "metadata": {},
     "output_type": "execute_result"
    }
   ],
   "source": [
    "a[:2]"
   ]
  },
  {
   "cell_type": "code",
   "execution_count": 77,
   "metadata": {},
   "outputs": [
    {
     "data": {
      "text/plain": [
       "array([ 3, 19, 13,  7,  3])"
      ]
     },
     "execution_count": 77,
     "metadata": {},
     "output_type": "execute_result"
    }
   ],
   "source": [
    "a[2::1]\n",
    "# Lists also support slice steps:\n",
    "#  seq = L[start:stop:step]\n",
    "\n",
    "#  seq = L[::2] # get every other item, starting with the first\n",
    "#  seq = L[1::2] # get every other item, starting with the second\n"
   ]
  },
  {
   "cell_type": "code",
   "execution_count": 82,
   "metadata": {},
   "outputs": [
    {
     "data": {
      "text/plain": [
       "array([  3,   7,  13, 999,   3,   5,   1])"
      ]
     },
     "execution_count": 82,
     "metadata": {},
     "output_type": "execute_result"
    }
   ],
   "source": [
    "a[::-1] # Get previous item, starting from the first"
   ]
  },
  {
   "cell_type": "markdown",
   "metadata": {},
   "source": [
    "- You can modify elements, just like in python lists. "
   ]
  },
  {
   "cell_type": "code",
   "execution_count": 85,
   "metadata": {},
   "outputs": [
    {
     "name": "stdout",
     "output_type": "stream",
     "text": [
      "[ 1  5  3 19 13  7  3]\n",
      "[  1   5   3 999  13   7   3]\n"
     ]
    }
   ],
   "source": [
    "print(a)\n",
    "a[3] = 999\n",
    "print(a)"
   ]
  },
  {
   "cell_type": "markdown",
   "metadata": {},
   "source": [
    "- You can also modify an `ndarray` slice: "
   ]
  },
  {
   "cell_type": "code",
   "execution_count": 86,
   "metadata": {},
   "outputs": [
    {
     "name": "stdout",
     "output_type": "stream",
     "text": [
      "[  1   5   3 999  13   7   3]\n",
      "[  1   5 997 998 999   7   3]\n"
     ]
    }
   ],
   "source": [
    "print(a)\n",
    "a[2:5] = [997, 998, 999] # Setting the 2nd , 3rd, 4th elements\n",
    "print(a)"
   ]
  },
  {
   "cell_type": "markdown",
   "metadata": {},
   "source": [
    "### Differences with regular python arrays:   \n",
    "\n",
    "- Contrary to regular python arrays, if you assign a single value to an `ndarray` slice, it is copied across the whole slice, thanks to the broadcasting rules discussed above. "
   ]
  },
  {
   "cell_type": "code",
   "execution_count": 99,
   "metadata": {},
   "outputs": [
    {
     "data": {
      "text/plain": [
       "[1, 5, 3, 19, -1, -1, -1]"
      ]
     },
     "execution_count": 99,
     "metadata": {},
     "output_type": "execute_result"
    }
   ],
   "source": [
    "# Using Python lists: \n",
    "a = [1, 5, 3, 19, 13, 7, 3]\n",
    "a[4:7] = [-1, -1, -1]\n",
    "a"
   ]
  },
  {
   "cell_type": "code",
   "execution_count": 100,
   "metadata": {},
   "outputs": [
    {
     "data": {
      "text/plain": [
       "'\\na = [1,2,3,4,5,6]\\na[4:7] = -1\\na\\n'"
      ]
     },
     "execution_count": 100,
     "metadata": {},
     "output_type": "execute_result"
    }
   ],
   "source": [
    "# BUT this throws an error:\n",
    "'''\n",
    "a = [1,2,3,4,5,6]\n",
    "a[4:7] = -1\n",
    "a\n",
    "'''\n",
    "# >> TypeError: can only assign an iterable"
   ]
  },
  {
   "cell_type": "code",
   "execution_count": 101,
   "metadata": {},
   "outputs": [
    {
     "data": {
      "text/plain": [
       "array([ 1,  5,  3, 19, -1, -1, -1])"
      ]
     },
     "execution_count": 101,
     "metadata": {},
     "output_type": "execute_result"
    }
   ],
   "source": [
    "# Using NumPy arrays: \n",
    "a = np.array([1, 5, 3, 19, 13, 7, 3])\n",
    "a[4:7] = -1\n",
    "a"
   ]
  },
  {
   "cell_type": "markdown",
   "metadata": {},
   "source": [
    "- Also, you cannot grow or shrink `ndarrays` this way. "
   ]
  },
  {
   "cell_type": "code",
   "execution_count": 102,
   "metadata": {},
   "outputs": [
    {
     "name": "stdout",
     "output_type": "stream",
     "text": [
      "cannot copy sequence with size 6 to array axis with dimension 3\n"
     ]
    }
   ],
   "source": [
    "try: \n",
    "    a[2:5] = [1,2,3,4,5,6] # TOO LONG\n",
    "except ValueError as e: \n",
    "    print(e)"
   ]
  },
  {
   "cell_type": "markdown",
   "metadata": {},
   "source": [
    "- You cannot delete elements either, like you could in lists: "
   ]
  },
  {
   "cell_type": "code",
   "execution_count": 106,
   "metadata": {},
   "outputs": [
    {
     "name": "stdout",
     "output_type": "stream",
     "text": [
      "[1, 5, 3, 19, 13, 7, 3]\n"
     ]
    },
    {
     "data": {
      "text/plain": [
       "[1, 5, 3, 19]"
      ]
     },
     "execution_count": 106,
     "metadata": {},
     "output_type": "execute_result"
    }
   ],
   "source": [
    "# Using Python lists: \n",
    "a = [1, 5, 3, 19, 13, 7, 3]\n",
    "print(a)\n",
    "# >> [1, 5, 3, 19, 13, 7, 3]\n",
    "del a[4:7]\n",
    "a"
   ]
  },
  {
   "cell_type": "code",
   "execution_count": 105,
   "metadata": {},
   "outputs": [
    {
     "data": {
      "text/plain": [
       "[1, 5, 3, 19]"
      ]
     },
     "execution_count": 105,
     "metadata": {},
     "output_type": "execute_result"
    }
   ],
   "source": [
    "del a[4:7]\n",
    "a"
   ]
  },
  {
   "cell_type": "code",
   "execution_count": 108,
   "metadata": {},
   "outputs": [
    {
     "name": "stdout",
     "output_type": "stream",
     "text": [
      "cannot delete array elements\n"
     ]
    }
   ],
   "source": [
    "# Using NumPy arrays: \n",
    "a = np.array([1, 5, 3, 19, 13, 7, 3])\n",
    "try:\n",
    "    del a[2:5]\n",
    "except ValueError as e:\n",
    "    print(e)\n"
   ]
  },
  {
   "cell_type": "markdown",
   "metadata": {},
   "source": [
    "- Last, but not the least, `ndarray` __slices are actual view__ on the same data buffer. \n",
    "- this means that if you create a slice and modify it, you are acually modifying the original `ndarray` as well! \n"
   ]
  },
  {
   "cell_type": "code",
   "execution_count": 110,
   "metadata": {},
   "outputs": [
    {
     "data": {
      "text/plain": [
       "array([   3, 1000,   13,    7])"
      ]
     },
     "execution_count": 110,
     "metadata": {},
     "output_type": "execute_result"
    }
   ],
   "source": [
    "a_slice = a[2:6]\n",
    "a_slice"
   ]
  },
  {
   "cell_type": "code",
   "execution_count": 112,
   "metadata": {},
   "outputs": [
    {
     "data": {
      "text/plain": [
       "array([   3, 1000,   13,    7])"
      ]
     },
     "execution_count": 112,
     "metadata": {},
     "output_type": "execute_result"
    }
   ],
   "source": [
    "a_slice[1] = 1000\n",
    "a_slice"
   ]
  },
  {
   "cell_type": "code",
   "execution_count": 114,
   "metadata": {},
   "outputs": [
    {
     "data": {
      "text/plain": [
       "array([   1,    5,    3, 1000,   13,    7,    3])"
      ]
     },
     "execution_count": 114,
     "metadata": {},
     "output_type": "execute_result"
    }
   ],
   "source": [
    "a # The original array was also modified! "
   ]
  },
  {
   "cell_type": "markdown",
   "metadata": {},
   "source": [
    "- If you want a copy of the data, you will need to use the copy method. \n"
   ]
  },
  {
   "cell_type": "code",
   "execution_count": 130,
   "metadata": {},
   "outputs": [
    {
     "data": {
      "text/plain": [
       "array([ 1,  5,  3, 19, 13,  7,  3])"
      ]
     },
     "execution_count": 130,
     "metadata": {},
     "output_type": "execute_result"
    }
   ],
   "source": [
    "# Revert a to original \n",
    "a = np.array([1, 5, 3, 19, 13, 7, 3])\n",
    "a"
   ]
  },
  {
   "cell_type": "code",
   "execution_count": 131,
   "metadata": {},
   "outputs": [
    {
     "data": {
      "text/plain": [
       "array([ 3, 19, 13,  7])"
      ]
     },
     "execution_count": 131,
     "metadata": {},
     "output_type": "execute_result"
    }
   ],
   "source": [
    "another_slice = a[2:6].copy()\n",
    "another_slice"
   ]
  },
  {
   "cell_type": "code",
   "execution_count": 132,
   "metadata": {},
   "outputs": [
    {
     "data": {
      "text/plain": [
       "array([   3, 1000,   13,    7])"
      ]
     },
     "execution_count": 132,
     "metadata": {},
     "output_type": "execute_result"
    }
   ],
   "source": [
    "another_slice[1] = 1000\n",
    "another_slice"
   ]
  },
  {
   "cell_type": "code",
   "execution_count": 133,
   "metadata": {},
   "outputs": [
    {
     "data": {
      "text/plain": [
       "array([ 1,  5,  3, 19, 13,  7,  3])"
      ]
     },
     "execution_count": 133,
     "metadata": {},
     "output_type": "execute_result"
    }
   ],
   "source": [
    "a # The original array was NOT modified at all! "
   ]
  },
  {
   "cell_type": "code",
   "execution_count": 134,
   "metadata": {},
   "outputs": [
    {
     "data": {
      "text/plain": [
       "array([ 3, 19, 13,  7])"
      ]
     },
     "execution_count": 134,
     "metadata": {},
     "output_type": "execute_result"
    }
   ],
   "source": [
    "# Reverting another_slice to original:\n",
    "another_slice = a[2:6].copy()\n",
    "another_slice"
   ]
  },
  {
   "cell_type": "code",
   "execution_count": 135,
   "metadata": {},
   "outputs": [
    {
     "data": {
      "text/plain": [
       "array([   1,    5,    3, 1234,   13,    7,    3])"
      ]
     },
     "execution_count": 135,
     "metadata": {},
     "output_type": "execute_result"
    }
   ],
   "source": [
    "a[3] = 1234\n",
    "a"
   ]
  },
  {
   "cell_type": "code",
   "execution_count": 136,
   "metadata": {},
   "outputs": [
    {
     "data": {
      "text/plain": [
       "array([ 3, 19, 13,  7])"
      ]
     },
     "execution_count": 136,
     "metadata": {},
     "output_type": "execute_result"
    }
   ],
   "source": [
    "another_slice # Similarly, modifying the original array does\n",
    "# not affect the copy of the orignal array. "
   ]
  },
  {
   "cell_type": "markdown",
   "metadata": {},
   "source": [
    "## Multi-dimensional arrays: \n",
    "\n",
    "- Multi-dimensional arrays can be accessed in a similar way by providing an index or slice for each axis, seperated by commas: \n",
    "- __Note__ Index starts at 0. \n",
    "    - So when we say row 1, it means row 2( when we view it). \n",
    "    - When we say colum 1, it means column 2 (when we view it). \n",
    "    - In higher dimensions, When we say matrix 1, it means matrix 2 (when we view it).  "
   ]
  },
  {
   "cell_type": "code",
   "execution_count": 137,
   "metadata": {},
   "outputs": [
    {
     "data": {
      "text/plain": [
       "array([[ 0,  1,  2,  3,  4,  5,  6,  7,  8,  9, 10, 11],\n",
       "       [12, 13, 14, 15, 16, 17, 18, 19, 20, 21, 22, 23],\n",
       "       [24, 25, 26, 27, 28, 29, 30, 31, 32, 33, 34, 35],\n",
       "       [36, 37, 38, 39, 40, 41, 42, 43, 44, 45, 46, 47]])"
      ]
     },
     "execution_count": 137,
     "metadata": {},
     "output_type": "execute_result"
    }
   ],
   "source": [
    "b = np.arange(48).reshape(4,12)\n",
    "b"
   ]
  },
  {
   "cell_type": "code",
   "execution_count": 138,
   "metadata": {},
   "outputs": [
    {
     "data": {
      "text/plain": [
       "14"
      ]
     },
     "execution_count": 138,
     "metadata": {},
     "output_type": "execute_result"
    }
   ],
   "source": [
    "b[1,2] # Accessing element in Row 1, Column 2"
   ]
  },
  {
   "cell_type": "code",
   "execution_count": 140,
   "metadata": {},
   "outputs": [
    {
     "data": {
      "text/plain": [
       "array([12, 13, 14, 15, 16, 17, 18, 19, 20, 21, 22, 23])"
      ]
     },
     "execution_count": 140,
     "metadata": {},
     "output_type": "execute_result"
    }
   ],
   "source": [
    "b[1, :] # Accessing all elements in Row 1\n",
    "        # Acessing Row 1, and all columns"
   ]
  },
  {
   "cell_type": "code",
   "execution_count": 141,
   "metadata": {},
   "outputs": [
    {
     "data": {
      "text/plain": [
       "array([ 1, 13, 25, 37])"
      ]
     },
     "execution_count": 141,
     "metadata": {},
     "output_type": "execute_result"
    }
   ],
   "source": [
    "b[:,1] # Accesing all elements in Column 1\n",
    "       # Accesing all rows, Column 1"
   ]
  },
  {
   "cell_type": "markdown",
   "metadata": {},
   "source": [
    "- __Caution:__ Note the subtle difference between the 2 expressions. \n"
   ]
  },
  {
   "cell_type": "code",
   "execution_count": 144,
   "metadata": {},
   "outputs": [
    {
     "data": {
      "text/plain": [
       "array([12, 13, 14, 15, 16, 17, 18, 19, 20, 21, 22, 23])"
      ]
     },
     "execution_count": 144,
     "metadata": {},
     "output_type": "execute_result"
    }
   ],
   "source": [
    "b[1,:]"
   ]
  },
  {
   "cell_type": "code",
   "execution_count": 143,
   "metadata": {},
   "outputs": [
    {
     "data": {
      "text/plain": [
       "array([[12, 13, 14, 15, 16, 17, 18, 19, 20, 21, 22, 23]])"
      ]
     },
     "execution_count": 143,
     "metadata": {},
     "output_type": "execute_result"
    }
   ],
   "source": [
    "b[1:2, :]\n"
   ]
  },
  {
   "cell_type": "markdown",
   "metadata": {},
   "source": [
    "- Note: \n",
    "    - The first `b[1, :]` returns a 1 dimensional array containing all elements of row 1, with shape `(12,)`. \n",
    "    - The second indexing `b[1:2, :]` returns the same rows as 2 dimensional array of shape `(1,12)`. \n",
    "    \n",
    "- __Why does this happen?__ \n",
    "    - The first type of indexing just mentions a row number, and a column number.\n",
    "    - The second type of indexing , indexes within rows (from row 1, to row n) and within columns ( from column a to column b). \n",
    "        - That is why, for the second type of indexing NumPy requires a two dimensional array. Although in this case, we only index from row 1 to row 2, which just gives us row 1, because of the -1 indexing rule. \n",
    "        "
   ]
  },
  {
   "cell_type": "markdown",
   "metadata": {},
   "source": [
    "## Fancy indexing: \n",
    "- You may also specify a tuple of indices that you are interested in. "
   ]
  },
  {
   "cell_type": "code",
   "execution_count": 150,
   "metadata": {},
   "outputs": [
    {
     "name": "stdout",
     "output_type": "stream",
     "text": [
      "b\n",
      " [[ 0  1  2  3  4  5  6  7  8  9 10 11]\n",
      " [12 13 14 15 16 17 18 19 20 21 22 23]\n",
      " [24 25 26 27 28 29 30 31 32 33 34 35]\n",
      " [36 37 38 39 40 41 42 43 44 45 46 47]]\n"
     ]
    },
    {
     "data": {
      "text/plain": [
       "array([[ 2,  3,  4],\n",
       "       [26, 27, 28]])"
      ]
     },
     "execution_count": 150,
     "metadata": {},
     "output_type": "execute_result"
    }
   ],
   "source": [
    "print('b\\n', b)\n",
    "b[(0,2), 2:5]\n",
    "# rows 0 and 2, columns 2, 3, 4(5-1)"
   ]
  },
  {
   "cell_type": "code",
   "execution_count": 153,
   "metadata": {},
   "outputs": [
    {
     "data": {
      "text/plain": [
       "'b[(0,2),(2,3,4)]'"
      ]
     },
     "execution_count": 153,
     "metadata": {},
     "output_type": "execute_result"
    }
   ],
   "source": [
    "# Will give the same output as above^\n",
    "'''b[(0,2),(2,3,4)]'''\n",
    "# >> IndexError: shape mismatch: indexing arrays could \n",
    "# not be broadcast together with shapes (2,) (3,) "
   ]
  },
  {
   "cell_type": "markdown",
   "metadata": {},
   "source": [
    "__No__, `b[(0,2),(2,3,4)]` does not give the same result as `b[(0,2), 2:5]` because: \n",
    "- _If you provide multiple index arrays, you get a 1D `ndarray` containing the values of the elements at the specified coordinates. Now, in order for them to be coordinates, you need to have equivalent number of indices in each tuple._ "
   ]
  },
  {
   "cell_type": "code",
   "execution_count": 149,
   "metadata": {},
   "outputs": [
    {
     "name": "stdout",
     "output_type": "stream",
     "text": [
      "b\n",
      " [[ 0  1  2  3  4  5  6  7  8  9 10 11]\n",
      " [12 13 14 15 16 17 18 19 20 21 22 23]\n",
      " [24 25 26 27 28 29 30 31 32 33 34 35]\n",
      " [36 37 38 39 40 41 42 43 44 45 46 47]]\n"
     ]
    },
    {
     "data": {
      "text/plain": [
       "array([[11,  2, 11],\n",
       "       [23, 14, 23],\n",
       "       [35, 26, 35],\n",
       "       [47, 38, 47]])"
      ]
     },
     "execution_count": 149,
     "metadata": {},
     "output_type": "execute_result"
    }
   ],
   "source": [
    "print('b\\n', b)\n",
    "b[:, (-1, 2 , -1)]\n",
    "# All rows, columns -1(last), 2, and -1(last, again)"
   ]
  },
  {
   "cell_type": "markdown",
   "metadata": {},
   "source": [
    "- If you provide multiple index arrays, you get a 1D `ndarray` containing the values of the elements at the specified coordinates. \n"
   ]
  },
  {
   "cell_type": "code",
   "execution_count": 151,
   "metadata": {},
   "outputs": [
    {
     "name": "stdout",
     "output_type": "stream",
     "text": [
      "b\n",
      " [[ 0  1  2  3  4  5  6  7  8  9 10 11]\n",
      " [12 13 14 15 16 17 18 19 20 21 22 23]\n",
      " [24 25 26 27 28 29 30 31 32 33 34 35]\n",
      " [36 37 38 39 40 41 42 43 44 45 46 47]]\n"
     ]
    },
    {
     "data": {
      "text/plain": [
       "array([41, 33, 37, 33])"
      ]
     },
     "execution_count": 151,
     "metadata": {},
     "output_type": "execute_result"
    }
   ],
   "source": [
    "print('b\\n', b)\n",
    "b[(-1, 2, -1, 2), (5, 9, 1, 9)]"
   ]
  },
  {
   "cell_type": "markdown",
   "metadata": {},
   "source": [
    "### Higher dimensions: \n",
    "\n",
    "Everything works just as well with higher dimensional arrays, but it's useful to look at a few examples. "
   ]
  },
  {
   "cell_type": "code",
   "execution_count": 154,
   "metadata": {},
   "outputs": [
    {
     "data": {
      "text/plain": [
       "array([[[ 0,  1,  2,  3,  4,  5],\n",
       "        [ 6,  7,  8,  9, 10, 11]],\n",
       "\n",
       "       [[12, 13, 14, 15, 16, 17],\n",
       "        [18, 19, 20, 21, 22, 23]],\n",
       "\n",
       "       [[24, 25, 26, 27, 28, 29],\n",
       "        [30, 31, 32, 33, 34, 35]],\n",
       "\n",
       "       [[36, 37, 38, 39, 40, 41],\n",
       "        [42, 43, 44, 45, 46, 47]]])"
      ]
     },
     "execution_count": 154,
     "metadata": {},
     "output_type": "execute_result"
    }
   ],
   "source": [
    "c = b.reshape(4,2,6)\n",
    "c"
   ]
  },
  {
   "cell_type": "code",
   "execution_count": 155,
   "metadata": {},
   "outputs": [
    {
     "data": {
      "text/plain": [
       "34"
      ]
     },
     "execution_count": 155,
     "metadata": {},
     "output_type": "execute_result"
    }
   ],
   "source": [
    "c[2, 1, 4] # matrix 2, row 1, col 4"
   ]
  },
  {
   "cell_type": "code",
   "execution_count": 156,
   "metadata": {},
   "outputs": [
    {
     "data": {
      "text/plain": [
       "array([27, 33])"
      ]
     },
     "execution_count": 156,
     "metadata": {},
     "output_type": "execute_result"
    }
   ],
   "source": [
    "c[2, : , 3] # matrix 2, all rows, col 3"
   ]
  },
  {
   "cell_type": "markdown",
   "metadata": {},
   "source": [
    "- If you omit coordinates for some axes, then all elements in these axes are returned. "
   ]
  },
  {
   "cell_type": "code",
   "execution_count": 157,
   "metadata": {},
   "outputs": [
    {
     "data": {
      "text/plain": [
       "array([30, 31, 32, 33, 34, 35])"
      ]
     },
     "execution_count": 157,
     "metadata": {},
     "output_type": "execute_result"
    }
   ],
   "source": [
    "c[2,1] # Returns matrix 2, row 1 , all columns. \n",
    "# Equivalent to asking c[2, 1, :]"
   ]
  },
  {
   "cell_type": "markdown",
   "metadata": {},
   "source": [
    "## Elipsis(...)"
   ]
  },
  {
   "cell_type": "markdown",
   "metadata": {},
   "source": [
    "You may also write an ellipsis(...) to ask that all non-specified axes be entirely included. "
   ]
  },
  {
   "cell_type": "code",
   "execution_count": 161,
   "metadata": {},
   "outputs": [
    {
     "name": "stdout",
     "output_type": "stream",
     "text": [
      "c\n",
      " [[[ 0  1  2  3  4  5]\n",
      "  [ 6  7  8  9 10 11]]\n",
      "\n",
      " [[12 13 14 15 16 17]\n",
      "  [18 19 20 21 22 23]]\n",
      "\n",
      " [[24 25 26 27 28 29]\n",
      "  [30 31 32 33 34 35]]\n",
      "\n",
      " [[36 37 38 39 40 41]\n",
      "  [42 43 44 45 46 47]]]\n"
     ]
    },
    {
     "data": {
      "text/plain": [
       "array([[24, 25, 26, 27, 28, 29],\n",
       "       [30, 31, 32, 33, 34, 35]])"
      ]
     },
     "execution_count": 161,
     "metadata": {},
     "output_type": "execute_result"
    }
   ],
   "source": [
    "print('c\\n',c)\n",
    "c[2, ...] # matrix 2, all rows, all columns\n",
    "# Equivalent to c[2, :, :]"
   ]
  },
  {
   "cell_type": "code",
   "execution_count": 159,
   "metadata": {},
   "outputs": [
    {
     "data": {
      "text/plain": [
       "array([30, 31, 32, 33, 34, 35])"
      ]
     },
     "execution_count": 159,
     "metadata": {},
     "output_type": "execute_result"
    }
   ],
   "source": [
    "c[2, 1, ...] # matrix2, row1, all columns\n",
    "# Equivalend to c[2, 1, : ]"
   ]
  },
  {
   "cell_type": "code",
   "execution_count": 162,
   "metadata": {},
   "outputs": [
    {
     "data": {
      "text/plain": [
       "array([27, 33])"
      ]
     },
     "execution_count": 162,
     "metadata": {},
     "output_type": "execute_result"
    }
   ],
   "source": [
    "c[2, ... , 3] # matrix 2, all rows, column 3"
   ]
  },
  {
   "cell_type": "markdown",
   "metadata": {},
   "source": [
    "## Boolean indexing: \n",
    "- You can also provide an `ndarray` of boolean values on one axis to specify the indices you want to access. "
   ]
  },
  {
   "cell_type": "code",
   "execution_count": 163,
   "metadata": {},
   "outputs": [
    {
     "data": {
      "text/plain": [
       "array([[ 0,  1,  2,  3,  4,  5,  6,  7,  8,  9, 10, 11],\n",
       "       [12, 13, 14, 15, 16, 17, 18, 19, 20, 21, 22, 23],\n",
       "       [24, 25, 26, 27, 28, 29, 30, 31, 32, 33, 34, 35],\n",
       "       [36, 37, 38, 39, 40, 41, 42, 43, 44, 45, 46, 47]])"
      ]
     },
     "execution_count": 163,
     "metadata": {},
     "output_type": "execute_result"
    }
   ],
   "source": [
    "b = np.arange(48).reshape(4,12)\n",
    "b"
   ]
  },
  {
   "cell_type": "code",
   "execution_count": 166,
   "metadata": {},
   "outputs": [
    {
     "data": {
      "text/plain": [
       "array([[ 0,  1,  2,  3,  4,  5,  6,  7,  8,  9, 10, 11],\n",
       "       [24, 25, 26, 27, 28, 29, 30, 31, 32, 33, 34, 35]])"
      ]
     },
     "execution_count": 166,
     "metadata": {},
     "output_type": "execute_result"
    }
   ],
   "source": [
    "rows_on = np.array([True, False, True, False])\n",
    "b[rows_on, :] \n",
    "# Rows 0 and 2, all columns\n",
    "# Equivalent to b[(0,2), :]"
   ]
  },
  {
   "cell_type": "code",
   "execution_count": 167,
   "metadata": {},
   "outputs": [
    {
     "data": {
      "text/plain": [
       "array([[ 1,  4,  7, 10],\n",
       "       [13, 16, 19, 22],\n",
       "       [25, 28, 31, 34],\n",
       "       [37, 40, 43, 46]])"
      ]
     },
     "execution_count": 167,
     "metadata": {},
     "output_type": "execute_result"
    }
   ],
   "source": [
    "cols_on = np.array([False, True, False]*4)\n",
    "b[:, cols_on]\n",
    "# All Rows, Cols 1,4,7,10\n",
    "# Equivalent to  b[:, (1,4,7,10)]"
   ]
  },
  {
   "cell_type": "markdown",
   "metadata": {},
   "source": [
    "But you cannot use boolean indexing this way to index multiple axes, as this is a form of `fancy indexing`. \n",
    "- The number of indices should for rows and columsn must be equal. "
   ]
  },
  {
   "cell_type": "code",
   "execution_count": 173,
   "metadata": {},
   "outputs": [
    {
     "data": {
      "text/plain": [
       "'b[rows_on, cols_on]'"
      ]
     },
     "execution_count": 173,
     "metadata": {},
     "output_type": "execute_result"
    }
   ],
   "source": [
    "'''b[rows_on, cols_on]'''\n",
    "# >> IndexError: shape mismatch: indexing arrays could not \n",
    "# be broadcast together with shapes (2,) (4,) "
   ]
  },
  {
   "cell_type": "markdown",
   "metadata": {},
   "source": [
    "### `np.ix_()`\n",
    "- You cannot use boolean indexing this way on multiple axies, but you can work around this by using the `ix_` function. "
   ]
  },
  {
   "cell_type": "code",
   "execution_count": 172,
   "metadata": {},
   "outputs": [
    {
     "name": "stdout",
     "output_type": "stream",
     "text": [
      "[ True False  True False]\n",
      "[False  True False False  True False False  True False False  True False]\n",
      "[[ 0  1  2  3  4  5  6  7  8  9 10 11]\n",
      " [12 13 14 15 16 17 18 19 20 21 22 23]\n",
      " [24 25 26 27 28 29 30 31 32 33 34 35]\n",
      " [36 37 38 39 40 41 42 43 44 45 46 47]]\n"
     ]
    }
   ],
   "source": [
    "print(rows_on)\n",
    "print(cols_on)\n",
    "print(b)"
   ]
  },
  {
   "cell_type": "code",
   "execution_count": 168,
   "metadata": {},
   "outputs": [
    {
     "data": {
      "text/plain": [
       "array([[ 1,  4,  7, 10],\n",
       "       [25, 28, 31, 34]])"
      ]
     },
     "execution_count": 168,
     "metadata": {},
     "output_type": "execute_result"
    }
   ],
   "source": [
    "b[np.ix_(rows_on, cols_on)]\n",
    "# It will index all elements from row 0 and row 2 which \n",
    "# are boolean indexed by cols_on\n",
    "# For eg: Row 0, col 0 value, i.e 0 will  not be a accepted. \n",
    "#         Row 0, col 1 value , i.e 1 will be accepted"
   ]
  },
  {
   "cell_type": "markdown",
   "metadata": {
    "collapsed": true
   },
   "source": [
    "### `np.dot(a,b) / ndarray.dot(ndarray)`\n",
    "- Gives the dot product of two arrays. \n",
    "- For 2D arrays, it is equivalent to matrix multiplication, and for 1-D arrays, it is equivalent to the inner product of vectors( inner product is what you know dot product of vectors is, i.e _multiplying elementwise and them summing the products to get a scalar_) \n",
    "- For a N dimnesions it is a sum product over the last axis of a, and the second to last axis of b. \n",
    "    - So if N is 2, eg: a (2,3) and b(3,2) matrix:\n",
    "        - The `np.dot(a,b)` will give us a sum product over the last axis of `a`, i.e 3 and the second to last axis of `b`, i.e 3, which is what matrix multiplication actually does (unclear, leave it, _not important unless you're doing 3d matrix mutliplication).\n",
    "        \n",
    "        "
   ]
  },
  {
   "cell_type": "markdown",
   "metadata": {},
   "source": [
    "### `np.clip(a, a_min, a_max)`\n",
    "- Clip (limit) the values in an array.\n",
    "- Given an interval, values outside the interval are clipped to the interval edges.  \n",
    "- For example, if an interval of ``[0, 1]``is specified, values smaller than 0 become 0, and values larger than 1 become 1.\n",
    "\n",
    "```python\n",
    "\n",
    "    Examples\n",
    "    --------\n",
    "    >>> a = np.arange(10)\n",
    "    >>> np.clip(a, 1, 8)\n",
    "    array([1, 1, 2, 3, 4, 5, 6, 7, 8, 8])\n",
    "    >>> a\n",
    "    array([0, 1, 2, 3, 4, 5, 6, 7, 8, 9])\n",
    "    >>> np.clip(a, 3, 6, out=a)\n",
    "    array([3, 3, 3, 3, 4, 5, 6, 6, 6, 6])\n",
    "    >>> a = np.arange(10)\n",
    "    >>> a\n",
    "    array([0, 1, 2, 3, 4, 5, 6, 7, 8, 9])\n",
    "    >>> np.clip(a, [3,4,1,1,1,4,4,4,4,4], 8)\n",
    "    array([3, 4, 2, 3, 4, 5, 6, 7, 8, 8]\n",
    "```"
   ]
  },
  {
   "cell_type": "markdown",
   "metadata": {
    "collapsed": true
   },
   "source": [
    "### `np.diag()`: \n",
    "- If arguments entered are a 1 D array / list  of n scalars (a, b, c, ...), then returns a n dimensional diagonal matrix with a,b,c, ... as the diagonal and all other elements as 0. \n",
    "- If argument enters is an ndarray, it returns the diagonal elements. ( top left- bottom right). \n"
   ]
  },
  {
   "cell_type": "markdown",
   "metadata": {
    "collapsed": true
   },
   "source": [
    "### [Masked Arrays](https://docs.scipy.org/doc/numpy-1.13.0/reference/maskedarray.generic.html): \n",
    "- Masked arrays are arrays that may have missing or invalid enteries. \n",
    "- The `numpy.ma` module provides a nerly work-alike replcement for numpy that supporta data arrats with masks. \n",
    "- __What is a masked array?__ \n",
    "     -  For example, a sensor may have failed to record a data, or recorded an invalid value. The `numpy.ma` module provides a convenient way to address this issue, by introducing masked arrays.\n",
    "     - A masked array is the combination of a standard `nump.ndarray` and a mask. A mask is either `nomask`, indicating that no value of the associated array is invalid, or an array of booleans that determines for each element if thge assdociated array whther the value is valdi or not. \n",
    "     - When an element of the mask is `False`, the corresponding element of the associated array is `valid` and is said to be` unmasked` . \n",
    "     - Similarly, when an element of the mask is `True`, the corresponding element of the associated array is `invalid` and is said to be `masked`. \n",
    "     - The package makes sure the masked enteries are not used in computations. \n",
    "    "
   ]
  },
  {
   "cell_type": "code",
   "execution_count": 3,
   "metadata": {
    "collapsed": true
   },
   "outputs": [],
   "source": [
    "x = np.array([1, 2, 3, -1, 5])"
   ]
  },
  {
   "cell_type": "markdown",
   "metadata": {},
   "source": [
    "- We wish to mark the fourth entry as invalid. The easiest thing is to create a masked array: "
   ]
  },
  {
   "cell_type": "code",
   "execution_count": 4,
   "metadata": {},
   "outputs": [
    {
     "data": {
      "text/plain": [
       "masked_array(data = [1 2 3 -- 5],\n",
       "             mask = [False False False  True False],\n",
       "       fill_value = 999999)"
      ]
     },
     "execution_count": 4,
     "metadata": {},
     "output_type": "execute_result"
    }
   ],
   "source": [
    "mx = np.ma.masked_array(x, mask = [0, 0, 0 , 1, 0])\n",
    "mx"
   ]
  },
  {
   "cell_type": "markdown",
   "metadata": {},
   "source": [
    "### `np.eye(n)`: \n",
    "- reutrns the an identity matrix of size n. "
   ]
  },
  {
   "cell_type": "markdown",
   "metadata": {},
   "source": [
    "### `np.ndarray.T`\n",
    "- Returns the transpose of the ndarray if ndarray's rank >= 2. \n",
    "- Returns the ndarray if rank < 2. "
   ]
  },
  {
   "cell_type": "markdown",
   "metadata": {},
   "source": [
    "### `np.append(ndarray, values, axis = None)`\n",
    "- Returns a copy of the array with values appended to the old array. \n",
    "- It does not do this operation in place, which used to be the case with python lists. \n"
   ]
  },
  {
   "cell_type": "code",
   "execution_count": 8,
   "metadata": {},
   "outputs": [
    {
     "data": {
      "text/plain": [
       "[1, 2, 3, 1]"
      ]
     },
     "execution_count": 8,
     "metadata": {},
     "output_type": "execute_result"
    }
   ],
   "source": [
    "list_ = [1,2,3]\n",
    "list_.append(1)\n",
    "list_"
   ]
  },
  {
   "cell_type": "code",
   "execution_count": 9,
   "metadata": {},
   "outputs": [
    {
     "data": {
      "text/plain": [
       "array([1, 2, 3])"
      ]
     },
     "execution_count": 9,
     "metadata": {},
     "output_type": "execute_result"
    }
   ],
   "source": [
    "array_ = np.array([1,2,3])\n",
    "np.append(array_, 1)\n",
    "array_ # Does not get modifies"
   ]
  },
  {
   "cell_type": "markdown",
   "metadata": {},
   "source": [
    "### [`ndarray[np.newaxis]`](https://stackoverflow.com/questions/29241056/the-use-of-python-numpy-newaxis)\n",
    "- Used to _increase the dimension_ of the existing array by one dimension, when used once. \n",
    "- "
   ]
  },
  {
   "cell_type": "markdown",
   "metadata": {
    "collapsed": true
   },
   "source": [
    "### `np.random.permutation(x)`\n",
    "- Randomly permutes a sequence, or returna permuted range. \n",
    "- If x is multi-dimensioal array, it is only shuffled along its first index. \n"
   ]
  },
  {
   "cell_type": "code",
   "execution_count": 3,
   "metadata": {
    "collapsed": true
   },
   "outputs": [],
   "source": [
    "# help(np.random.permutation)"
   ]
  },
  {
   "cell_type": "markdown",
   "metadata": {
    "collapsed": true
   },
   "source": [
    "### `np.unique()`"
   ]
  },
  {
   "cell_type": "markdown",
   "metadata": {},
   "source": [
    "### [`np.ndarray.all()`](https://docs.scipy.org/doc/numpy-1.10.4/reference/generated/numpy.all.html#numpy.all)"
   ]
  },
  {
   "cell_type": "markdown",
   "metadata": {
    "collapsed": true
   },
   "source": [
    "[__`np.ndarray.ravel()`__](https://docs.scipy.org/doc/numpy/reference/generated/numpy.ndarray.ravel.html)\n",
    "- Returns a flattened array. \n",
    "- A flattened array means a 1-D array containing the elements of the input. "
   ]
  },
  {
   "cell_type": "code",
   "execution_count": null,
   "metadata": {
    "collapsed": true
   },
   "outputs": [],
   "source": [
    "n"
   ]
  }
 ],
 "metadata": {
  "kernelspec": {
   "display_name": "Python 3",
   "language": "python",
   "name": "python3"
  },
  "language_info": {
   "codemirror_mode": {
    "name": "ipython",
    "version": 3
   },
   "file_extension": ".py",
   "mimetype": "text/x-python",
   "name": "python",
   "nbconvert_exporter": "python",
   "pygments_lexer": "ipython3",
   "version": "3.6.1"
  }
 },
 "nbformat": 4,
 "nbformat_minor": 2
}
